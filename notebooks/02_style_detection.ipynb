{
 "cells": [
  {
   "cell_type": "code",
   "execution_count": 1,
   "metadata": {},
   "outputs": [],
   "source": [
    "import sys\n",
    "\n",
    "sys.path.insert(0, \"..\")\n",
    "from src.settings import StyleSettings\n",
    "from src.data.data_tools import StyleDataset\n",
    "import numpy as np\n",
    "import seaborn as sns\n"
   ]
  },
  {
   "cell_type": "markdown",
   "metadata": {},
   "source": [
    "# Load the data"
   ]
  },
  {
   "cell_type": "code",
   "execution_count": 2,
   "metadata": {},
   "outputs": [],
   "source": [
    "settings = StyleSettings()\n",
    "traindataset = StyleDataset([settings.trainpath])\n",
    "testdataset = StyleDataset([settings.testpath])\n"
   ]
  },
  {
   "cell_type": "markdown",
   "metadata": {},
   "source": [
    "We have 419 batches in the dataset"
   ]
  },
  {
   "cell_type": "code",
   "execution_count": 3,
   "metadata": {},
   "outputs": [
    {
     "data": {
      "text/plain": [
       "419"
      ]
     },
     "execution_count": 3,
     "metadata": {},
     "output_type": "execute_result"
    }
   ],
   "source": [
    "len(traindataset) // 32\n"
   ]
  },
  {
   "cell_type": "code",
   "execution_count": 4,
   "metadata": {},
   "outputs": [
    {
     "data": {
      "text/plain": [
       "('Lace is an openwork fabric , patterned with open holes in the work , made by machine or by hand.',\n",
       " 'wiki')"
      ]
     },
     "execution_count": 4,
     "metadata": {},
     "output_type": "execute_result"
    }
   ],
   "source": [
    "x, y = traindataset[42]\n",
    "x, y\n"
   ]
  },
  {
   "cell_type": "markdown",
   "metadata": {},
   "source": [
    "Every batch is a `Tuple[str, str]` of a sentence and a label. We can see this is a classification task.\n",
    "The task is, to classify sentences in four categories.\n",
    "Lets build a vocabulary by copy-pasting the code we used before"
   ]
  },
  {
   "cell_type": "code",
   "execution_count": 5,
   "metadata": {},
   "outputs": [
    {
     "name": "stderr",
     "output_type": "stream",
     "text": [
      "2022-06-28 18:40:17.146 | INFO     | src.models.tokenizer:build_vocab:27 - Found 19306 tokens\n"
     ]
    },
    {
     "data": {
      "text/plain": [
       "19308"
      ]
     },
     "execution_count": 5,
     "metadata": {},
     "output_type": "execute_result"
    }
   ],
   "source": [
    "from src.models import tokenizer\n",
    "\n",
    "corpus = []\n",
    "for i in range(len(traindataset)):\n",
    "    x = tokenizer.clean(traindataset[i][0])\n",
    "    corpus.append(x)\n",
    "v = tokenizer.build_vocab(corpus, max=20000)\n",
    "len(v)\n"
   ]
  },
  {
   "cell_type": "markdown",
   "metadata": {},
   "source": [
    "We need to cast the labels to an integers. You can use this dictionary to do so:"
   ]
  },
  {
   "cell_type": "code",
   "execution_count": 6,
   "metadata": {},
   "outputs": [
    {
     "data": {
      "text/plain": [
       "2"
      ]
     },
     "execution_count": 6,
     "metadata": {},
     "output_type": "execute_result"
    }
   ],
   "source": [
    "d = {\"humor\": 0, \"reuters\": 1, \"wiki\": 2, \"proverbs\": 3}\n",
    "d[y]"
   ]
  },
  {
   "cell_type": "markdown",
   "metadata": {},
   "source": [
    "# Question 1\n",
    "Figure out, for every class, what accuracy you should expect if the model would guess blind on the train set"
   ]
  },
  {
   "cell_type": "code",
   "execution_count": 7,
   "metadata": {},
   "outputs": [
    {
     "data": {
      "text/plain": [
       "{'humor': 0.31414510476474533,\n",
       " 'wiki': 0.31175900380284843,\n",
       " 'proverbs': 0.06196405935426143,\n",
       " 'reuters': 0.3121318320781448}"
      ]
     },
     "execution_count": 7,
     "metadata": {},
     "output_type": "execute_result"
    }
   ],
   "source": [
    "import collections\n",
    "count_labels = collections.Counter([traindataset[i][1] for  i in range(len(traindataset))])\n",
    "{v: count_labels[v] / len(traindataset) for v in count_labels}\n",
    "# TODO ~ about 4 lines of code"
   ]
  },
  {
   "cell_type": "markdown",
   "metadata": {},
   "source": [
    "Reflect on what you see. What does this mean? What implications does this have? Why is that good/bad?\n",
    "Are there things down the line that could cause a problem?"
   ]
  },
  {
   "cell_type": "markdown",
   "metadata": {},
   "source": [
    "Naar voren komt is dat de dataset ongebalanceerd is. De verdeling van de 4 classes is niet gelijk. Het aantal zinnen met het label 'proverbs' is beduidend lager vergeleken met de andere 3 labels. De kans dat het de zin het label 'humor' of 'wiki'of 'reuters' heeft is veel groter. Het model kan hierdoor niet bruikbare features leren van de groep met het label 'proverbs'. Er is hierdoor een vergrote kans van overfitting.      "
   ]
  },
  {
   "cell_type": "markdown",
   "metadata": {},
   "source": [
    "# Question 2 : Implement a preprocessor\n",
    "\n",
    "We can inherit from `tokenizer.Preprocessor`\n",
    "Only thing we need to adjust is the `cast_label` function.\n",
    " \n",
    "- create a StylePreprocessor class\n",
    "- inherit from Preprocessor\n",
    "- create a new cast_label function for this dataset"
   ]
  },
  {
   "cell_type": "code",
   "execution_count": 8,
   "metadata": {},
   "outputs": [],
   "source": [
    "# TODO ~ about 4 lines of code\n",
    "class StylePreprocessor(tokenizer.Preprocessor):\n",
    "    \"A preprocessor with the cast_label function for adding the labels from the dictionary\"\n",
    "    def cast_label(self, label: str) -> int:\n",
    "        if label in d.keys():\n",
    "            return d[label]"
   ]
  },
  {
   "cell_type": "markdown",
   "metadata": {},
   "source": [
    "To test the preprocessor:"
   ]
  },
  {
   "cell_type": "code",
   "execution_count": 10,
   "metadata": {},
   "outputs": [
    {
     "data": {
      "text/plain": [
       "(tensor([[4929,  854,   32,   15,  499,   21, 8496,  890]], dtype=torch.int32),\n",
       " tensor([2]))"
      ]
     },
     "execution_count": 10,
     "metadata": {},
     "output_type": "execute_result"
    }
   ],
   "source": [
    "preprocessor = StylePreprocessor(max=100, vocab=v, clean=tokenizer.clean)\n",
    "preprocessor([(x, y)])"
   ]
  },
  {
   "cell_type": "markdown",
   "metadata": {},
   "source": [
    "# Set up the model\n",
    "We can re-use the BaseDatastreamer"
   ]
  },
  {
   "cell_type": "code",
   "execution_count": 11,
   "metadata": {},
   "outputs": [],
   "source": [
    "from src.data import data_tools\n",
    "\n",
    "trainstreamer = data_tools.BaseDatastreamer(\n",
    "    dataset=traindataset, batchsize=32, preprocessor=preprocessor\n",
    ").stream()\n",
    "teststreamer = data_tools.BaseDatastreamer(\n",
    "    dataset=testdataset, batchsize=32, preprocessor=preprocessor\n",
    ").stream()\n"
   ]
  },
  {
   "cell_type": "code",
   "execution_count": 12,
   "metadata": {},
   "outputs": [
    {
     "data": {
      "text/plain": [
       "(torch.Size([32, 31]),\n",
       " tensor([1, 1, 0, 3, 2, 2, 0, 2, 0, 0, 2, 2, 2, 0, 1, 1, 1, 1, 2, 2, 2, 1, 0, 0,\n",
       "         2, 2, 0, 2, 0, 0, 0, 1]))"
      ]
     },
     "execution_count": 12,
     "metadata": {},
     "output_type": "execute_result"
    }
   ],
   "source": [
    "x, y = next(trainstreamer)\n",
    "x.shape, y\n"
   ]
  },
  {
   "cell_type": "markdown",
   "metadata": {},
   "source": [
    "## Question 3 : Metrics, loss\n",
    "Select proper metrics and a loss function.\n",
    "\n",
    "Bonus: implement an additional metric function that is relevant for this case."
   ]
  },
  {
   "cell_type": "code",
   "execution_count": 13,
   "metadata": {},
   "outputs": [],
   "source": [
    "from src.models import metrics\n",
    "import torch\n",
    "# TODO ~ 2 lines of code\n",
    "\n",
    "metrics = [metrics.Accuracy()]\n",
    "loss_fn = torch.nn.CrossEntropyLoss()\n"
   ]
  },
  {
   "cell_type": "markdown",
   "metadata": {},
   "source": [
    "Om te controleren of de uitkomst correct is gebruiken we de CrossEntropyloss. Deze is geschikt voor multiclass categorisatie. MSE kan bijvoorbeeld hier niet voor gebruiken aangezien dit juist is voor numerieke voorspellingen. \n",
    "De f1 score kijkt naar een gemiddele van de precisie en recall ( tussen 0 en 1) scores en kan worden gebruikt voor classificatie problemen. Deze wordt verder in het notebook toegevoegd, hierbij zie je namelijk ook een verandering van de confusion matrix. De F1 score kan gebruikt worden in ongebalanceerde datasets. \n",
    "MASE en MAE kunnen niet worden gebruikt i.v.m. classificatie probleem ?? Check. \n"
   ]
  },
  {
   "cell_type": "markdown",
   "metadata": {},
   "source": [
    "## Question 4 : Basemodel\n",
    "Create a base model. It does not need to be naive; you could re-use the\n",
    "NLP models we used for the IMDB.\n",
    "\n",
    "I suggest to start with a hidden size of about 128.\n",
    "Use a config dictionary, or a gin file, both are fine.\n",
    "\n",
    "Bonus points if you create a Trax model in src.models, and even more if you add a trax training loop."
   ]
  },
  {
   "cell_type": "code",
   "execution_count": 27,
   "metadata": {},
   "outputs": [],
   "source": [
    "\n",
    "log_dir = settings.log_dir\n",
    "# TODO between 2 and 8 lines of code, depending on your setup\n",
    "# Assuming you load your model in one line of code from src.models.rnn\n",
    "config = {\n",
    "    \"vocab\": len(v),\n",
    "    \"hidden_size\": 128,\n",
    "    \"num_layers\": 3, # check num_layers\n",
    "    \"dropout\": 0.1, # check dropout\n",
    "    \"output_size\": 4,\n",
    "}\n",
    "from src.models import rnn\n",
    "model = rnn.NLPmodel(config)\n"
   ]
  },
  {
   "cell_type": "markdown",
   "metadata": {},
   "source": [
    "Set up the trainloop.\n",
    "\n",
    "- Give the lenght of the traindataset, how many batches of 32 can you get out of it?\n",
    "- If you take a short amount of train_steps (eg 25) for every epoch, how many epochs do you need to cover the complete dataset?\n",
    "- What amount of epochs do you need to run the loop with trainsteps=25 to cover the complete traindataset once? \n",
    "- answer the questions above, and pick a reasonable epoch lenght\n",
    "\n",
    "Start with a default learning_rate of 1e-3 and an Adam optimizer."
   ]
  },
  {
   "cell_type": "code",
   "execution_count": 15,
   "metadata": {},
   "outputs": [
    {
     "data": {
      "text/plain": [
       "419.09375"
      ]
     },
     "execution_count": 15,
     "metadata": {},
     "output_type": "execute_result"
    }
   ],
   "source": [
    "len(traindataset)/32 # lengte traindataset gedeeld door de batchsize"
   ]
  },
  {
   "cell_type": "markdown",
   "metadata": {},
   "source": [
    "De lengte van de traindataset is 13.411. Hierbij kun je dus 420 batches maken van 32. "
   ]
  },
  {
   "cell_type": "code",
   "execution_count": 16,
   "metadata": {},
   "outputs": [
    {
     "data": {
      "text/plain": [
       "20.955"
      ]
     },
     "execution_count": 16,
     "metadata": {},
     "output_type": "execute_result"
    }
   ],
   "source": [
    "(len(traindataset) + len(testdataset)) / (32*25) # later nog checken"
   ]
  },
  {
   "cell_type": "markdown",
   "metadata": {},
   "source": [
    "De totale dataset heeft een lengte van 16.764. Om de hele datsaet te covereren zijn er 21 epochs nodig. Zijn eigenlijk dan 17 epoch niet voldoende ( zie train en dataloade langs elkaar). Check!!!"
   ]
  },
  {
   "cell_type": "code",
   "execution_count": 17,
   "metadata": {},
   "outputs": [
    {
     "data": {
      "text/plain": [
       "16.76375"
      ]
     },
     "execution_count": 17,
     "metadata": {},
     "output_type": "execute_result"
    }
   ],
   "source": [
    "len(traindataset) / (32*25)"
   ]
  },
  {
   "cell_type": "markdown",
   "metadata": {},
   "source": [
    "Om de totale triandatset te coveren zijn er mnimaal 17 epochs nodig op baiss van 25 train_steps.  "
   ]
  },
  {
   "cell_type": "code",
   "execution_count": 33,
   "metadata": {},
   "outputs": [
    {
     "name": "stderr",
     "output_type": "stream",
     "text": [
      "2022-06-27 10:34:08.011 | INFO     | src.data.data_tools:dir_add_timestamp:66 - Logging to ../tune/20220627-1034\n",
      "100%|██████████| 25/25 [00:04<00:00,  5.96it/s]\n",
      "2022-06-27 10:34:13.328 | INFO     | src.training.train_model:trainloop:164 - Epoch 0 train 1.3342 test 1.2710 metric ['0.3162']\n",
      "100%|██████████| 25/25 [00:03<00:00,  6.71it/s]\n",
      "2022-06-27 10:34:17.955 | INFO     | src.training.train_model:trainloop:164 - Epoch 1 train 1.2727 test 1.2295 metric ['0.3675']\n",
      "100%|██████████| 25/25 [00:02<00:00, 10.23it/s]\n",
      "2022-06-27 10:34:21.000 | INFO     | src.training.train_model:trainloop:164 - Epoch 2 train 1.2420 test 1.2283 metric ['0.3275']\n",
      "100%|██████████| 25/25 [00:01<00:00, 13.64it/s]\n",
      "2022-06-27 10:34:23.458 | INFO     | src.training.train_model:trainloop:164 - Epoch 3 train 1.0918 test 0.9830 metric ['0.5687']\n",
      "100%|██████████| 25/25 [00:02<00:00, 10.67it/s]\n",
      "2022-06-27 10:34:26.504 | INFO     | src.training.train_model:trainloop:164 - Epoch 4 train 0.9370 test 0.9132 metric ['0.5350']\n",
      "100%|██████████| 25/25 [00:02<00:00,  9.79it/s]\n",
      "2022-06-27 10:34:29.726 | INFO     | src.training.train_model:trainloop:164 - Epoch 5 train 0.8108 test 0.7051 metric ['0.7388']\n",
      "100%|██████████| 25/25 [00:02<00:00, 12.46it/s]\n",
      "2022-06-27 10:34:32.244 | INFO     | src.training.train_model:trainloop:164 - Epoch 6 train 0.6438 test 0.6641 metric ['0.7638']\n",
      "100%|██████████| 25/25 [00:01<00:00, 12.59it/s]\n",
      "2022-06-27 10:34:34.903 | INFO     | src.training.train_model:trainloop:164 - Epoch 7 train 0.6208 test 0.6039 metric ['0.7762']\n",
      "100%|██████████| 25/25 [00:02<00:00,  9.66it/s]\n",
      "2022-06-27 10:34:38.130 | INFO     | src.training.train_model:trainloop:164 - Epoch 8 train 0.6265 test 0.6010 metric ['0.7825']\n",
      "100%|██████████| 25/25 [00:02<00:00, 11.93it/s]\n",
      "2022-06-27 10:34:40.742 | INFO     | src.training.train_model:trainloop:164 - Epoch 9 train 0.5400 test 0.5039 metric ['0.8137']\n",
      "100%|██████████| 25/25 [00:02<00:00, 11.74it/s]\n",
      "2022-06-27 10:34:43.484 | INFO     | src.training.train_model:trainloop:164 - Epoch 10 train 0.4991 test 0.4828 metric ['0.8275']\n",
      "100%|██████████| 25/25 [00:02<00:00,  8.72it/s]\n",
      "2022-06-27 10:34:47.277 | INFO     | src.training.train_model:trainloop:164 - Epoch 11 train 0.5291 test 0.4795 metric ['0.8287']\n",
      "100%|██████████| 25/25 [00:02<00:00,  8.51it/s]\n",
      "2022-06-27 10:34:51.157 | INFO     | src.training.train_model:trainloop:164 - Epoch 12 train 0.5033 test 0.4684 metric ['0.8425']\n",
      "100%|██████████| 25/25 [00:02<00:00, 10.65it/s]\n",
      "2022-06-27 10:34:54.084 | INFO     | src.training.train_model:trainloop:164 - Epoch 13 train 0.4232 test 0.4149 metric ['0.8525']\n",
      "100%|██████████| 25/25 [00:01<00:00, 12.57it/s]\n",
      "2022-06-27 10:34:56.615 | INFO     | src.training.train_model:trainloop:164 - Epoch 14 train 0.4801 test 0.4568 metric ['0.8350']\n",
      "100%|██████████| 25/25 [00:02<00:00, 10.58it/s]\n",
      "2022-06-27 10:34:59.626 | INFO     | src.training.train_model:trainloop:164 - Epoch 15 train 0.4415 test 0.4434 metric ['0.8400']\n",
      "100%|██████████| 25/25 [00:02<00:00, 12.19it/s]\n",
      "2022-06-27 10:35:02.151 | INFO     | src.training.train_model:trainloop:164 - Epoch 16 train 0.3669 test 0.4130 metric ['0.8512']\n",
      "100%|██████████| 25/25 [00:01<00:00, 12.73it/s]\n",
      "2022-06-27 10:35:04.688 | INFO     | src.training.train_model:trainloop:164 - Epoch 17 train 0.4102 test 0.4073 metric ['0.8675']\n",
      "100%|██████████| 25/25 [00:02<00:00, 10.67it/s]\n",
      "2022-06-27 10:35:07.821 | INFO     | src.training.train_model:trainloop:164 - Epoch 18 train 0.3619 test 0.3860 metric ['0.8575']\n",
      "100%|██████████| 25/25 [00:02<00:00,  9.75it/s]\n",
      "2022-06-27 10:35:10.985 | INFO     | src.training.train_model:trainloop:164 - Epoch 19 train 0.3493 test 0.3815 metric ['0.8575']\n",
      "100%|██████████| 25/25 [00:02<00:00,  9.72it/s]\n",
      "2022-06-27 10:35:14.378 | INFO     | src.training.train_model:trainloop:164 - Epoch 20 train 0.3637 test 0.3560 metric ['0.8738']\n",
      "100%|██████████| 21/21 [01:06<00:00,  3.16s/it]\n"
     ]
    }
   ],
   "source": [
    "from src.training import train_model\n",
    "\n",
    "model = train_model.trainloop(\n",
    "    epochs=21,\n",
    "    model=model,\n",
    "    metrics=metrics,\n",
    "    optimizer=torch.optim.Adam,\n",
    "    learning_rate=1e-3,\n",
    "    loss_fn=loss_fn,\n",
    "    train_dataloader=trainstreamer,\n",
    "    test_dataloader=teststreamer,\n",
    "    log_dir=log_dir,\n",
    "    train_steps=25,\n",
    "    eval_steps=25,\n",
    ")\n"
   ]
  },
  {
   "cell_type": "markdown",
   "metadata": {},
   "source": [
    "Save an image from the training in tensorboard in the `figures` folder.\n",
    "Explain what you are seeing."
   ]
  },
  {
   "cell_type": "markdown",
   "metadata": {},
   "source": [
    "your explanation here"
   ]
  },
  {
   "cell_type": "markdown",
   "metadata": {},
   "source": [
    "# 5 Evaluate the basemodel\n",
    "Create a confusion matrix with the code below"
   ]
  },
  {
   "cell_type": "code",
   "execution_count": 34,
   "metadata": {},
   "outputs": [
    {
     "data": {
      "text/plain": [
       "[Text(0.5, 15.0, 'Predicted'), Text(33.0, 0.5, 'Target')]"
      ]
     },
     "execution_count": 34,
     "metadata": {},
     "output_type": "execute_result"
    },
    {
     "data": {
      "image/png": "[encoded data removed]",
      "text/plain": [
       "<Figure size 432x288 with 2 Axes>"
      ]
     },
     "metadata": {
      "needs_background": "light"
     },
     "output_type": "display_data"
    }
   ],
   "source": [
    "from sklearn.metrics import confusion_matrix\n",
    "\n",
    "y_true = []\n",
    "y_pred = []\n",
    "\n",
    "for _ in range(10):\n",
    "    X, y = next(teststreamer)\n",
    "    yhat = model(X)\n",
    "    yhat = yhat.argmax(dim=1)\n",
    "    y_pred.append(yhat.tolist())\n",
    "    y_true.append(y.tolist())\n",
    "\n",
    "yhat = [x for y in y_pred for x in y]\n",
    "y = [x for y in y_true for x in y]\n",
    "\n",
    "cfm = confusion_matrix(y, yhat)\n",
    "cfm_norm = cfm / np.sum(cfm, axis=1, keepdims=True)\n",
    "plot = sns.heatmap(cfm_norm, annot=cfm_norm, fmt=\".3f\")\n",
    "plot.set(xlabel=\"Predicted\", ylabel=\"Target\")\n"
   ]
  },
  {
   "cell_type": "markdown",
   "metadata": {},
   "source": [
    "Save this in the figures folder.\n",
    "Interpret this. \n",
    "\n",
    "- What is going on?\n",
    "- What is a good metric here?\n",
    "- how is your answer to Q1 relevant here?\n",
    "- Is there something you could do to fix/improve things, after you see these results?"
   ]
  },
  {
   "cell_type": "markdown",
   "metadata": {},
   "source": [
    "Je ziet hier de uitkomst tussen niet normale verdeling van de dataset. HIerbij is bijvoorbeeld de eerste cel, deze is predicted 0 en voor 96% is deze ook 0. Dit geldt dus niet voor groep 3, waarbij deze maar 48% ook groep 3 voorspelt. Label 3 is de groep 'proverbs, waarbij er een veel lager aantal van is.  Mogleijk datamodificeren zodat er meer data van die groep binnenkomt. Geen data weggooien. Misschien meer gewicht meegen aan de groep. De dataset is dus ongebalanceerd. Een mogelijkheid hiervoor is om data augmenting te gebruiken. Hierbij gaan we dus de data kunstmatig vergroten van de group 'proverbs'. Hierbij kun je meer gewicht toekennen aan de groep 'proverbers'. Dit zal invloed hebben op de likelihood dat een punt uit een klasse wordt getrokken, doordat je van een uniforme verdeling naar een multinomiale verdeling met gecontroleerde paremeters gaat. De F1Score zorgt ook voor een betere verhouding. Deze wordt toegevoegd aan de metrics en nogmaals wordt de confusion matrix uitgedraaid.    \n",
    " "
   ]
  },
  {
   "cell_type": "code",
   "execution_count": 19,
   "metadata": {},
   "outputs": [],
   "source": [
    "from src.models import metrics\n",
    "metrics = [metrics.Accuracy(), metrics.F1Score()]\n"
   ]
  },
  {
   "cell_type": "code",
   "execution_count": 36,
   "metadata": {},
   "outputs": [
    {
     "name": "stderr",
     "output_type": "stream",
     "text": [
      "2022-06-27 10:35:49.918 | INFO     | src.data.data_tools:dir_add_timestamp:66 - Logging to ../tune/20220627-1035\n",
      "100%|██████████| 25/25 [00:05<00:00,  4.30it/s]\n",
      "2022-06-27 10:35:56.843 | INFO     | src.training.train_model:trainloop:164 - Epoch 0 train 0.3135 test 0.4547 metric ['0.8425', '0.7374']\n",
      "100%|██████████| 25/25 [00:03<00:00,  7.73it/s]\n",
      "2022-06-27 10:36:00.930 | INFO     | src.training.train_model:trainloop:164 - Epoch 1 train 0.3201 test 0.4000 metric ['0.8475', '0.7491']\n",
      "100%|██████████| 25/25 [00:01<00:00, 13.04it/s]\n",
      "2022-06-27 10:36:03.339 | INFO     | src.training.train_model:trainloop:164 - Epoch 2 train 0.3073 test 0.3324 metric ['0.8875', '0.7798']\n",
      "100%|██████████| 25/25 [00:02<00:00, 10.60it/s]\n",
      "2022-06-27 10:36:06.536 | INFO     | src.training.train_model:trainloop:164 - Epoch 3 train 0.2691 test 0.3859 metric ['0.8738', '0.8199']\n",
      "100%|██████████| 25/25 [00:02<00:00,  9.85it/s]\n",
      "2022-06-27 10:36:09.869 | INFO     | src.training.train_model:trainloop:164 - Epoch 4 train 0.3691 test 0.3563 metric ['0.8688', '0.7835']\n",
      "100%|██████████| 25/25 [00:02<00:00, 11.27it/s]\n",
      "2022-06-27 10:36:12.658 | INFO     | src.training.train_model:trainloop:164 - Epoch 5 train 0.2771 test 0.3222 metric ['0.8875', '0.8164']\n",
      "100%|██████████| 25/25 [00:03<00:00,  7.22it/s]\n",
      "2022-06-27 10:36:16.777 | INFO     | src.training.train_model:trainloop:164 - Epoch 6 train 0.2606 test 0.3232 metric ['0.8825', '0.8262']\n",
      "100%|██████████| 25/25 [00:02<00:00, 10.43it/s]\n",
      "2022-06-27 10:36:19.878 | INFO     | src.training.train_model:trainloop:164 - Epoch 7 train 0.2287 test 0.3067 metric ['0.8912', '0.8204']\n",
      "100%|██████████| 25/25 [00:02<00:00, 11.74it/s]\n",
      "2022-06-27 10:36:23.104 | INFO     | src.training.train_model:trainloop:164 - Epoch 8 train 0.2844 test 0.3202 metric ['0.8838', '0.8318']\n",
      "100%|██████████| 25/25 [00:03<00:00,  7.80it/s]\n",
      "2022-06-27 10:36:26.991 | INFO     | src.training.train_model:trainloop:164 - Epoch 9 train 0.2718 test 0.3190 metric ['0.8738', '0.8142']\n",
      "100%|██████████| 25/25 [00:02<00:00, 10.66it/s]\n",
      "2022-06-27 10:36:30.043 | INFO     | src.training.train_model:trainloop:164 - Epoch 10 train 0.2374 test 0.3606 metric ['0.8700', '0.7853']\n",
      "100%|██████████| 25/25 [00:01<00:00, 12.50it/s]\n",
      "2022-06-27 10:36:32.611 | INFO     | src.training.train_model:trainloop:164 - Epoch 11 train 0.2674 test 0.3844 metric ['0.8688', '0.8118']\n",
      "100%|██████████| 25/25 [00:01<00:00, 14.91it/s]\n",
      "2022-06-27 10:36:34.813 | INFO     | src.training.train_model:trainloop:164 - Epoch 12 train 0.2244 test 0.3172 metric ['0.8988', '0.8417']\n",
      "100%|██████████| 25/25 [00:02<00:00, 10.40it/s]\n",
      "2022-06-27 10:36:38.054 | INFO     | src.training.train_model:trainloop:164 - Epoch 13 train 0.1896 test 0.3446 metric ['0.8850', '0.7908']\n",
      "100%|██████████| 25/25 [00:02<00:00, 11.03it/s]\n",
      "2022-06-27 10:36:40.897 | INFO     | src.training.train_model:trainloop:164 - Epoch 14 train 0.1781 test 0.3793 metric ['0.8650', '0.7969']\n",
      "100%|██████████| 25/25 [00:01<00:00, 12.86it/s]\n",
      "2022-06-27 10:36:43.337 | INFO     | src.training.train_model:trainloop:164 - Epoch 15 train 0.1863 test 0.3664 metric ['0.8738', '0.8146']\n",
      "100%|██████████| 25/25 [00:01<00:00, 14.07it/s]\n",
      "2022-06-27 10:36:45.834 | INFO     | src.training.train_model:trainloop:164 - Epoch 16 train 0.1828 test 0.3478 metric ['0.8750', '0.7817']\n",
      "100%|██████████| 25/25 [00:01<00:00, 13.82it/s]\n",
      "2022-06-27 10:36:48.192 | INFO     | src.training.train_model:trainloop:164 - Epoch 17 train 0.2018 test 0.3143 metric ['0.8888', '0.7990']\n",
      "100%|██████████| 25/25 [00:01<00:00, 13.84it/s]\n",
      "2022-06-27 10:36:50.601 | INFO     | src.training.train_model:trainloop:164 - Epoch 18 train 0.2266 test 0.4039 metric ['0.8625', '0.7700']\n",
      "100%|██████████| 25/25 [00:02<00:00, 12.06it/s]\n",
      "2022-06-27 10:36:53.266 | INFO     | src.training.train_model:trainloop:164 - Epoch 19 train 0.1817 test 0.5051 metric ['0.8337', '0.7620']\n",
      "100%|██████████| 25/25 [00:01<00:00, 13.45it/s]\n",
      "2022-06-27 10:36:55.717 | INFO     | src.training.train_model:trainloop:164 - Epoch 20 train 0.1764 test 0.4405 metric ['0.8512', '0.7828']\n",
      "100%|██████████| 21/21 [01:05<00:00,  3.13s/it]\n"
     ]
    }
   ],
   "source": [
    "from src.training import train_model\n",
    "\n",
    "model = train_model.trainloop(\n",
    "    epochs=21,\n",
    "    model=model,\n",
    "    metrics=metrics,\n",
    "    optimizer=torch.optim.Adam,\n",
    "    learning_rate=1e-3,\n",
    "    loss_fn=loss_fn,\n",
    "    train_dataloader=trainstreamer,\n",
    "    test_dataloader=teststreamer,\n",
    "    log_dir=log_dir,\n",
    "    train_steps=25,\n",
    "    eval_steps=25,\n",
    ")"
   ]
  },
  {
   "cell_type": "code",
   "execution_count": 40,
   "metadata": {},
   "outputs": [
    {
     "data": {
      "text/plain": [
       "[Text(0.5, 15.0, 'Predicted'), Text(33.0, 0.5, 'Target')]"
      ]
     },
     "execution_count": 40,
     "metadata": {},
     "output_type": "execute_result"
    },
    {
     "data": {
      "image/png": "[encoded data removed]",
      "text/plain": [
       "<Figure size 432x288 with 2 Axes>"
      ]
     },
     "metadata": {
      "needs_background": "light"
     },
     "output_type": "display_data"
    }
   ],
   "source": [
    "from sklearn.metrics import confusion_matrix\n",
    "\n",
    "y_true = []\n",
    "y_pred = []\n",
    "\n",
    "for _ in range(10):\n",
    "    X, y = next(teststreamer)\n",
    "    yhat = model(X)\n",
    "    yhat = yhat.argmax(dim=1)\n",
    "    y_pred.append(yhat.tolist())\n",
    "    y_true.append(y.tolist())\n",
    "\n",
    "yhat = [x for y in y_pred for x in y]\n",
    "y = [x for y in y_true for x in y]\n",
    "\n",
    "cfm = confusion_matrix(y, yhat)\n",
    "cfm_norm = cfm / np.sum(cfm, axis=1, keepdims=True)\n",
    "plot = sns.heatmap(cfm_norm, annot=cfm_norm, fmt=\".3f\")\n",
    "plot.set(xlabel=\"Predicted\", ylabel=\"Target\")\n"
   ]
  },
  {
   "cell_type": "markdown",
   "metadata": {},
   "source": [
    "Hierbij komt naar voren dat voor dat voor target 3 in ~75% van de gevallen als een 3 wordt voorspeld. Dit is beduidend hoger dan alleen gebruik te maken van de accurcy metric."
   ]
  },
  {
   "cell_type": "markdown",
   "metadata": {},
   "source": [
    "# 6 Tune the model\n",
    "Don't overdo this.\n",
    "More is not better.\n",
    "\n",
    "Bonus points for things like:\n",
    "- Attention layers\n",
    "- Trax architecture including a functioning training loop\n",
    "\n",
    "Keep it small! It's better to present 2 or 3 sane experiments that are structured and thought trough, than 25 random guesses. You can test more, but select 2 or 3 of the best alternatives you researched, with a rationale why this works better.\n",
    "\n",
    "Keep it concise; explain:\n",
    "- what you changed\n",
    "- why you thought that was a good idea  \n",
    "- what the impact was (visualise or numeric)\n",
    "- explain the impact\n",
    "\n",
    "You dont need to get a perfect score; curiousity driven research that fails is fine.\n",
    "The insight into what is happening is more important than the quantity.\n",
    "\n",
    "Keep logs of your settings;\n",
    "either use gin, or save configs, or both :)\n",
    "Store images in the `figures` folder."
   ]
  },
  {
   "cell_type": "code",
   "execution_count": null,
   "metadata": {},
   "outputs": [],
   "source": [
    "#filter groter maken, le groter maken ( is nu vrij klein) "
   ]
  },
  {
   "cell_type": "markdown",
   "metadata": {},
   "source": [
    "Hierbij hebben we een nieuwe class toegevoegd in de rnn models. Dit is de AttentionNLP > hierbij zit dus een attional layer tussen de GRU en linear. Dit zorgt voor meer context in het verhaal. In eerste instantie worden de huidige parameters ingesteld, hierbij wel de toevoeging van de F1 score.  "
   ]
  },
  {
   "cell_type": "code",
   "execution_count": 20,
   "metadata": {},
   "outputs": [],
   "source": [
    "model = rnn.AttentionNLP(config)"
   ]
  },
  {
   "cell_type": "markdown",
   "metadata": {},
   "source": [
    "20220625-0936 zonder attention layer\n",
    "20220625-0938 met attenlion layer. Zorg voor lagere loss en hogere accurcy. \n",
    "Nog to do learnin grate spelen en trains steps. "
   ]
  },
  {
   "cell_type": "markdown",
   "metadata": {},
   "source": [
    "test op meer filters om 12:05 > zorgt mogelijk over overfitting > telkens copies maken. Met meer filters wel hogere accurcy direct in het begin (20220625-0957). Filters verhogen naar 1024 (20220626-1115). Check hierna ook de confusion matrix. "
   ]
  },
  {
   "cell_type": "code",
   "execution_count": 39,
   "metadata": {},
   "outputs": [
    {
     "name": "stderr",
     "output_type": "stream",
     "text": [
      "2022-06-27 10:37:00.449 | INFO     | src.data.data_tools:dir_add_timestamp:66 - Logging to ../tune/20220627-1037\n",
      "100%|██████████| 25/25 [00:04<00:00,  5.40it/s]\n",
      "2022-06-27 10:37:06.209 | INFO     | src.training.train_model:trainloop:164 - Epoch 0 train 1.1913 test 1.1768 metric ['0.4625', '0.3238']\n",
      "100%|██████████| 25/25 [00:03<00:00,  7.89it/s]\n",
      "2022-06-27 10:37:09.973 | INFO     | src.training.train_model:trainloop:164 - Epoch 1 train 1.0034 test 0.9234 metric ['0.7063', '0.5576']\n",
      "100%|██████████| 25/25 [00:02<00:00, 11.75it/s]\n",
      "2022-06-27 10:37:12.768 | INFO     | src.training.train_model:trainloop:164 - Epoch 2 train 0.8046 test 0.6714 metric ['0.7650', '0.6072']\n",
      "100%|██████████| 25/25 [00:02<00:00, 10.65it/s]\n",
      "2022-06-27 10:37:15.808 | INFO     | src.training.train_model:trainloop:164 - Epoch 3 train 0.7855 test 0.6571 metric ['0.7612', '0.6294']\n",
      "100%|██████████| 25/25 [00:02<00:00, 10.79it/s]\n",
      "2022-06-27 10:37:18.735 | INFO     | src.training.train_model:trainloop:164 - Epoch 4 train 0.5958 test 0.5531 metric ['0.7925', '0.6355']\n",
      "100%|██████████| 25/25 [00:02<00:00, 12.19it/s]\n",
      "2022-06-27 10:37:21.463 | INFO     | src.training.train_model:trainloop:164 - Epoch 5 train 0.5518 test 0.5461 metric ['0.7925', '0.6514']\n",
      "100%|██████████| 25/25 [00:02<00:00, 10.66it/s]\n",
      "2022-06-27 10:37:24.411 | INFO     | src.training.train_model:trainloop:164 - Epoch 6 train 0.5967 test 0.5933 metric ['0.7863', '0.7172']\n",
      "100%|██████████| 25/25 [00:02<00:00,  8.97it/s]\n",
      "2022-06-27 10:37:28.005 | INFO     | src.training.train_model:trainloop:164 - Epoch 7 train 0.5338 test 0.4933 metric ['0.8287', '0.7013']\n",
      "100%|██████████| 25/25 [00:02<00:00, 10.73it/s]\n",
      "2022-06-27 10:37:31.321 | INFO     | src.training.train_model:trainloop:164 - Epoch 8 train 0.4489 test 0.4587 metric ['0.8287', '0.7546']\n",
      "100%|██████████| 25/25 [00:02<00:00,  9.67it/s]\n",
      "2022-06-27 10:37:34.722 | INFO     | src.training.train_model:trainloop:164 - Epoch 9 train 0.4432 test 0.4057 metric ['0.8413', '0.7247']\n",
      "100%|██████████| 25/25 [00:02<00:00, 10.72it/s]\n",
      "2022-06-27 10:37:37.649 | INFO     | src.training.train_model:trainloop:164 - Epoch 10 train 0.3919 test 0.4548 metric ['0.8425', '0.7564']\n",
      "100%|██████████| 25/25 [00:02<00:00, 12.31it/s]\n",
      "2022-06-27 10:37:40.311 | INFO     | src.training.train_model:trainloop:164 - Epoch 11 train 0.4161 test 0.4238 metric ['0.8438', '0.7488']\n",
      "100%|██████████| 25/25 [00:03<00:00,  7.79it/s]\n",
      "2022-06-27 10:37:44.472 | INFO     | src.training.train_model:trainloop:164 - Epoch 12 train 0.4045 test 0.3675 metric ['0.8612', '0.7966']\n",
      "100%|██████████| 25/25 [00:05<00:00,  4.66it/s]\n",
      "2022-06-27 10:37:50.915 | INFO     | src.training.train_model:trainloop:164 - Epoch 13 train 0.3149 test 0.4096 metric ['0.8525', '0.7466']\n",
      "100%|██████████| 25/25 [00:03<00:00,  7.48it/s]\n",
      "2022-06-27 10:37:55.138 | INFO     | src.training.train_model:trainloop:164 - Epoch 14 train 0.3850 test 0.3912 metric ['0.8550', '0.7703']\n",
      "100%|██████████| 25/25 [00:02<00:00, 11.94it/s]\n",
      "2022-06-27 10:37:57.947 | INFO     | src.training.train_model:trainloop:164 - Epoch 15 train 0.3490 test 0.3674 metric ['0.8650', '0.7849']\n",
      "100%|██████████| 25/25 [00:02<00:00,  9.68it/s]\n",
      "2022-06-27 10:38:01.440 | INFO     | src.training.train_model:trainloop:164 - Epoch 16 train 0.3376 test 0.4006 metric ['0.8562', '0.7712']\n",
      "100%|██████████| 25/25 [00:02<00:00,  9.60it/s]\n",
      "2022-06-27 10:38:04.946 | INFO     | src.training.train_model:trainloop:164 - Epoch 17 train 0.3491 test 0.3669 metric ['0.8688', '0.7990']\n",
      "100%|██████████| 25/25 [00:02<00:00, 11.90it/s]\n",
      "2022-06-27 10:38:07.606 | INFO     | src.training.train_model:trainloop:164 - Epoch 18 train 0.3060 test 0.3077 metric ['0.8812', '0.8158']\n",
      "100%|██████████| 25/25 [00:01<00:00, 12.71it/s]\n",
      "2022-06-27 10:38:10.220 | INFO     | src.training.train_model:trainloop:164 - Epoch 19 train 0.3177 test 0.3432 metric ['0.8838', '0.8193']\n",
      "100%|██████████| 25/25 [00:02<00:00, 10.22it/s]\n",
      "2022-06-27 10:38:13.457 | INFO     | src.training.train_model:trainloop:164 - Epoch 20 train 0.3053 test 0.3960 metric ['0.8575', '0.7559']\n",
      "100%|██████████| 21/21 [01:13<00:00,  3.48s/it]\n"
     ]
    }
   ],
   "source": [
    "from src.training import train_model\n",
    "\n",
    "model = train_model.trainloop(\n",
    "    epochs=21,\n",
    "    model=model,\n",
    "    metrics=metrics,\n",
    "    optimizer=torch.optim.Adam,\n",
    "    learning_rate=1e-3,\n",
    "    loss_fn=loss_fn,\n",
    "    train_dataloader=trainstreamer,\n",
    "    test_dataloader=teststreamer,\n",
    "    log_dir=log_dir,\n",
    "    train_steps=25,\n",
    "    eval_steps=25,\n",
    ")"
   ]
  },
  {
   "cell_type": "markdown",
   "metadata": {},
   "source": [
    "Het model met de attention zorgt voor een lagere loss en een hogere accuracy. De learning rate en de optizmier zijn erg afhankelijk van elkaar. De Adam optimzier stop niet direct bij een mogelijk laag punt, maar kijkt verder. Je ziet op het tensorboard dat de learning rate bij de attention layer nog stabiel blijft ondanks er een scheduler in het model zit (Check). Om deze reden wordt eerst het aantal epoch opgehoogd (36). Dit zorgt ook voor een verbetering > zie 20220627-1052 with epochs 36. Meer hidden layersx zorge niet zozeer voor een verbetering van het model (check waarom). Controle aantal trainings steps groter dan batchsize. "
   ]
  },
  {
   "cell_type": "markdown",
   "metadata": {},
   "source": [
    " veel train_ steps kan leiden tot overfitting > zie test loss. Te hoge learning rate geeft juist een verslechtering van de accuracy. Een te lage le ( bv le4 ) geeft juist een hoge loss. \n",
    " "
   ]
  },
  {
   "cell_type": "markdown",
   "metadata": {},
   "source": [
    "Te"
   ]
  },
  {
   "cell_type": "code",
   "execution_count": null,
   "metadata": {},
   "outputs": [],
   "source": []
  },
  {
   "cell_type": "code",
   "execution_count": null,
   "metadata": {},
   "outputs": [],
   "source": []
  },
  {
   "cell_type": "code",
   "execution_count": 32,
   "metadata": {},
   "outputs": [
    {
     "name": "stderr",
     "output_type": "stream",
     "text": [
      "2022-06-28 19:24:48.984 | INFO     | src.data.data_tools:dir_add_timestamp:66 - Logging to ../tune/20220628-1924\n",
      "100%|██████████| 25/25 [00:03<00:00,  6.85it/s]\n",
      "2022-06-28 19:24:53.810 | INFO     | src.training.train_model:trainloop:164 - Epoch 0 train 1.8208 test 1.8129 metric ['0.3575', '0.2941']\n",
      "100%|██████████| 25/25 [00:02<00:00,  8.94it/s]\n",
      "2022-06-28 19:24:57.189 | INFO     | src.training.train_model:trainloop:164 - Epoch 1 train 1.8740 test 1.8595 metric ['0.3488', '0.2778']\n",
      "100%|██████████| 25/25 [00:03<00:00,  7.91it/s]\n",
      "2022-06-28 19:25:01.244 | INFO     | src.training.train_model:trainloop:164 - Epoch 2 train 1.8621 test 1.9691 metric ['0.3075', '0.2450']\n",
      "100%|██████████| 25/25 [00:02<00:00,  9.74it/s]\n",
      "2022-06-28 19:25:04.500 | INFO     | src.training.train_model:trainloop:164 - Epoch 3 train 1.8646 test 1.8526 metric ['0.3463', '0.2682']\n",
      "100%|██████████| 25/25 [00:02<00:00, 11.45it/s]\n",
      "2022-06-28 19:25:07.299 | INFO     | src.training.train_model:trainloop:164 - Epoch 4 train 1.9042 test 1.7944 metric ['0.3525', '0.2769']\n",
      "100%|██████████| 25/25 [00:01<00:00, 13.76it/s]\n",
      "2022-06-28 19:25:09.701 | INFO     | src.training.train_model:trainloop:164 - Epoch 5 train 1.8624 test 1.9681 metric ['0.3063', '0.2516']\n",
      "100%|██████████| 25/25 [00:01<00:00, 12.62it/s]\n",
      "2022-06-28 19:25:12.371 | INFO     | src.training.train_model:trainloop:164 - Epoch 6 train 1.8687 test 1.7811 metric ['0.3575', '0.2924']\n",
      "100%|██████████| 25/25 [00:02<00:00, 10.27it/s]\n",
      "2022-06-28 19:25:15.536 | INFO     | src.training.train_model:trainloop:164 - Epoch 7 train 1.8100 test 1.8457 metric ['0.3488', '0.2800']\n",
      "100%|██████████| 25/25 [00:02<00:00, 12.50it/s]\n",
      "2022-06-28 19:25:18.419 | INFO     | src.training.train_model:trainloop:164 - Epoch 8 train 1.9501 test 1.7735 metric ['0.3663', '0.2922']\n",
      "100%|██████████| 25/25 [00:02<00:00, 10.29it/s]\n",
      "2022-06-28 19:25:21.492 | INFO     | src.training.train_model:trainloop:164 - Epoch 9 train 1.8296 test 1.7528 metric ['0.3688', '0.3002']\n",
      "100%|██████████| 25/25 [00:02<00:00, 11.69it/s]\n",
      "2022-06-28 19:25:24.238 | INFO     | src.training.train_model:trainloop:164 - Epoch 10 train 1.8952 test 1.7997 metric ['0.3475', '0.2711']\n",
      "100%|██████████| 25/25 [00:01<00:00, 14.41it/s]\n",
      "2022-06-28 19:25:26.579 | INFO     | src.training.train_model:trainloop:164 - Epoch 11 train 1.8871 test 1.8586 metric ['0.3137', '0.2427']\n",
      "100%|██████████| 25/25 [00:01<00:00, 13.07it/s]\n",
      "2022-06-28 19:25:29.413 | INFO     | src.training.train_model:trainloop:164 - Epoch 12 train 1.7858 test 1.8223 metric ['0.3212', '0.2674']\n",
      "100%|██████████| 25/25 [00:02<00:00,  9.22it/s]\n",
      "2022-06-28 19:25:33.030 | INFO     | src.training.train_model:trainloop:164 - Epoch 13 train 1.9701 test 1.8227 metric ['0.3237', '0.2552']\n",
      "100%|██████████| 25/25 [00:02<00:00, 12.30it/s]\n",
      "2022-06-28 19:25:35.660 | INFO     | src.training.train_model:trainloop:164 - Epoch 14 train 1.8143 test 1.8147 metric ['0.3212', '0.2549']\n",
      "100%|██████████| 25/25 [00:01<00:00, 15.17it/s]\n",
      "2022-06-28 19:25:37.864 | INFO     | src.training.train_model:trainloop:164 - Epoch 15 train 1.7917 test 1.7512 metric ['0.3550', '0.2931']\n",
      "100%|██████████| 25/25 [00:02<00:00, 11.87it/s]\n",
      "2022-06-28 19:25:40.690 | INFO     | src.training.train_model:trainloop:164 - Epoch 16 train 1.7751 test 1.7870 metric ['0.3450', '0.2786']\n",
      "100%|██████████| 25/25 [00:02<00:00, 11.55it/s]\n",
      "2022-06-28 19:25:43.421 | INFO     | src.training.train_model:trainloop:164 - Epoch 17 train 1.9754 test 1.8824 metric ['0.2938', '0.2305']\n",
      "100%|██████████| 25/25 [00:01<00:00, 14.15it/s]\n",
      "2022-06-28 19:25:45.815 | INFO     | src.training.train_model:trainloop:164 - Epoch 18 train 1.7681 test 1.7574 metric ['0.3300', '0.2552']\n",
      "100%|██████████| 25/25 [00:01<00:00, 13.55it/s]\n",
      "2022-06-28 19:25:48.384 | INFO     | src.training.train_model:trainloop:164 - Epoch 19 train 1.7758 test 1.7250 metric ['0.3812', '0.3130']\n",
      "100%|██████████| 25/25 [00:02<00:00, 10.91it/s]\n",
      "2022-06-28 19:25:51.360 | INFO     | src.training.train_model:trainloop:164 - Epoch 20 train 1.8052 test 1.8225 metric ['0.3200', '0.2460']\n",
      "100%|██████████| 25/25 [00:02<00:00, 10.60it/s]\n",
      "2022-06-28 19:25:54.429 | INFO     | src.training.train_model:trainloop:164 - Epoch 21 train 1.8366 test 1.6849 metric ['0.3438', '0.2836']\n",
      "100%|██████████| 25/25 [00:01<00:00, 13.82it/s]\n",
      "2022-06-28 19:25:56.889 | INFO     | src.training.train_model:trainloop:164 - Epoch 22 train 1.8415 test 1.8099 metric ['0.3287', '0.2611']\n",
      "100%|██████████| 25/25 [00:01<00:00, 12.77it/s]\n",
      "2022-06-28 19:25:59.394 | INFO     | src.training.train_model:trainloop:164 - Epoch 23 train 1.8203 test 1.7419 metric ['0.3287', '0.2618']\n",
      "100%|██████████| 25/25 [00:02<00:00, 11.94it/s]\n",
      "2022-06-28 19:26:02.400 | INFO     | src.training.train_model:trainloop:164 - Epoch 24 train 1.6303 test 1.7584 metric ['0.3300', '0.2626']\n",
      "100%|██████████| 25/25 [00:02<00:00, 10.92it/s]\n",
      "2022-06-28 19:26:05.540 | INFO     | src.training.train_model:trainloop:164 - Epoch 25 train 1.7674 test 1.7901 metric ['0.3550', '0.2712']\n",
      "100%|██████████| 25/25 [00:02<00:00, 10.99it/s]\n",
      "2022-06-28 19:26:08.600 | INFO     | src.training.train_model:trainloop:164 - Epoch 26 train 1.8611 test 1.7619 metric ['0.3325', '0.2830']\n",
      "100%|██████████| 25/25 [00:01<00:00, 13.11it/s]\n",
      "2022-06-28 19:26:11.494 | INFO     | src.training.train_model:trainloop:164 - Epoch 27 train 1.7618 test 1.6603 metric ['0.3750', '0.2900']\n",
      "100%|██████████| 25/25 [00:02<00:00, 11.31it/s]\n",
      "2022-06-28 19:26:14.258 | INFO     | src.training.train_model:trainloop:164 - Epoch 28 train 1.7675 test 1.7336 metric ['0.3225', '0.2490']\n",
      "100%|██████████| 25/25 [00:01<00:00, 15.71it/s]\n",
      "2022-06-28 19:26:16.462 | INFO     | src.training.train_model:trainloop:164 - Epoch 29 train 1.7798 test 1.7573 metric ['0.3375', '0.2608']\n",
      "100%|██████████| 25/25 [00:02<00:00, 10.65it/s]\n",
      "2022-06-28 19:26:19.426 | INFO     | src.training.train_model:trainloop:164 - Epoch 30 train 1.7461 test 1.6899 metric ['0.3550', '0.2904']\n",
      "100%|██████████| 25/25 [00:02<00:00, 12.37it/s]\n",
      "2022-06-28 19:26:22.189 | INFO     | src.training.train_model:trainloop:164 - Epoch 31 train 1.6419 test 1.6952 metric ['0.3237', '0.2532']\n",
      "100%|██████████| 25/25 [00:01<00:00, 13.98it/s]\n",
      "2022-06-28 19:26:24.688 | INFO     | src.training.train_model:trainloop:164 - Epoch 32 train 1.7672 test 1.7495 metric ['0.3287', '0.2545']\n",
      "100%|██████████| 25/25 [00:02<00:00, 10.87it/s]\n",
      "2022-06-28 19:26:27.762 | INFO     | src.training.train_model:trainloop:164 - Epoch 33 train 1.7352 test 1.6657 metric ['0.3475', '0.2771']\n",
      "100%|██████████| 25/25 [00:01<00:00, 14.40it/s]\n",
      "2022-06-28 19:26:30.085 | INFO     | src.training.train_model:trainloop:164 - Epoch 34 train 1.7028 test 1.7915 metric ['0.3225', '0.2625']\n",
      "100%|██████████| 25/25 [00:01<00:00, 14.24it/s]\n",
      "2022-06-28 19:26:32.426 | INFO     | src.training.train_model:trainloop:164 - Epoch 35 train 1.7319 test 1.6683 metric ['0.3400', '0.2743']\n",
      "100%|██████████| 36/36 [01:43<00:00,  2.87s/it]\n"
     ]
    }
   ],
   "source": [
    "from src.training import train_model\n",
    "\n",
    "model = train_model.trainloop(\n",
    "    epochs=36,\n",
    "    model=model,\n",
    "    metrics=metrics,\n",
    "    optimizer=torch.optim.Adam,\n",
    "    learning_rate=1e-3,\n",
    "    loss_fn=loss_fn,\n",
    "    train_dataloader=trainstreamer,\n",
    "    test_dataloader=teststreamer,\n",
    "    log_dir=log_dir,\n",
    "    train_steps=25,\n",
    "    eval_steps=25,\n",
    ")"
   ]
  }
 ],
 "metadata": {
  "kernelspec": {
   "display_name": "Python 3.9.12 ('exam-22-DDG3aTJy-py3.9')",
   "language": "python",
   "name": "python3"
  },
  "language_info": {
   "codemirror_mode": {
    "name": "ipython",
    "version": 3
   },
   "file_extension": ".py",
   "mimetype": "text/x-python",
   "name": "python",
   "nbconvert_exporter": "python",
   "pygments_lexer": "ipython3",
   "version": "3.9.12"
  },
  "orig_nbformat": 4,
  "vscode": {
   "interpreter": {
    "hash": "3ef7eee7c1ffccdb050f8336de9a04a9ab88c4d3eb3bee3e0a27c87a184d1d38"
   }
  }
 },
 "nbformat": 4,
 "nbformat_minor": 2
}
