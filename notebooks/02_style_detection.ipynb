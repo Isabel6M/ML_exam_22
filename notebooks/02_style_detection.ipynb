{
 "cells": [
  {
   "cell_type": "code",
   "execution_count": 1,
   "metadata": {},
   "outputs": [],
   "source": [
    "import sys\n",
    "\n",
    "sys.path.insert(0, \"..\")\n",
    "from src.settings import StyleSettings\n",
    "from src.data.data_tools import StyleDataset\n",
    "import numpy as np\n",
    "import seaborn as sns\n"
   ]
  },
  {
   "cell_type": "markdown",
   "metadata": {},
   "source": [
    "# Load the data"
   ]
  },
  {
   "cell_type": "code",
   "execution_count": 2,
   "metadata": {},
   "outputs": [],
   "source": [
    "settings = StyleSettings()\n",
    "traindataset = StyleDataset([settings.trainpath])\n",
    "testdataset = StyleDataset([settings.testpath])\n"
   ]
  },
  {
   "cell_type": "markdown",
   "metadata": {},
   "source": [
    "We have 419 batches in the dataset"
   ]
  },
  {
   "cell_type": "code",
   "execution_count": 3,
   "metadata": {},
   "outputs": [
    {
     "data": {
      "text/plain": [
       "419"
      ]
     },
     "execution_count": 3,
     "metadata": {},
     "output_type": "execute_result"
    }
   ],
   "source": [
    "len(traindataset) // 32\n"
   ]
  },
  {
   "cell_type": "code",
   "execution_count": 4,
   "metadata": {},
   "outputs": [
    {
     "data": {
      "text/plain": [
       "('Lace is an openwork fabric , patterned with open holes in the work , made by machine or by hand.',\n",
       " 'wiki')"
      ]
     },
     "execution_count": 4,
     "metadata": {},
     "output_type": "execute_result"
    }
   ],
   "source": [
    "x, y = traindataset[42]\n",
    "x, y\n"
   ]
  },
  {
   "cell_type": "markdown",
   "metadata": {},
   "source": [
    "Every batch is a `Tuple[str, str]` of a sentence and a label. We can see this is a classification task.\n",
    "The task is, to classify sentences in four categories.\n",
    "Lets build a vocabulary by copy-pasting the code we used before"
   ]
  },
  {
   "cell_type": "code",
   "execution_count": 5,
   "metadata": {},
   "outputs": [
    {
     "name": "stderr",
     "output_type": "stream",
     "text": [
      "2022-06-23 11:03:42.695 | INFO     | src.models.tokenizer:build_vocab:27 - Found 19306 tokens\n"
     ]
    },
    {
     "data": {
      "text/plain": [
       "19308"
      ]
     },
     "execution_count": 5,
     "metadata": {},
     "output_type": "execute_result"
    }
   ],
   "source": [
    "from src.models import tokenizer\n",
    "\n",
    "corpus = []\n",
    "for i in range(len(traindataset)):\n",
    "    x = tokenizer.clean(traindataset[i][0])\n",
    "    corpus.append(x)\n",
    "v = tokenizer.build_vocab(corpus, max=20000)\n",
    "len(v)\n"
   ]
  },
  {
   "cell_type": "markdown",
   "metadata": {},
   "source": [
    "We need to cast the labels to an integers. You can use this dictionary to do so:"
   ]
  },
  {
   "cell_type": "code",
   "execution_count": 6,
   "metadata": {},
   "outputs": [
    {
     "data": {
      "text/plain": [
       "2"
      ]
     },
     "execution_count": 6,
     "metadata": {},
     "output_type": "execute_result"
    }
   ],
   "source": [
    "d = {\"humor\": 0, \"reuters\": 1, \"wiki\": 2, \"proverbs\": 3}\n",
    "d[y]"
   ]
  },
  {
   "cell_type": "markdown",
   "metadata": {},
   "source": [
    "# Question 1\n",
    "Figure out, for every class, what accuracy you should expect if the model would guess blind on the train set"
   ]
  },
  {
   "cell_type": "code",
   "execution_count": 7,
   "metadata": {},
   "outputs": [
    {
     "data": {
      "text/plain": [
       "{'humor': 0.31414510476474533,\n",
       " 'wiki': 0.31175900380284843,\n",
       " 'proverbs': 0.06196405935426143,\n",
       " 'reuters': 0.3121318320781448}"
      ]
     },
     "execution_count": 7,
     "metadata": {},
     "output_type": "execute_result"
    }
   ],
   "source": [
    "import collections\n",
    "count_labels = collections.Counter([traindataset[i][1] for  i in range(len(traindataset))])\n",
    "{v: count_labels[v] / len(traindataset) for v in count_labels}\n",
    "# TODO ~ about 4 lines of code"
   ]
  },
  {
   "cell_type": "markdown",
   "metadata": {},
   "source": [
    "Geen normaal verdeling > weinig voorbeelden, check embedding"
   ]
  },
  {
   "cell_type": "code",
   "execution_count": null,
   "metadata": {},
   "outputs": [],
   "source": []
  },
  {
   "cell_type": "markdown",
   "metadata": {},
   "source": [
    "Reflect on what you see. What does this mean? What implications does this have? Why is that good/bad?\n",
    "Are there things down the line that could cause a problem?"
   ]
  },
  {
   "cell_type": "markdown",
   "metadata": {},
   "source": [
    "# Question 2 : Implement a preprocessor\n",
    "\n",
    "We can inherit from `tokenizer.Preprocessor`\n",
    "Only thing we need to adjust is the `cast_label` function.\n",
    " \n",
    "- create a StylePreprocessor class\n",
    "- inherit from Preprocessor\n",
    "- create a new cast_label function for this dataset"
   ]
  },
  {
   "cell_type": "code",
   "execution_count": 8,
   "metadata": {},
   "outputs": [],
   "source": [
    "# TODO ~ about 4 lines of code\n",
    "class StylePreprocessor(tokenizer.Preprocessor):\n",
    "    def cast_label(self, label: str) -> int:\n",
    "        if label in d.keys():\n",
    "            return d[label]"
   ]
  },
  {
   "cell_type": "markdown",
   "metadata": {},
   "source": [
    "To test the preprocessor:"
   ]
  },
  {
   "cell_type": "code",
   "execution_count": 9,
   "metadata": {},
   "outputs": [],
   "source": [
    "preprocessor = StylePreprocessor(max=100, vocab=v, clean=tokenizer.clean)\n",
    "x=preprocessor([(x, y)])"
   ]
  },
  {
   "cell_type": "code",
   "execution_count": 10,
   "metadata": {},
   "outputs": [
    {
     "data": {
      "text/plain": [
       "tensor(2)"
      ]
     },
     "execution_count": 10,
     "metadata": {},
     "output_type": "execute_result"
    }
   ],
   "source": [
    "x[1][0]"
   ]
  },
  {
   "cell_type": "markdown",
   "metadata": {},
   "source": [
    "# Set up the model\n",
    "We can re-use the BaseDatastreamer"
   ]
  },
  {
   "cell_type": "code",
   "execution_count": 11,
   "metadata": {},
   "outputs": [],
   "source": [
    "from src.data import data_tools\n",
    "\n",
    "trainstreamer = data_tools.BaseDatastreamer(\n",
    "    dataset=traindataset, batchsize=32, preprocessor=preprocessor\n",
    ").stream()\n",
    "teststreamer = data_tools.BaseDatastreamer(\n",
    "    dataset=testdataset, batchsize=32, preprocessor=preprocessor\n",
    ").stream()\n"
   ]
  },
  {
   "cell_type": "code",
   "execution_count": 12,
   "metadata": {},
   "outputs": [
    {
     "data": {
      "text/plain": [
       "tensor([[   50,  3807,     6,     2,  2422,   516,     8,  1162,    32,    98,\n",
       "             0,     0,     0,     0,     0,     0,     0,     0,     0,     0,\n",
       "             0,     0,     0,     0,     0,     0,     0,     0,     0,     0,\n",
       "             0],\n",
       "        [  336,  2136,    76,  5286,     5,     2,   597,     6,     2,   578,\n",
       "           315,     2,   344,    11,     2,   385,  2425,     0,     0,     0,\n",
       "             0,     0,     0,     0,     0,     0,     0,     0,     0,     0,\n",
       "             0],\n",
       "        [   25,  1824,    43,  8713,  9417,    61,     2,  4615,  2716,     5,\n",
       "             2,   388,  1744,     2,  4185,   785,     4,  5604,  3426,     0,\n",
       "             0,     0,     0,     0,     0,     0,     0,     0,     0,     0,\n",
       "             0],\n",
       "        [    9,    77,   117,    57,    47,  1735,     6,  4427,  9586,    59,\n",
       "           111,    37,    78,   242,     4,    89,     4,     2,  1314,     6,\n",
       "            13,     0,     0,     0,     0,     0,     0,     0,     0,     0,\n",
       "             0],\n",
       "        [    9,    12,    21,     2,  4848,    43,    36,   116,   804,   350,\n",
       "            51,     4,    42,     7,   174,     4,  1552,    54,  1579,    59,\n",
       "             9,  2829,    54,    67,     0,     0,     0,     0,     0,     0,\n",
       "             0],\n",
       "        [   22,   971,   100,    25,   111,     8,    19,    45, 11706,  1459,\n",
       "             0,     0,     0,     0,     0,     0,     0,     0,     0,     0,\n",
       "             0,     0,     0,     0,     0,     0,     0,     0,     0,     0,\n",
       "             0],\n",
       "        [ 6915,     8,    15,     6,     2,    50,   129,  9994,     6,     2,\n",
       "            24,  2935,  9995,  6915,  9996,     7,  3771,     0,     0,     0,\n",
       "             0,     0,     0,     0,     0,     0,     0,     0,     0,     0,\n",
       "             0],\n",
       "        [  110,   413,  2508,     4,   588,   608,  3040,    17,   158,  2981,\n",
       "            90,     0,     0,     0,     0,     0,     0,     0,     0,     0,\n",
       "             0,     0,     0,     0,     0,     0,     0,     0,     0,     0,\n",
       "             0],\n",
       "        [    2,   823,   581,    47,  3424,     6,    15,   257,  5438,   246,\n",
       "         11354,     0,     0,     0,     0,     0,     0,     0,     0,     0,\n",
       "             0,     0,     0,     0,     0,     0,     0,     0,     0,     0,\n",
       "             0],\n",
       "        [   18,   244,   742,    46,    63,   384,     3,  2801,    41,    53,\n",
       "           165,    96,   332,  4770,     0,     0,     0,     0,     0,     0,\n",
       "             0,     0,     0,     0,     0,     0,     0,     0,     0,     0,\n",
       "             0],\n",
       "        [    5,     2,   293,  5294,   512,     2,   116,    70,  4795,     2,\n",
       "          4834, 18609,   723,   248,     2,  3203,     8,     2, 18610,     0,\n",
       "             0,     0,     0,     0,     0,     0,     0,     0,     0,     0,\n",
       "             0],\n",
       "        [   57,    65,  4950,  1056,   592,     5,   639,    10,   358,   449,\n",
       "            21,     2,   398,  1294,    10,     2,   532,     0,     0,     0,\n",
       "             0,     0,     0,     0,     0,     0,     0,     0,     0,     0,\n",
       "             0],\n",
       "        [ 1150,   528,   263,   391,  2496,     5,  8425,   104,   455,     0,\n",
       "             0,     0,     0,     0,     0,     0,     0,     0,     0,     0,\n",
       "             0,     0,     0,     0,     0,     0,     0,     0,     0,     0,\n",
       "             0],\n",
       "        [   33,    20,  3794,  6402,   959,    38, 13000,   239,     0,     0,\n",
       "             0,     0,     0,     0,     0,     0,     0,     0,     0,     0,\n",
       "             0,     0,     0,     0,     0,     0,     0,     0,     0,     0,\n",
       "             0],\n",
       "        [ 4825,   285,  7714,  2340,  1410,   264,   265,     5,  7131,     5,\n",
       "          3102, 11309,  2164,   867,     0,     0,     0,     0,     0,     0,\n",
       "             0,     0,     0,     0,     0,     0,     0,     0,     0,     0,\n",
       "             0],\n",
       "        [  952,   669,     4,   500,    68,   288,   229,  5443,    32, 13858,\n",
       "          2059,   655,     0,     0,     0,     0,     0,     0,     0,     0,\n",
       "             0,     0,     0,     0,     0,     0,     0,     0,     0,     0,\n",
       "             0],\n",
       "        [    9,   189,    18,   221, 17001,     5,     7,    83,    47,   269,\n",
       "          1071,   277,     0,     0,     0,     0,     0,     0,     0,     0,\n",
       "             0,     0,     0,     0,     0,     0,     0,     0,     0,     0,\n",
       "             0],\n",
       "        [ 1832,   254,    32,   441,  2045,    46,   369,  1859,  2321,    55,\n",
       "           841,     0,     0,     0,     0,     0,     0,     0,     0,     0,\n",
       "             0,     0,     0,     0,     0,     0,     0,     0,     0,     0,\n",
       "             0],\n",
       "        [ 3661,   110,   357,  4960,   555,   419,     5,  1930,    16,  4790,\n",
       "             0,     0,     0,     0,     0,     0,     0,     0,     0,     0,\n",
       "             0,     0,     0,     0,     0,     0,     0,     0,     0,     0,\n",
       "             0],\n",
       "        [  257,   474,  1602,     7, 10185,  4475,  1038,    27,  3822,  7028,\n",
       "            85,    47,   196,   100,   181,     6,     2,  2017,   176,     7,\n",
       "           196,  7029,     6,     3,  5441,    71, 10186,     0,     0,     0,\n",
       "             0],\n",
       "        [    2,    24,   204,     6,     2,  1597,    12, 10319,   136,    11,\n",
       "         10320,    10,    23,   449,    17,   381,     6,  2589,    20,  5509,\n",
       "          1488,  2375,     0,     0,     0,     0,     0,     0,     0,     0,\n",
       "             0],\n",
       "        [    9,   240,     4,     2,  1186,     2,    87,    72,     7,     9,\n",
       "            83,    27,    14,    95,   622,    10,  1023,    59,    22,   453,\n",
       "            42,     3,  6103,     0,     0,     0,     0,     0,     0,     0,\n",
       "             0],\n",
       "        [   64,    65,     2,  5317,  3420,    28,   807,    22,  1703,    28,\n",
       "          1147,   131,    13,    12,  1730,     0,     0,     0,     0,     0,\n",
       "             0,     0,     0,     0,     0,     0,     0,     0,     0,     0,\n",
       "             0],\n",
       "        [    2,   440,  3509,     6,  1691,   383,   827, 11317, 11318, 11319,\n",
       "           969,   383,     7,   729,   383,     0,     0,     0,     0,     0,\n",
       "             0,     0,     0,     0,     0,     0,     0,     0,     0,     0,\n",
       "             0],\n",
       "        [   13,     8,   100,   223,    10,    41, 13348, 13349,    21,  1691,\n",
       "           514,  1331,     4,  8663,     3,   618,     5,  1518,   551,    71,\n",
       "            92,    15,    21,     3,    40,     0,     0,     0,     0,     0,\n",
       "             0],\n",
       "        [ 6288,    36,  1487,  1373,  3618,    53,     3,   399,   893,  2367,\n",
       "          7108,     3,   374,     6,   192,     0,     0,     0,     0,     0,\n",
       "             0,     0,     0,     0,     0,     0,     0,     0,     0,     0,\n",
       "             0],\n",
       "        [  123,  1454,   955,   617,   782,  3232,    10,   821,     0,     0,\n",
       "             0,     0,     0,     0,     0,     0,     0,     0,     0,     0,\n",
       "             0,     0,     0,     0,     0,     0,     0,     0,     0,     0,\n",
       "             0],\n",
       "        [  345,   464,     5,  1403,  2467,    26, 16949,   511,  1274,  1498,\n",
       "          1631,  5123,     5,     3,  1334,     5,     2,   649,     0,     0,\n",
       "             0,     0,     0,     0,     0,     0,     0,     0,     0,     0,\n",
       "             0],\n",
       "        [  891,   939,  9859,  9524,   488,   110,  1205,   121, 18522,     0,\n",
       "             0,     0,     0,     0,     0,     0,     0,     0,     0,     0,\n",
       "             0,     0,     0,     0,     0,     0,     0,     0,     0,     0,\n",
       "             0],\n",
       "        [ 1523,  2494, 18803,  2155,  1312,     5,  6619,  1440,     0,     0,\n",
       "             0,     0,     0,     0,     0,     0,     0,     0,     0,     0,\n",
       "             0,     0,     0,     0,     0,     0,     0,     0,     0,     0,\n",
       "             0],\n",
       "        [   14,    69,   688,    71,  1258,    16,   892,    92,    16, 17519,\n",
       "             0,     0,     0,     0,     0,     0,     0,     0,     0,     0,\n",
       "             0,     0,     0,     0,     0,     0,     0,     0,     0,     0,\n",
       "             0],\n",
       "        [    2, 17548,   486,   803,     6,     2,    23,  4263,  1889,  4014,\n",
       "             2,  8931,     6,     2, 17549,     7,  2697, 17550,    90,    81,\n",
       "             3,   329,  3651,  1427,    10,     2,    24,    40,   300,  5695,\n",
       "          2317]], dtype=torch.int32)"
      ]
     },
     "execution_count": 12,
     "metadata": {},
     "output_type": "execute_result"
    }
   ],
   "source": [
    "x, y = next(trainstreamer)\n",
    "x.shape, y\n",
    "x"
   ]
  },
  {
   "cell_type": "markdown",
   "metadata": {},
   "source": [
    "## Question 3 : Metrics, loss\n",
    "Select proper metrics and a loss function.\n",
    "\n",
    "Bonus: implement an additional metric function that is relevant for this case."
   ]
  },
  {
   "cell_type": "code",
   "execution_count": 21,
   "metadata": {},
   "outputs": [],
   "source": [
    "from src.models import metrics\n",
    "import torch\n",
    "# TODO ~ 2 lines of code\n",
    "from torch.utils.data import DataLoader\n",
    "\n",
    "metrics = [metrics.F1Score()]\n",
    "#metrics = metrics.Accuracy()\n",
    "loss_fn = torch.nn.CrossEntropyLoss()\n"
   ]
  },
  {
   "cell_type": "markdown",
   "metadata": {},
   "source": [
    "Opbasis van theorie MASE en crossentropyloss(). Next step misschien mogelijk metrics 2 toevoegen. "
   ]
  },
  {
   "cell_type": "markdown",
   "metadata": {},
   "source": [
    "## Question 4 : Basemodel\n",
    "Create a base model. It does not need to be naive; you could re-use the\n",
    "NLP models we used for the IMDB.\n",
    "\n",
    "I suggest to start with a hidden size of about 128.\n",
    "Use a config dictionary, or a gin file, both are fine.\n",
    "\n",
    "Bonus points if you create a Trax model in src.models, and even more if you add a trax training loop."
   ]
  },
  {
   "cell_type": "code",
   "execution_count": 22,
   "metadata": {},
   "outputs": [],
   "source": [
    "\n",
    "log_dir = settings.log_dir\n",
    "# TODO between 2 and 8 lines of code, depending on your setup\n",
    "# Assuming you load your model in one line of code from src.models.rnn\n",
    "config = {\n",
    "    \"vocab\": len(v),\n",
    "    \"hidden_size\": 128,\n",
    "    \"num_layers\": 3, # check num_layers\n",
    "    \"dropout\": 0.1, # check dropout\n",
    "    \"output_size\": 4,\n",
    "}\n",
    "from src.models import rnn\n",
    "model = rnn.NLPmodel(config)\n"
   ]
  },
  {
   "cell_type": "markdown",
   "metadata": {},
   "source": [
    "Set up the trainloop.\n",
    "\n",
    "- Give the lenght of the traindataset, how many batches of 32 can you get out of it?\n",
    "- If you take a short amount of train_steps (eg 25) for every epoch, how many epochs do you need to cover the complete dataset?\n",
    "- What amount of epochs do you need to run the loop with trainsteps=25 to cover the complete traindataset once? \n",
    "- answer the questions above, and pick a reasonable epoch lenght\n",
    "\n",
    "Start with a default learning_rate of 1e-3 and an Adam optimizer."
   ]
  },
  {
   "cell_type": "code",
   "execution_count": 27,
   "metadata": {},
   "outputs": [
    {
     "data": {
      "text/plain": [
       "419.09375"
      ]
     },
     "execution_count": 27,
     "metadata": {},
     "output_type": "execute_result"
    }
   ],
   "source": [
    "len(traindataset) /32 # lengte traindataset gedeeld door de batchsize"
   ]
  },
  {
   "cell_type": "markdown",
   "metadata": {},
   "source": [
    "Dus je hebt 420 batches van 32"
   ]
  },
  {
   "cell_type": "code",
   "execution_count": 28,
   "metadata": {},
   "outputs": [
    {
     "data": {
      "text/plain": [
       "20.955"
      ]
     },
     "execution_count": 28,
     "metadata": {},
     "output_type": "execute_result"
    }
   ],
   "source": [
    "(len(traindataset) + len(testdataset)) / (32*25) # later nog checken"
   ]
  },
  {
   "cell_type": "markdown",
   "metadata": {},
   "source": [
    "21 epoches dus"
   ]
  },
  {
   "cell_type": "code",
   "execution_count": 31,
   "metadata": {},
   "outputs": [
    {
     "data": {
      "text/plain": [
       "419.09375"
      ]
     },
     "execution_count": 31,
     "metadata": {},
     "output_type": "execute_result"
    }
   ],
   "source": [
    "len(traindataset) / (32)"
   ]
  },
  {
   "cell_type": "code",
   "execution_count": 32,
   "metadata": {},
   "outputs": [
    {
     "data": {
      "text/plain": [
       "16.8"
      ]
     },
     "execution_count": 32,
     "metadata": {},
     "output_type": "execute_result"
    }
   ],
   "source": [
    "420/25"
   ]
  },
  {
   "cell_type": "markdown",
   "metadata": {},
   "source": [
    "Minimaal 17 epochs dus. Hiervoor zou ik ook kiezen, aangezien de traindataset wordt getraind. "
   ]
  },
  {
   "cell_type": "code",
   "execution_count": 36,
   "metadata": {},
   "outputs": [
    {
     "name": "stderr",
     "output_type": "stream",
     "text": [
      "2022-06-23 11:41:27.905 | INFO     | src.data.data_tools:dir_add_timestamp:66 - Logging to ../tune/20220623-1141\n",
      "100%|██████████| 25/25 [00:08<00:00,  3.09it/s]\n",
      "2022-06-23 11:41:36.924 | INFO     | src.training.train_model:trainloop:164 - Epoch 0 train 0.1354 test 0.3015 metric ['0.8818']\n",
      "100%|██████████| 25/25 [00:02<00:00, 10.76it/s]\n",
      "2022-06-23 11:41:39.703 | INFO     | src.training.train_model:trainloop:164 - Epoch 1 train 0.0780 test 0.2836 metric ['0.8652']\n",
      "100%|██████████| 25/25 [00:01<00:00, 14.75it/s]\n",
      "2022-06-23 11:41:41.857 | INFO     | src.training.train_model:trainloop:164 - Epoch 2 train 0.1247 test 0.3483 metric ['0.8380']\n",
      "100%|██████████| 25/25 [00:02<00:00, 11.01it/s]\n",
      "2022-06-23 11:41:44.734 | INFO     | src.training.train_model:trainloop:164 - Epoch 3 train 0.0840 test 0.3248 metric ['0.8429']\n",
      "100%|██████████| 25/25 [00:02<00:00, 12.31it/s]\n",
      "2022-06-23 11:41:47.249 | INFO     | src.training.train_model:trainloop:164 - Epoch 4 train 0.1602 test 0.3172 metric ['0.8154']\n",
      "100%|██████████| 25/25 [00:02<00:00, 11.50it/s]\n",
      "2022-06-23 11:41:50.011 | INFO     | src.training.train_model:trainloop:164 - Epoch 5 train 0.1157 test 0.3312 metric ['0.8320']\n",
      "100%|██████████| 25/25 [00:02<00:00, 12.40it/s]\n",
      "2022-06-23 11:41:52.490 | INFO     | src.training.train_model:trainloop:164 - Epoch 6 train 0.1340 test 0.3490 metric ['0.8050']\n",
      "100%|██████████| 25/25 [00:02<00:00, 12.16it/s]\n",
      "2022-06-23 11:41:55.161 | INFO     | src.training.train_model:trainloop:164 - Epoch 7 train 0.1478 test 0.3373 metric ['0.8313']\n",
      "100%|██████████| 25/25 [00:02<00:00, 11.83it/s]\n",
      "2022-06-23 11:41:57.736 | INFO     | src.training.train_model:trainloop:164 - Epoch 8 train 0.1152 test 0.2981 metric ['0.8669']\n",
      "100%|██████████| 25/25 [00:02<00:00, 11.95it/s]\n",
      "2022-06-23 11:42:00.440 | INFO     | src.training.train_model:trainloop:164 - Epoch 9 train 0.1166 test 0.3112 metric ['0.8447']\n",
      "100%|██████████| 25/25 [00:01<00:00, 14.01it/s]\n",
      "2022-06-23 11:42:02.734 | INFO     | src.training.train_model:trainloop:164 - Epoch 10 train 0.1611 test 0.2941 metric ['0.8513']\n",
      "100%|██████████| 25/25 [00:01<00:00, 14.28it/s]\n",
      "2022-06-23 11:42:04.944 | INFO     | src.training.train_model:trainloop:164 - Epoch 11 train 0.1154 test 0.3011 metric ['0.8244']\n",
      "100%|██████████| 25/25 [00:01<00:00, 13.60it/s]\n",
      "2022-06-23 11:42:07.249 | INFO     | src.training.train_model:trainloop:164 - Epoch 12 train 0.1145 test 0.3323 metric ['0.8253']\n",
      "100%|██████████| 25/25 [00:01<00:00, 12.96it/s]\n",
      "2022-06-23 11:42:09.709 | INFO     | src.training.train_model:trainloop:164 - Epoch 13 train 0.1292 test 0.2783 metric ['0.8167']\n",
      "100%|██████████| 25/25 [00:01<00:00, 13.31it/s]\n",
      "2022-06-23 11:42:12.090 | INFO     | src.training.train_model:trainloop:164 - Epoch 14 train 0.1049 test 0.3770 metric ['0.8320']\n",
      "100%|██████████| 25/25 [00:01<00:00, 12.88it/s]\n",
      "2022-06-23 11:42:14.492 | INFO     | src.training.train_model:trainloop:164 - Epoch 15 train 0.1598 test 0.2636 metric ['0.8462']\n",
      "100%|██████████| 25/25 [00:01<00:00, 15.50it/s]\n",
      "2022-06-23 11:42:16.567 | INFO     | src.training.train_model:trainloop:164 - Epoch 16 train 0.0935 test 0.3119 metric ['0.8301']\n",
      "100%|██████████| 25/25 [00:01<00:00, 15.54it/s]\n",
      "2022-06-23 11:42:18.831 | INFO     | src.training.train_model:trainloop:164 - Epoch 17 train 0.0677 test 0.2320 metric ['0.8859']\n",
      "100%|██████████| 25/25 [00:01<00:00, 14.00it/s]\n",
      "2022-06-23 11:42:21.311 | INFO     | src.training.train_model:trainloop:164 - Epoch 18 train 0.0371 test 0.2497 metric ['0.8785']\n",
      "100%|██████████| 25/25 [00:01<00:00, 12.66it/s]\n",
      "2022-06-23 11:42:23.744 | INFO     | src.training.train_model:trainloop:164 - Epoch 19 train 0.0426 test 0.4008 metric ['0.8244']\n",
      "100%|██████████| 25/25 [00:01<00:00, 14.89it/s]\n",
      "2022-06-23 11:42:25.897 | INFO     | src.training.train_model:trainloop:164 - Epoch 20 train 0.0869 test 0.2471 metric ['0.8509']\n",
      "100%|██████████| 25/25 [00:01<00:00, 15.51it/s]\n",
      "2022-06-23 11:42:27.964 | INFO     | src.training.train_model:trainloop:164 - Epoch 21 train 0.0647 test 0.3873 metric ['0.8020']\n",
      "100%|██████████| 25/25 [00:02<00:00, 10.97it/s]\n",
      "2022-06-23 11:42:30.988 | INFO     | src.training.train_model:trainloop:164 - Epoch 22 train 0.0722 test 0.3149 metric ['0.8480']\n",
      "100%|██████████| 25/25 [00:02<00:00,  9.60it/s]\n",
      "2022-06-23 11:42:34.045 | INFO     | src.training.train_model:trainloop:164 - Epoch 23 train 0.0564 test 0.3219 metric ['0.8355']\n",
      "100%|██████████| 25/25 [00:01<00:00, 14.32it/s]\n",
      "2022-06-23 11:42:36.317 | INFO     | src.training.train_model:trainloop:164 - Epoch 24 train 0.0669 test 0.2858 metric ['0.8447']\n",
      "100%|██████████| 25/25 [00:01<00:00, 13.51it/s]\n",
      "2022-06-23 11:42:38.677 | INFO     | src.training.train_model:trainloop:164 - Epoch 25 train 0.0728 test 0.2920 metric ['0.8766']\n",
      "100%|██████████| 25/25 [00:01<00:00, 13.53it/s]\n",
      "2022-06-23 11:42:41.059 | INFO     | src.training.train_model:trainloop:164 - Epoch 26 train 0.0607 test 0.3654 metric ['0.8141']\n",
      "100%|██████████| 25/25 [00:02<00:00, 11.54it/s]\n",
      "2022-06-23 11:42:43.770 | INFO     | src.training.train_model:trainloop:164 - Epoch 27 train 0.0894 test 0.3181 metric ['0.8460']\n",
      "100%|██████████| 25/25 [00:01<00:00, 14.47it/s]\n",
      "2022-06-23 11:42:45.979 | INFO     | src.training.train_model:trainloop:164 - Epoch 28 train 0.0763 test 0.3367 metric ['0.8222']\n",
      "100%|██████████| 25/25 [00:01<00:00, 14.13it/s]\n",
      "2022-06-23 11:42:48.194 | INFO     | src.training.train_model:trainloop:164 - Epoch 29 train 0.0834 test 0.3588 metric ['0.8595']\n",
      "100%|██████████| 25/25 [00:01<00:00, 14.06it/s]\n",
      "2022-06-23 11:42:50.485 | INFO     | src.training.train_model:trainloop:164 - Epoch 30 train 0.0650 test 0.3811 metric ['0.8273']\n",
      "100%|██████████| 25/25 [00:02<00:00, 12.45it/s]\n",
      "2022-06-23 11:42:53.114 | INFO     | src.training.train_model:trainloop:164 - Epoch 31 train 0.0601 test 0.3050 metric ['0.8325']\n",
      "100%|██████████| 25/25 [00:01<00:00, 14.89it/s]\n",
      "2022-06-23 11:42:55.221 | INFO     | src.training.train_model:trainloop:164 - Epoch 32 train 0.0821 test 0.3181 metric ['0.8678']\n",
      "100%|██████████| 25/25 [00:01<00:00, 14.77it/s]\n",
      "2022-06-23 11:42:57.404 | INFO     | src.training.train_model:trainloop:164 - Epoch 33 train 0.1121 test 0.3177 metric ['0.8480']\n",
      "100%|██████████| 25/25 [00:01<00:00, 12.69it/s]\n",
      "2022-06-23 11:42:59.918 | INFO     | src.training.train_model:trainloop:164 - Epoch 34 train 0.0412 test 0.3266 metric ['0.8513']\n",
      "100%|██████████| 25/25 [00:01<00:00, 13.36it/s]\n",
      "2022-06-23 11:43:02.310 | INFO     | src.training.train_model:trainloop:164 - Epoch 35 train 0.0219 test 0.3345 metric ['0.8409']\n",
      "100%|██████████| 25/25 [00:02<00:00, 11.86it/s]\n",
      "2022-06-23 11:43:04.867 | INFO     | src.training.train_model:trainloop:164 - Epoch 36 train 0.0406 test 0.3336 metric ['0.8701']\n",
      "100%|██████████| 25/25 [00:01<00:00, 14.50it/s]\n",
      "2022-06-23 11:43:07.049 | INFO     | src.training.train_model:trainloop:164 - Epoch 37 train 0.0317 test 0.3864 metric ['0.7802']\n",
      "100%|██████████| 25/25 [00:01<00:00, 14.11it/s]\n",
      "2022-06-23 11:43:09.380 | INFO     | src.training.train_model:trainloop:164 - Epoch 38 train 0.0299 test 0.4369 metric ['0.8257']\n",
      "100%|██████████| 25/25 [00:01<00:00, 13.78it/s]\n",
      "2022-06-23 11:43:11.756 | INFO     | src.training.train_model:trainloop:164 - Epoch 39 train 0.0367 test 0.3324 metric ['0.8718']\n",
      "100%|██████████| 40/40 [01:43<00:00,  2.60s/it]\n"
     ]
    }
   ],
   "source": [
    "from src.training import train_model\n",
    "\n",
    "model = train_model.trainloop(\n",
    "    epochs=40,\n",
    "    model=model,\n",
    "    metrics=metrics,\n",
    "    optimizer=torch.optim.Adam,\n",
    "    learning_rate=1e-3,\n",
    "    loss_fn=loss_fn,\n",
    "    train_dataloader=trainstreamer,\n",
    "    test_dataloader=teststreamer,\n",
    "    log_dir=log_dir,\n",
    "    train_steps=25,\n",
    "    eval_steps=25,\n",
    ")\n"
   ]
  },
  {
   "cell_type": "markdown",
   "metadata": {},
   "source": [
    "Save an image from the training in tensorboard in the `figures` folder.\n",
    "Explain what you are seeing."
   ]
  },
  {
   "cell_type": "markdown",
   "metadata": {},
   "source": [
    "your explanation here"
   ]
  },
  {
   "cell_type": "markdown",
   "metadata": {},
   "source": [
    "# 5 Evaluate the basemodel\n",
    "Create a confusion matrix with the code below"
   ]
  },
  {
   "cell_type": "code",
   "execution_count": 38,
   "metadata": {},
   "outputs": [
    {
     "data": {
      "text/plain": [
       "[Text(0.5, 15.0, 'Predicted'), Text(33.0, 0.5, 'Target')]"
      ]
     },
     "execution_count": 38,
     "metadata": {},
     "output_type": "execute_result"
    },
    {
     "data": {
      "image/png": "[encoded data removed]",
      "text/plain": [
       "<Figure size 432x288 with 2 Axes>"
      ]
     },
     "metadata": {
      "needs_background": "light"
     },
     "output_type": "display_data"
    }
   ],
   "source": [
    "from sklearn.metrics import confusion_matrix\n",
    "\n",
    "y_true = []\n",
    "y_pred = []\n",
    "\n",
    "for _ in range(10):\n",
    "    X, y = next(teststreamer)\n",
    "    yhat = model(X)\n",
    "    yhat = yhat.argmax(dim=1)\n",
    "    y_pred.append(yhat.tolist())\n",
    "    y_true.append(y.tolist())\n",
    "\n",
    "yhat = [x for y in y_pred for x in y]\n",
    "y = [x for y in y_true for x in y]\n",
    "\n",
    "cfm = confusion_matrix(y, yhat)\n",
    "cfm_norm = cfm / np.sum(cfm, axis=1, keepdims=True)\n",
    "plot = sns.heatmap(cfm_norm, annot=cfm_norm, fmt=\".3f\")\n",
    "plot.set(xlabel=\"Predicted\", ylabel=\"Target\")\n"
   ]
  },
  {
   "cell_type": "markdown",
   "metadata": {},
   "source": [
    "Save this in the figures folder.\n",
    "Interpret this. \n",
    "\n",
    "- What is going on?\n",
    "- What is a good metric here?\n",
    "- how is your answer to Q1 relevant here?\n",
    "- Is there something you could do to fix/improve things, after you see these results?"
   ]
  },
  {
   "cell_type": "markdown",
   "metadata": {},
   "source": [
    "Je ziet hier de uitkomst tussen neit normale verdeling van de dataset. MOgleijk datamodificeren zodat er meer data van die groep binnenkomt. Geen data weggooien. Misschien meer gewicht meegen aan de groep "
   ]
  },
  {
   "cell_type": "markdown",
   "metadata": {},
   "source": [
    "# 6 Tune the model\n",
    "Don't overdo this.\n",
    "More is not better.\n",
    "\n",
    "Bonus points for things like:\n",
    "- Attention layers\n",
    "- Trax architecture including a functioning training loop\n",
    "\n",
    "Keep it small! It's better to present 2 or 3 sane experiments that are structured and thought trough, than 25 random guesses. You can test more, but select 2 or 3 of the best alternatives you researched, with a rationale why this works better.\n",
    "\n",
    "Keep it concise; explain:\n",
    "- what you changed\n",
    "- why you thought that was a good idea  \n",
    "- what the impact was (visualise or numeric)\n",
    "- explain the impact\n",
    "\n",
    "You dont need to get a perfect score; curiousity driven research that fails is fine.\n",
    "The insight into what is happening is more important than the quantity.\n",
    "\n",
    "Keep logs of your settings;\n",
    "either use gin, or save configs, or both :)\n",
    "Store images in the `figures` folder."
   ]
  },
  {
   "cell_type": "code",
   "execution_count": null,
   "metadata": {},
   "outputs": [],
   "source": [
    "#filter groter maken, le groter maken ( is nu vrij klein) "
   ]
  }
 ],
 "metadata": {
  "kernelspec": {
   "display_name": "Python 3.9.12 ('exam-22-DDG3aTJy-py3.9')",
   "language": "python",
   "name": "python3"
  },
  "language_info": {
   "codemirror_mode": {
    "name": "ipython",
    "version": 3
   },
   "file_extension": ".py",
   "mimetype": "text/x-python",
   "name": "python",
   "nbconvert_exporter": "python",
   "pygments_lexer": "ipython3",
   "version": "3.9.12"
  },
  "orig_nbformat": 4,
  "vscode": {
   "interpreter": {
    "hash": "3ef7eee7c1ffccdb050f8336de9a04a9ab88c4d3eb3bee3e0a27c87a184d1d38"
   }
  }
 },
 "nbformat": 4,
 "nbformat_minor": 2
}
