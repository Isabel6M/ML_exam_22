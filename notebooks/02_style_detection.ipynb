{
 "cells": [
  {
   "cell_type": "code",
   "execution_count": 1,
   "metadata": {},
   "outputs": [],
   "source": [
    "import sys\n",
    "\n",
    "sys.path.insert(0, \"..\")\n",
    "from src.settings import StyleSettings\n",
    "from src.data.data_tools import StyleDataset\n",
    "import numpy as np\n",
    "import seaborn as sns\n"
   ]
  },
  {
   "cell_type": "markdown",
   "metadata": {},
   "source": [
    "# Load the data"
   ]
  },
  {
   "cell_type": "code",
   "execution_count": 2,
   "metadata": {},
   "outputs": [],
   "source": [
    "settings = StyleSettings()\n",
    "traindataset = StyleDataset([settings.trainpath])\n",
    "testdataset = StyleDataset([settings.testpath])\n"
   ]
  },
  {
   "cell_type": "markdown",
   "metadata": {},
   "source": [
    "We have 419 batches in the dataset"
   ]
  },
  {
   "cell_type": "code",
   "execution_count": 3,
   "metadata": {},
   "outputs": [
    {
     "data": {
      "text/plain": [
       "419"
      ]
     },
     "execution_count": 3,
     "metadata": {},
     "output_type": "execute_result"
    }
   ],
   "source": [
    "len(traindataset) // 32\n"
   ]
  },
  {
   "cell_type": "code",
   "execution_count": 4,
   "metadata": {},
   "outputs": [
    {
     "data": {
      "text/plain": [
       "('Lace is an openwork fabric , patterned with open holes in the work , made by machine or by hand.',\n",
       " 'wiki')"
      ]
     },
     "execution_count": 4,
     "metadata": {},
     "output_type": "execute_result"
    }
   ],
   "source": [
    "x, y = traindataset[42]\n",
    "x, y\n"
   ]
  },
  {
   "cell_type": "markdown",
   "metadata": {},
   "source": [
    "Every batch is a `Tuple[str, str]` of a sentence and a label. We can see this is a classification task.\n",
    "The task is, to classify sentences in four categories.\n",
    "Lets build a vocabulary by copy-pasting the code we used before"
   ]
  },
  {
   "cell_type": "code",
   "execution_count": 5,
   "metadata": {},
   "outputs": [
    {
     "name": "stderr",
     "output_type": "stream",
     "text": [
      "2022-07-04 17:45:12.792 | INFO     | src.models.tokenizer:build_vocab:27 - Found 19306 tokens\n"
     ]
    },
    {
     "data": {
      "text/plain": [
       "19308"
      ]
     },
     "execution_count": 5,
     "metadata": {},
     "output_type": "execute_result"
    }
   ],
   "source": [
    "from src.models import tokenizer\n",
    "\n",
    "corpus = []\n",
    "for i in range(len(traindataset)):\n",
    "    x = tokenizer.clean(traindataset[i][0])\n",
    "    corpus.append(x)\n",
    "v = tokenizer.build_vocab(corpus, max=20000)\n",
    "len(v)\n"
   ]
  },
  {
   "cell_type": "markdown",
   "metadata": {},
   "source": [
    "We need to cast the labels to an integers. You can use this dictionary to do so:"
   ]
  },
  {
   "cell_type": "code",
   "execution_count": 6,
   "metadata": {},
   "outputs": [
    {
     "data": {
      "text/plain": [
       "2"
      ]
     },
     "execution_count": 6,
     "metadata": {},
     "output_type": "execute_result"
    }
   ],
   "source": [
    "d = {\"humor\": 0, \"reuters\": 1, \"wiki\": 2, \"proverbs\": 3}\n",
    "d[y]"
   ]
  },
  {
   "cell_type": "markdown",
   "metadata": {},
   "source": [
    "# Question 1\n",
    "Figure out, for every class, what accuracy you should expect if the model would guess blind on the train set"
   ]
  },
  {
   "cell_type": "code",
   "execution_count": 7,
   "metadata": {},
   "outputs": [
    {
     "data": {
      "text/plain": [
       "{'humor': 0.31414510476474533,\n",
       " 'wiki': 0.31175900380284843,\n",
       " 'proverbs': 0.06196405935426143,\n",
       " 'reuters': 0.3121318320781448}"
      ]
     },
     "execution_count": 7,
     "metadata": {},
     "output_type": "execute_result"
    }
   ],
   "source": [
    "import collections\n",
    "number_labels = collections.Counter([traindataset[i][1] for  i in range(len(traindataset))])\n",
    "{v: number_labels[v] / len(traindataset) for v in number_labels}\n",
    "# TODO ~ about 4 lines of code"
   ]
  },
  {
   "cell_type": "markdown",
   "metadata": {},
   "source": [
    "Reflect on what you see. What does this mean? What implications does this have? Why is that good/bad?\n",
    "Are there things down the line that could cause a problem?"
   ]
  },
  {
   "cell_type": "markdown",
   "metadata": {},
   "source": [
    "#### Antwoord"
   ]
  },
  {
   "cell_type": "markdown",
   "metadata": {},
   "source": [
    "Naar voren komt is dat de dataset ongebalanceerd is. De verdeling van de 4 classes is niet gelijk. Het aantal zinnen met het label 'proverbs' is beduidend lager vergeleken met de andere 3 labels. De kans dat de zin het label 'humor' of 'wiki'of 'reuters' heeft is veel groter. Het model kan hierdoor niet bruikbare features leren van de groep met het label 'proverbs', het model heeft minder voorbeelden ter beschikking om van te leren. Er is hierdoor een vergrote kans van overfitting.      "
   ]
  },
  {
   "cell_type": "markdown",
   "metadata": {},
   "source": [
    "# Question 2 : Implement a preprocessor\n",
    "\n",
    "We can inherit from `tokenizer.Preprocessor`\n",
    "Only thing we need to adjust is the `cast_label` function.\n",
    " \n",
    "- create a StylePreprocessor class\n",
    "- inherit from Preprocessor\n",
    "- create a new cast_label function for this dataset"
   ]
  },
  {
   "cell_type": "code",
   "execution_count": 8,
   "metadata": {},
   "outputs": [],
   "source": [
    "# TODO ~ about 4 lines of code\n",
    "class StylePreprocessor(tokenizer.Preprocessor):\n",
    "    \"A preprocessor with the cast_label function for adding the labels from the dictionary\"\n",
    "    def cast_label(self, label: str) -> int:\n",
    "        if label in d.keys():\n",
    "            return d[label]"
   ]
  },
  {
   "cell_type": "markdown",
   "metadata": {},
   "source": [
    "To test the preprocessor:"
   ]
  },
  {
   "cell_type": "code",
   "execution_count": 9,
   "metadata": {},
   "outputs": [
    {
     "data": {
      "text/plain": [
       "(tensor([[4929,  854,   32,   15,  499,   21, 8496,  890]], dtype=torch.int32),\n",
       " tensor([2]))"
      ]
     },
     "execution_count": 9,
     "metadata": {},
     "output_type": "execute_result"
    }
   ],
   "source": [
    "preprocessor = StylePreprocessor(max=100, vocab=v, clean=tokenizer.clean)\n",
    "preprocessor([(x, y)])"
   ]
  },
  {
   "cell_type": "markdown",
   "metadata": {},
   "source": [
    "# Set up the model\n",
    "We can re-use the BaseDatastreamer"
   ]
  },
  {
   "cell_type": "code",
   "execution_count": 10,
   "metadata": {},
   "outputs": [],
   "source": [
    "from src.data import data_tools\n",
    "\n",
    "trainstreamer = data_tools.BaseDatastreamer(\n",
    "    dataset=traindataset, batchsize=32, preprocessor=preprocessor\n",
    ").stream()\n",
    "teststreamer = data_tools.BaseDatastreamer(\n",
    "    dataset=testdataset, batchsize=32, preprocessor=preprocessor\n",
    ").stream()\n"
   ]
  },
  {
   "cell_type": "code",
   "execution_count": 11,
   "metadata": {},
   "outputs": [
    {
     "data": {
      "text/plain": [
       "(torch.Size([32, 42]),\n",
       " tensor([2, 1, 3, 0, 2, 0, 2, 0, 0, 0, 2, 2, 0, 3, 1, 2, 0, 0, 0, 0, 0, 3, 2, 0,\n",
       "         2, 0, 2, 0, 0, 0, 0, 2]))"
      ]
     },
     "execution_count": 11,
     "metadata": {},
     "output_type": "execute_result"
    }
   ],
   "source": [
    "x, y = next(trainstreamer)\n",
    "x.shape, y\n"
   ]
  },
  {
   "cell_type": "markdown",
   "metadata": {},
   "source": [
    "## Question 3 : Metrics, loss\n",
    "Select proper metrics and a loss function.\n",
    "\n",
    "Bonus: implement an additional metric function that is relevant for this case."
   ]
  },
  {
   "cell_type": "code",
   "execution_count": 12,
   "metadata": {},
   "outputs": [],
   "source": [
    "from src.models import metrics\n",
    "import torch\n",
    "# TODO ~ 2 lines of code\n",
    "\n",
    "metrics = [metrics.Accuracy(), metrics.F1Score()]\n",
    "loss_fn = torch.nn.CrossEntropyLoss()\n"
   ]
  },
  {
   "cell_type": "markdown",
   "metadata": {},
   "source": [
    "#### Antwoord"
   ]
  },
  {
   "cell_type": "markdown",
   "metadata": {},
   "source": [
    "Om te controleren of de uitkomst correct is gebruiken we de CrossEntropyloss. Deze is geschikt voor multiclass categorisatie. MSE kan bijvoorbeeld hier niet voor gebruiken aangezien dit juist is voor numerieke voorspellingen. Ik heb als addition metric toegevoegd de F1Score toegevoegd. De f1 score kijkt naar een gemiddele van de precisie en recall ( tussen 0 en 1) scores en kan worden gebruikt voor classificatie problemen en in ongebalanceerde datasets. "
   ]
  },
  {
   "cell_type": "markdown",
   "metadata": {},
   "source": [
    "## Question 4 : Basemodel\n",
    "Create a base model. It does not need to be naive; you could re-use the\n",
    "NLP models we used for the IMDB.\n",
    "\n",
    "I suggest to start with a hidden size of about 128.\n",
    "Use a config dictionary, or a gin file, both are fine.\n",
    "\n",
    "Bonus points if you create a Trax model in src.models, and even more if you add a trax training loop."
   ]
  },
  {
   "cell_type": "code",
   "execution_count": 13,
   "metadata": {},
   "outputs": [],
   "source": [
    "\n",
    "log_dir = settings.log_dir\n",
    "# TODO between 2 and 8 lines of code, depending on your setup\n",
    "# Assuming you load your model in one line of code from src.models.rnn\n",
    "config = {\n",
    "    \"vocab\": len(v),\n",
    "    \"hidden_size\": 128,\n",
    "    \"num_layers\": 3, \n",
    "    \"dropout\": 0.1, \n",
    "    \"output_size\": 4,\n",
    "}\n",
    "from src.models import rnn\n",
    "model = rnn.NLPmodel(config)\n"
   ]
  },
  {
   "cell_type": "markdown",
   "metadata": {},
   "source": [
    "Set up the trainloop.\n",
    "\n",
    "- Give the lenght of the traindataset, how many batches of 32 can you get out of it?\n",
    "- If you take a short amount of train_steps (eg 25) for every epoch, how many epochs do you need to cover the complete dataset?\n",
    "- What amount of epochs do you need to run the loop with trainsteps=25 to cover the complete traindataset once? \n",
    "- answer the questions above, and pick a reasonable epoch lenght\n",
    "\n",
    "Start with a default learning_rate of 1e-3 and an Adam optimizer."
   ]
  },
  {
   "cell_type": "markdown",
   "metadata": {},
   "source": [
    "#### Antwoord"
   ]
  },
  {
   "cell_type": "code",
   "execution_count": 14,
   "metadata": {},
   "outputs": [
    {
     "data": {
      "text/plain": [
       "419.09375"
      ]
     },
     "execution_count": 14,
     "metadata": {},
     "output_type": "execute_result"
    }
   ],
   "source": [
    "len(traindataset)/32 # lengte traindataset gedeeld door de batchsize"
   ]
  },
  {
   "cell_type": "markdown",
   "metadata": {},
   "source": [
    "De lengte van de traindataset is 13.411. Hierbij kun je dus 420 batches maken van 32. "
   ]
  },
  {
   "cell_type": "code",
   "execution_count": 15,
   "metadata": {},
   "outputs": [
    {
     "data": {
      "text/plain": [
       "20.955"
      ]
     },
     "execution_count": 15,
     "metadata": {},
     "output_type": "execute_result"
    }
   ],
   "source": [
    "(len(traindataset) + len(testdataset)) / (32*25) # de totale lengte van de dataset gedeeld door de train step en de batchsize"
   ]
  },
  {
   "cell_type": "markdown",
   "metadata": {},
   "source": [
    "De totale dataset heeft een lengte van 16.764. Om de hele datsaet te covereren zijn er 21 epochs nodig. "
   ]
  },
  {
   "cell_type": "code",
   "execution_count": 16,
   "metadata": {},
   "outputs": [
    {
     "data": {
      "text/plain": [
       "16.76375"
      ]
     },
     "execution_count": 16,
     "metadata": {},
     "output_type": "execute_result"
    }
   ],
   "source": [
    "len(traindataset) / (32*25) # de totale lengte van de traindataset gedeeld door de train step en de batchsize"
   ]
  },
  {
   "cell_type": "markdown",
   "metadata": {},
   "source": [
    "Om de totale traindataset te coveren zijn er minmaal 17 epochs nodig op basis van 25 train_steps.  "
   ]
  },
  {
   "cell_type": "code",
   "execution_count": 17,
   "metadata": {},
   "outputs": [
    {
     "name": "stderr",
     "output_type": "stream",
     "text": [
      "2022-07-04 17:45:15.574382: W tensorflow/stream_executor/platform/default/dso_loader.cc:64] Could not load dynamic library 'libcudart.so.11.0'; dlerror: libcudart.so.11.0: cannot open shared object file: No such file or directory\n",
      "2022-07-04 17:45:15.574412: I tensorflow/stream_executor/cuda/cudart_stub.cc:29] Ignore above cudart dlerror if you do not have a GPU set up on your machine.\n",
      "2022-07-04 17:45:19.038 | INFO     | src.data.data_tools:dir_add_timestamp:66 - Logging to ../tune/20220704-1745\n",
      "100%|██████████| 25/25 [00:04<00:00,  5.22it/s]\n",
      "2022-07-04 17:45:24.552 | INFO     | src.training.train_model:trainloop:164 - Epoch 0 train 1.2970 test 1.2538 metric ['0.3700', '0.2138']\n",
      "100%|██████████| 25/25 [00:02<00:00, 10.24it/s]\n",
      "2022-07-04 17:45:27.550 | INFO     | src.training.train_model:trainloop:164 - Epoch 1 train 1.2798 test 1.2230 metric ['0.3613', '0.2341']\n",
      "100%|██████████| 25/25 [00:01<00:00, 14.55it/s]\n",
      "2022-07-04 17:45:29.692 | INFO     | src.training.train_model:trainloop:164 - Epoch 2 train 1.2221 test 1.1551 metric ['0.4625', '0.3373']\n",
      "100%|██████████| 25/25 [00:01<00:00, 17.06it/s]\n",
      "2022-07-04 17:45:31.570 | INFO     | src.training.train_model:trainloop:164 - Epoch 3 train 1.1019 test 0.9642 metric ['0.5575', '0.3547']\n",
      "100%|██████████| 25/25 [00:01<00:00, 16.03it/s]\n",
      "2022-07-04 17:45:33.527 | INFO     | src.training.train_model:trainloop:164 - Epoch 4 train 0.9110 test 0.8609 metric ['0.6700', '0.5534']\n",
      "100%|██████████| 25/25 [00:01<00:00, 17.71it/s]\n",
      "2022-07-04 17:45:35.364 | INFO     | src.training.train_model:trainloop:164 - Epoch 5 train 0.7690 test 0.6678 metric ['0.7588', '0.6165']\n",
      "100%|██████████| 25/25 [00:01<00:00, 14.38it/s]\n",
      "2022-07-04 17:45:37.530 | INFO     | src.training.train_model:trainloop:164 - Epoch 6 train 0.6858 test 0.6509 metric ['0.7488', '0.5942']\n",
      "100%|██████████| 25/25 [00:01<00:00, 17.11it/s]\n",
      "2022-07-04 17:45:39.391 | INFO     | src.training.train_model:trainloop:164 - Epoch 7 train 0.6282 test 0.5812 metric ['0.7887', '0.6496']\n",
      "100%|██████████| 25/25 [00:01<00:00, 17.89it/s]\n",
      "2022-07-04 17:45:41.223 | INFO     | src.training.train_model:trainloop:164 - Epoch 8 train 0.5023 test 0.5157 metric ['0.8137', '0.7374']\n",
      "100%|██████████| 25/25 [00:01<00:00, 16.08it/s]\n",
      "2022-07-04 17:45:43.185 | INFO     | src.training.train_model:trainloop:164 - Epoch 9 train 0.4481 test 0.5427 metric ['0.8113', '0.7397']\n",
      "100%|██████████| 25/25 [00:01<00:00, 16.01it/s]\n",
      "2022-07-04 17:45:45.178 | INFO     | src.training.train_model:trainloop:164 - Epoch 10 train 0.4955 test 0.4502 metric ['0.8475', '0.6910']\n",
      "100%|██████████| 25/25 [00:01<00:00, 17.61it/s]\n",
      "2022-07-04 17:45:47.048 | INFO     | src.training.train_model:trainloop:164 - Epoch 11 train 0.4860 test 0.4270 metric ['0.8525', '0.7522']\n",
      "100%|██████████| 25/25 [00:01<00:00, 17.55it/s]\n",
      "2022-07-04 17:45:48.861 | INFO     | src.training.train_model:trainloop:164 - Epoch 12 train 0.4964 test 0.4572 metric ['0.8225', '0.6859']\n",
      "100%|██████████| 25/25 [00:01<00:00, 16.76it/s]\n",
      "2022-07-04 17:45:50.793 | INFO     | src.training.train_model:trainloop:164 - Epoch 13 train 0.4140 test 0.3904 metric ['0.8600', '0.7728']\n",
      "100%|██████████| 25/25 [00:01<00:00, 17.57it/s]\n",
      "2022-07-04 17:45:52.635 | INFO     | src.training.train_model:trainloop:164 - Epoch 14 train 0.3998 test 0.4260 metric ['0.8300', '0.6728']\n",
      "100%|██████████| 25/25 [00:01<00:00, 18.12it/s]\n",
      "2022-07-04 17:45:54.435 | INFO     | src.training.train_model:trainloop:164 - Epoch 15 train 0.4334 test 0.4069 metric ['0.8625', '0.7796']\n",
      "100%|██████████| 25/25 [00:01<00:00, 18.19it/s]\n",
      "2022-07-04 17:45:56.228 | INFO     | src.training.train_model:trainloop:164 - Epoch 16 train 0.3743 test 0.3772 metric ['0.8600', '0.7412']\n",
      "100%|██████████| 25/25 [00:01<00:00, 15.94it/s]\n",
      "2022-07-04 17:45:58.195 | INFO     | src.training.train_model:trainloop:164 - Epoch 17 train 0.2842 test 0.3719 metric ['0.8800', '0.7484']\n",
      "100%|██████████| 25/25 [00:01<00:00, 19.19it/s]\n",
      "2022-07-04 17:45:59.914 | INFO     | src.training.train_model:trainloop:164 - Epoch 18 train 0.2556 test 0.4525 metric ['0.8462', '0.7833']\n",
      "100%|██████████| 25/25 [00:01<00:00, 19.82it/s]\n",
      "2022-07-04 17:46:01.618 | INFO     | src.training.train_model:trainloop:164 - Epoch 19 train 0.3478 test 0.3734 metric ['0.8600', '0.7857']\n",
      "100%|██████████| 25/25 [00:01<00:00, 17.87it/s]\n",
      "2022-07-04 17:46:03.446 | INFO     | src.training.train_model:trainloop:164 - Epoch 20 train 0.3034 test 0.3189 metric ['0.9050', '0.8152']\n",
      "100%|██████████| 21/21 [00:44<00:00,  2.11s/it]\n"
     ]
    }
   ],
   "source": [
    "from src.training import train_model\n",
    "\n",
    "model = train_model.trainloop(\n",
    "    epochs=21,\n",
    "    model=model,\n",
    "    metrics=metrics,\n",
    "    optimizer=torch.optim.Adam,\n",
    "    learning_rate=1e-3,\n",
    "    loss_fn=loss_fn,\n",
    "    train_dataloader=trainstreamer,\n",
    "    test_dataloader=teststreamer,\n",
    "    log_dir=log_dir,\n",
    "    train_steps=25,\n",
    "    eval_steps=25,\n",
    ")\n"
   ]
  },
  {
   "cell_type": "markdown",
   "metadata": {},
   "source": [
    "Save an image from the training in tensorboard in the `figures` folder.\n",
    "Explain what you are seeing."
   ]
  },
  {
   "cell_type": "markdown",
   "metadata": {},
   "source": [
    "#### Antwoord"
   ]
  },
  {
   "cell_type": "markdown",
   "metadata": {},
   "source": [
    "In de bovenste twee grafieken van de afbeelding zijn de test en train loss te zien. Deze zijn beide nog vrij hoog en de learning rate blijft stabiel op 1e-3 ondanks dat er een scheduler in de trainloop zit die mogelijk de learning rate kan verlagen. Daarnaast vlakt de accuracy en F1Score wel iets af, echter is mijn verwachting hierbij dat het aantal epochs aan de lage kant is. "
   ]
  },
  {
   "cell_type": "markdown",
   "metadata": {},
   "source": [
    "<img src=\"../figures/results_of_tensorboard.PNG\">"
   ]
  },
  {
   "cell_type": "markdown",
   "metadata": {},
   "source": [
    "# 5 Evaluate the basemodel\n",
    "Create a confusion matrix with the code below"
   ]
  },
  {
   "cell_type": "code",
   "execution_count": 18,
   "metadata": {},
   "outputs": [
    {
     "data": {
      "text/plain": [
       "[Text(0.5, 15.0, 'Predicted'), Text(33.0, 0.5, 'Target')]"
      ]
     },
     "execution_count": 18,
     "metadata": {},
     "output_type": "execute_result"
    },
    {
     "data": {
      "image/png": "[encoded data removed]",
      "text/plain": [
       "<Figure size 432x288 with 2 Axes>"
      ]
     },
     "metadata": {
      "needs_background": "light"
     },
     "output_type": "display_data"
    }
   ],
   "source": [
    "from sklearn.metrics import confusion_matrix\n",
    "\n",
    "y_true = []\n",
    "y_pred = []\n",
    "\n",
    "for _ in range(10):\n",
    "    X, y = next(teststreamer)\n",
    "    yhat = model(X)\n",
    "    yhat = yhat.argmax(dim=1)\n",
    "    y_pred.append(yhat.tolist())\n",
    "    y_true.append(y.tolist())\n",
    "\n",
    "yhat = [x for y in y_pred for x in y]\n",
    "y = [x for y in y_true for x in y]\n",
    "\n",
    "cfm = confusion_matrix(y, yhat)\n",
    "cfm_norm = cfm / np.sum(cfm, axis=1, keepdims=True)\n",
    "plot = sns.heatmap(cfm_norm, annot=cfm_norm, fmt=\".3f\")\n",
    "plot.set(xlabel=\"Predicted\", ylabel=\"Target\")\n"
   ]
  },
  {
   "cell_type": "markdown",
   "metadata": {},
   "source": [
    "Save this in the figures folder.\n",
    "Interpret this. \n",
    "\n",
    "- What is going on?\n",
    "- What is a good metric here?\n",
    "- how is your answer to Q1 relevant here?\n",
    "- Is there something you could do to fix/improve things, after you see these results?"
   ]
  },
  {
   "cell_type": "markdown",
   "metadata": {},
   "source": [
    "#### Antwoord"
   ]
  },
  {
   "cell_type": "markdown",
   "metadata": {},
   "source": [
    "Je ziet hier de uitkomst tussen niet normale verdeling van de dataset. Hierbij is bijvoorbeeld de eerste cel, deze is predicted 0 en voor 80% is deze ook 0. Het geeft de prestatie weer van het model en geeft aan dat deze voor label 0,1 & 2 redelijk goed kan voorspellen. Dit geldt dus niet voor groep 3, waarbij deze maar een lager getal voorspelt(tussen 50-60% ongeveer ook groep 3 voorspelt). Label 3 is de groep 'proverbs, waarbij er een veel lager aantal van is.  De dataset is dus ongebalanceerd, zoals reeds aangegeven in oefening 1. De F1Score zou kunnen zorgen voor een betere verhouding en zou kunnen worden toegevoegd als metric. Een mogelijkheid hiervoor is om data augmenting te gebruiken. Hierbij gaan we dus de data kunstmatig vergroten van de group 'proverbs'. Hierbij kun je meer gewicht toekennen aan de groep 'proverbs'. Dit zal invloed hebben op de likelihood dat een punt uit een klasse wordt getrokken, doordat je van een uniforme verdeling naar een multinomiale verdeling met gecontroleerde paremeters gaat. Daarnaast kun je ook  een andere sampling gebruiken, door gelijke aantallen van de groepen te pakken of door juist te oversampelen. \n",
    " "
   ]
  },
  {
   "cell_type": "markdown",
   "metadata": {},
   "source": [
    "# 6 Tune the model\n",
    "Don't overdo this.\n",
    "More is not better.\n",
    "\n",
    "Bonus points for things like:\n",
    "- Attention layers\n",
    "- Trax architecture including a functioning training loop\n",
    "\n",
    "Keep it small! It's better to present 2 or 3 sane experiments that are structured and thought trough, than 25 random guesses. You can test more, but select 2 or 3 of the best alternatives you researched, with a rationale why this works better.\n",
    "\n",
    "Keep it concise; explain:\n",
    "- what you changed\n",
    "- why you thought that was a good idea  \n",
    "- what the impact was (visualise or numeric)\n",
    "- explain the impact\n",
    "\n",
    "You dont need to get a perfect score; curiousity driven research that fails is fine.\n",
    "The insight into what is happening is more important than the quantity.\n",
    "\n",
    "Keep logs of your settings;\n",
    "either use gin, or save configs, or both :)\n",
    "Store images in the `figures` folder."
   ]
  },
  {
   "cell_type": "markdown",
   "metadata": {},
   "source": [
    "#### Antwoord"
   ]
  },
  {
   "cell_type": "markdown",
   "metadata": {},
   "source": [
    "Een aantal opvallende experimenten worden verder uitgelegd. "
   ]
  },
  {
   "cell_type": "markdown",
   "metadata": {},
   "source": [
    "#### Experiment 1: Attention layer"
   ]
  },
  {
   "cell_type": "markdown",
   "metadata": {},
   "source": [
    "Ik heb een nieuwe class toegevoegd in de rnn models map. Dit is de AttentionNLP > hierbij zit dus een attional layer tussen de GRU en linear. Dit zorgt voor meer context in het verhaal. In eerste instantie worden de huidige parameters ingesteld. "
   ]
  },
  {
   "cell_type": "code",
   "execution_count": 19,
   "metadata": {},
   "outputs": [],
   "source": [
    "model = rnn.AttentionNLP(config)"
   ]
  },
  {
   "cell_type": "code",
   "execution_count": 20,
   "metadata": {},
   "outputs": [
    {
     "name": "stderr",
     "output_type": "stream",
     "text": [
      "2022-07-04 17:46:50.304 | INFO     | src.data.data_tools:dir_add_timestamp:66 - Logging to ../tune/20220704-1746\n",
      "100%|██████████| 25/25 [00:04<00:00,  5.73it/s]\n",
      "2022-07-04 17:46:55.278 | INFO     | src.training.train_model:trainloop:164 - Epoch 0 train 1.2848 test 1.1532 metric ['0.3787', '0.2204']\n",
      "100%|██████████| 25/25 [00:02<00:00,  9.65it/s]\n",
      "2022-07-04 17:46:58.458 | INFO     | src.training.train_model:trainloop:164 - Epoch 1 train 1.0741 test 0.9557 metric ['0.5100', '0.3381']\n",
      "100%|██████████| 25/25 [00:01<00:00, 13.17it/s]\n",
      "2022-07-04 17:47:00.835 | INFO     | src.training.train_model:trainloop:164 - Epoch 2 train 0.9732 test 0.8540 metric ['0.6062', '0.4825']\n",
      "100%|██████████| 25/25 [00:01<00:00, 14.77it/s]\n",
      "2022-07-04 17:47:03.002 | INFO     | src.training.train_model:trainloop:164 - Epoch 3 train 0.7614 test 0.6448 metric ['0.7462', '0.6618']\n",
      "100%|██████████| 25/25 [00:01<00:00, 15.74it/s]\n",
      "2022-07-04 17:47:05.054 | INFO     | src.training.train_model:trainloop:164 - Epoch 4 train 0.6246 test 0.5531 metric ['0.7837', '0.6824']\n",
      "100%|██████████| 25/25 [00:01<00:00, 16.07it/s]\n",
      "2022-07-04 17:47:07.033 | INFO     | src.training.train_model:trainloop:164 - Epoch 5 train 0.5015 test 0.5758 metric ['0.7887', '0.6659']\n",
      "100%|██████████| 25/25 [00:01<00:00, 15.66it/s]\n",
      "2022-07-04 17:47:09.064 | INFO     | src.training.train_model:trainloop:164 - Epoch 6 train 0.5361 test 0.5088 metric ['0.8225', '0.7661']\n",
      "100%|██████████| 25/25 [00:01<00:00, 15.44it/s]\n",
      "2022-07-04 17:47:11.262 | INFO     | src.training.train_model:trainloop:164 - Epoch 7 train 0.4439 test 0.4694 metric ['0.8237', '0.7320']\n",
      "100%|██████████| 25/25 [00:01<00:00, 14.26it/s]\n",
      "2022-07-04 17:47:13.466 | INFO     | src.training.train_model:trainloop:164 - Epoch 8 train 0.4433 test 0.5226 metric ['0.8063', '0.7204']\n",
      "100%|██████████| 25/25 [00:01<00:00, 17.00it/s]\n",
      "2022-07-04 17:47:15.406 | INFO     | src.training.train_model:trainloop:164 - Epoch 9 train 0.4448 test 0.5597 metric ['0.7863', '0.7027']\n",
      "100%|██████████| 25/25 [00:01<00:00, 15.26it/s]\n",
      "2022-07-04 17:47:17.497 | INFO     | src.training.train_model:trainloop:164 - Epoch 10 train 0.4940 test 0.4800 metric ['0.8137', '0.6937']\n",
      "100%|██████████| 25/25 [00:01<00:00, 16.26it/s]\n",
      "2022-07-04 17:47:19.474 | INFO     | src.training.train_model:trainloop:164 - Epoch 11 train 0.4215 test 0.4607 metric ['0.8350', '0.7648']\n",
      "100%|██████████| 25/25 [00:01<00:00, 16.44it/s]\n",
      "2022-07-04 17:47:21.472 | INFO     | src.training.train_model:trainloop:164 - Epoch 12 train 0.3643 test 0.5577 metric ['0.7987', '0.7489']\n",
      "100%|██████████| 25/25 [00:01<00:00, 13.92it/s]\n",
      "2022-07-04 17:47:23.738 | INFO     | src.training.train_model:trainloop:164 - Epoch 13 train 0.3776 test 0.4248 metric ['0.8237', '0.7288']\n",
      "100%|██████████| 25/25 [00:01<00:00, 16.02it/s]\n",
      "2022-07-04 17:47:25.735 | INFO     | src.training.train_model:trainloop:164 - Epoch 14 train 0.3428 test 0.3820 metric ['0.8612', '0.7668']\n",
      "100%|██████████| 25/25 [00:01<00:00, 17.68it/s]\n",
      "2022-07-04 17:47:27.623 | INFO     | src.training.train_model:trainloop:164 - Epoch 15 train 0.2728 test 0.4927 metric ['0.8363', '0.7437']\n",
      "100%|██████████| 25/25 [00:01<00:00, 14.56it/s]\n",
      "2022-07-04 17:47:29.789 | INFO     | src.training.train_model:trainloop:164 - Epoch 16 train 0.3622 test 0.5501 metric ['0.7887', '0.7262']\n",
      "100%|██████████| 25/25 [00:01<00:00, 16.97it/s]\n",
      "2022-07-04 17:47:31.715 | INFO     | src.training.train_model:trainloop:164 - Epoch 17 train 0.2773 test 0.4468 metric ['0.8300', '0.7583']\n",
      "100%|██████████| 25/25 [00:01<00:00, 16.00it/s]\n",
      "2022-07-04 17:47:33.824 | INFO     | src.training.train_model:trainloop:164 - Epoch 18 train 0.3135 test 0.4587 metric ['0.8150', '0.7253']\n",
      "100%|██████████| 25/25 [00:01<00:00, 16.03it/s]\n",
      "2022-07-04 17:47:35.869 | INFO     | src.training.train_model:trainloop:164 - Epoch 19 train 0.2815 test 0.5004 metric ['0.8275', '0.7624']\n",
      "100%|██████████| 25/25 [00:01<00:00, 14.65it/s]\n",
      "2022-07-04 17:47:38.049 | INFO     | src.training.train_model:trainloop:164 - Epoch 20 train 0.3213 test 0.3949 metric ['0.8462', '0.8069']\n",
      "100%|██████████| 21/21 [00:47<00:00,  2.27s/it]\n"
     ]
    }
   ],
   "source": [
    "from src.training import train_model\n",
    "\n",
    "model = train_model.trainloop(\n",
    "    epochs=21,\n",
    "    model=model,\n",
    "    metrics=metrics,\n",
    "    optimizer=torch.optim.Adam,\n",
    "    learning_rate=1e-3,\n",
    "    loss_fn=loss_fn,\n",
    "    train_dataloader=trainstreamer,\n",
    "    test_dataloader=teststreamer,\n",
    "    log_dir=log_dir,\n",
    "    train_steps=25,\n",
    "    eval_steps=25,\n",
    ")"
   ]
  },
  {
   "cell_type": "markdown",
   "metadata": {},
   "source": [
    "\n",
    "Het model met de attention zorgt voor een lagere loss van de test en een hogere accuracy en F1Score. In onderstaande afbeelding zie je de oranje lijn het NLP model zonder attention layer en de blauwe lijn is het NLP model met een attention layer. Wat verder opvalt is dat het er naar uit ziet dat het model nog niet is uitgeleerd. Hierbij is de vervolgstap om de epochs te verhogen (worden verhoogd naar 40). Dit zorgt voor een verbetering (donker rode lijn). Hier zie je ook de learning rate naar beneden gaan vanwege de scheduler. De accuracy verbeterd naar 90%. "
   ]
  },
  {
   "cell_type": "markdown",
   "metadata": {},
   "source": [
    "<img src=\"../figures/NLP_attention_tensorboard3.PNG\">"
   ]
  },
  {
   "cell_type": "markdown",
   "metadata": {},
   "source": [
    "#### Experiment 2: Learning rate & epochs"
   ]
  },
  {
   "cell_type": "markdown",
   "metadata": {},
   "source": [
    " De optimizer verander ik niet direct, de Adam optimizer heeft een prijswinnende architectuur en stopt niet direct bij een mogelijk laag punt, maar kijkt verder. De learning rate en de optimizer zijn erg afhankelijk van elkaar. Met de learning rate en optimizer kun je mogelijk direct invloed uitoefenen op het model. Je ziet op het tensorboard dat de learning rate bij de attention layer nog stabiel blijft (met 21 epochs) ondanks er een scheduler in het model zit. Door de epochs te verhogen naar 40, valt op dat na 30 epochs de learning rate naar beneden gaat door middel van de scheduler (rode lijn onderstaande afbeelding). Minimaal 10 epochs wacht het model voordat deze mogelijk de learning rate verlaagd. Deze wordt dan verlaagt door middel van de factor 0.9. Om deze reden wordt het aantal epochs nog verder verhoogd naar 100. Dit kost natuurlijk wel meer process tijd en hiermee moet rekening gehouden worden met de afweging om de juiste parameters te bepalen voor het model. In onderstaande afbeelding is het verhogen van het aantal epochs weergegeven. De oranje lijn is de verhoging van de epochs naar 100, hierbij komt overfitting naar voren wat terug te zien is in de test loss. Daarnaast zie je in de learning rate grafiek dat de scheduler na ongeveer 52 epochs de learning rate met stapjes heeft verlaagd. Hierna heb ik een aantal wijzingen van de learning rate doorgevoerd ( hoger starten: 1e-2), echter zorgt dit niet voor een verbetering van het model. "
   ]
  },
  {
   "cell_type": "markdown",
   "metadata": {},
   "source": [
    "<img src=\"../figures/NLP_with_att_overfitting.PNG\">"
   ]
  },
  {
   "cell_type": "markdown",
   "metadata": {},
   "source": [
    "#### Experiment 3: Hidden_size & batchsize"
   ]
  },
  {
   "cell_type": "markdown",
   "metadata": {},
   "source": [
    "De aanpassingen van de hidden_size: Deze is op dit moment 128 en deze wil ik met kleine stapjes aanpassen. De accuracy en loss worden negatief beinvloed door minder filters(64). De dataset is niet heel groot en ik ga de filters nog verhogen naar 256. Dit zorgt er wel voor dat het model langzamer wordt en wanneer de learning rate naar beneden gaat door de scheduler stijgt de loss van de test, het aanpassen van de hidden_size  geeft geen verbetering van het model en het zorgt ook voor een hogere loss. Hierbij hou ik de hidden_size op 128, ditzelfde geldt voor de batchsizes. Onderstaande grafieken tonen de laagste losses en hoogste accuracy (90%) en F1 score (84%) waarbij het aantal epochs zijn verhoogd en de parameters t.a.v. batchsize en hidden_size gelijk zijn gebleven aan de eerste settings.\n"
   ]
  },
  {
   "cell_type": "markdown",
   "metadata": {},
   "source": [
    "<img src=\"../figures/fresults.PNG\">"
   ]
  }
 ],
 "metadata": {
  "kernelspec": {
   "display_name": "Python 3.9.12 ('exam-22-DDG3aTJy-py3.9')",
   "language": "python",
   "name": "python3"
  },
  "language_info": {
   "codemirror_mode": {
    "name": "ipython",
    "version": 3
   },
   "file_extension": ".py",
   "mimetype": "text/x-python",
   "name": "python",
   "nbconvert_exporter": "python",
   "pygments_lexer": "ipython3",
   "version": "3.9.12"
  },
  "orig_nbformat": 4,
  "vscode": {
   "interpreter": {
    "hash": "3ef7eee7c1ffccdb050f8336de9a04a9ab88c4d3eb3bee3e0a27c87a184d1d38"
   }
  }
 },
 "nbformat": 4,
 "nbformat_minor": 2
}
