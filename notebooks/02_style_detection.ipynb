{
 "cells": [
  {
   "cell_type": "code",
   "execution_count": 39,
   "metadata": {},
   "outputs": [],
   "source": [
    "import sys\n",
    "\n",
    "sys.path.insert(0, \"..\")\n",
    "from src.settings import StyleSettings\n",
    "from src.data.data_tools import StyleDataset\n",
    "import numpy as np\n",
    "import seaborn as sns\n"
   ]
  },
  {
   "cell_type": "markdown",
   "metadata": {},
   "source": [
    "# Load the data"
   ]
  },
  {
   "cell_type": "code",
   "execution_count": 40,
   "metadata": {},
   "outputs": [],
   "source": [
    "settings = StyleSettings()\n",
    "traindataset = StyleDataset([settings.trainpath])\n",
    "testdataset = StyleDataset([settings.testpath])\n"
   ]
  },
  {
   "cell_type": "markdown",
   "metadata": {},
   "source": [
    "We have 419 batches in the dataset"
   ]
  },
  {
   "cell_type": "code",
   "execution_count": 41,
   "metadata": {},
   "outputs": [
    {
     "data": {
      "text/plain": [
       "419"
      ]
     },
     "execution_count": 41,
     "metadata": {},
     "output_type": "execute_result"
    }
   ],
   "source": [
    "len(traindataset) // 32\n"
   ]
  },
  {
   "cell_type": "code",
   "execution_count": 42,
   "metadata": {},
   "outputs": [
    {
     "data": {
      "text/plain": [
       "('Lace is an openwork fabric , patterned with open holes in the work , made by machine or by hand.',\n",
       " 'wiki')"
      ]
     },
     "execution_count": 42,
     "metadata": {},
     "output_type": "execute_result"
    }
   ],
   "source": [
    "x, y = traindataset[42]\n",
    "x, y\n"
   ]
  },
  {
   "cell_type": "markdown",
   "metadata": {},
   "source": [
    "Every batch is a `Tuple[str, str]` of a sentence and a label. We can see this is a classification task.\n",
    "The task is, to classify sentences in four categories.\n",
    "Lets build a vocabulary by copy-pasting the code we used before"
   ]
  },
  {
   "cell_type": "code",
   "execution_count": 43,
   "metadata": {},
   "outputs": [
    {
     "name": "stderr",
     "output_type": "stream",
     "text": [
      "2022-06-27 08:03:03.665 | INFO     | src.models.tokenizer:build_vocab:27 - Found 19306 tokens\n"
     ]
    },
    {
     "data": {
      "text/plain": [
       "19308"
      ]
     },
     "execution_count": 43,
     "metadata": {},
     "output_type": "execute_result"
    }
   ],
   "source": [
    "from src.models import tokenizer\n",
    "\n",
    "corpus = []\n",
    "for i in range(len(traindataset)):\n",
    "    x = tokenizer.clean(traindataset[i][0])\n",
    "    corpus.append(x)\n",
    "v = tokenizer.build_vocab(corpus, max=20000)\n",
    "len(v)\n"
   ]
  },
  {
   "cell_type": "markdown",
   "metadata": {},
   "source": [
    "We need to cast the labels to an integers. You can use this dictionary to do so:"
   ]
  },
  {
   "cell_type": "code",
   "execution_count": 44,
   "metadata": {},
   "outputs": [
    {
     "data": {
      "text/plain": [
       "2"
      ]
     },
     "execution_count": 44,
     "metadata": {},
     "output_type": "execute_result"
    }
   ],
   "source": [
    "d = {\"humor\": 0, \"reuters\": 1, \"wiki\": 2, \"proverbs\": 3}\n",
    "d[y]"
   ]
  },
  {
   "cell_type": "markdown",
   "metadata": {},
   "source": [
    "# Question 1\n",
    "Figure out, for every class, what accuracy you should expect if the model would guess blind on the train set"
   ]
  },
  {
   "cell_type": "code",
   "execution_count": 45,
   "metadata": {},
   "outputs": [
    {
     "data": {
      "text/plain": [
       "{'humor': 0.31414510476474533,\n",
       " 'wiki': 0.31175900380284843,\n",
       " 'proverbs': 0.06196405935426143,\n",
       " 'reuters': 0.3121318320781448}"
      ]
     },
     "execution_count": 45,
     "metadata": {},
     "output_type": "execute_result"
    }
   ],
   "source": [
    "import collections\n",
    "count_labels = collections.Counter([traindataset[i][1] for  i in range(len(traindataset))])\n",
    "{v: count_labels[v] / len(traindataset) for v in count_labels}\n",
    "# TODO ~ about 4 lines of code"
   ]
  },
  {
   "cell_type": "markdown",
   "metadata": {},
   "source": [
    "Reflect on what you see. What does this mean? What implications does this have? Why is that good/bad?\n",
    "Are there things down the line that could cause a problem?"
   ]
  },
  {
   "cell_type": "markdown",
   "metadata": {},
   "source": [
    "Naar voren komt is dat de dataset ongebalanceerd is. De verdeling van de 4 classes is niet gelijk. Het aantal zinnen met het label 'proverbs' is beduidend lager vergeleken met de andere 3 labels. De kans dat het de zin het label 'humor' of 'wiki'of 'reuters' heeft is veel groter. Het model kan hierdoor niet bruikbare features leren van de groep met het label 'proverbs'. Er is hierdoor een vergrote kans van overfitting.      "
   ]
  },
  {
   "cell_type": "markdown",
   "metadata": {},
   "source": [
    "# Question 2 : Implement a preprocessor\n",
    "\n",
    "We can inherit from `tokenizer.Preprocessor`\n",
    "Only thing we need to adjust is the `cast_label` function.\n",
    " \n",
    "- create a StylePreprocessor class\n",
    "- inherit from Preprocessor\n",
    "- create a new cast_label function for this dataset"
   ]
  },
  {
   "cell_type": "code",
   "execution_count": 46,
   "metadata": {},
   "outputs": [],
   "source": [
    "# TODO ~ about 4 lines of code\n",
    "class StylePreprocessor(tokenizer.Preprocessor):\n",
    "    \"A preprocessor with the cast_label function for adding the labels from the dictionary\"\n",
    "    def cast_label(self, label: str) -> int:\n",
    "        if label in d.keys():\n",
    "            return d[label]"
   ]
  },
  {
   "cell_type": "markdown",
   "metadata": {},
   "source": [
    "To test the preprocessor:"
   ]
  },
  {
   "cell_type": "code",
   "execution_count": 47,
   "metadata": {},
   "outputs": [
    {
     "data": {
      "text/plain": [
       "(tensor([[4929,  854,   32,   15,  499,   21, 8496,  890]], dtype=torch.int32),\n",
       " tensor([2]))"
      ]
     },
     "execution_count": 47,
     "metadata": {},
     "output_type": "execute_result"
    }
   ],
   "source": [
    "preprocessor = StylePreprocessor(max=100, vocab=v, clean=tokenizer.clean)\n",
    "preprocessor([(x, y)])"
   ]
  },
  {
   "cell_type": "markdown",
   "metadata": {},
   "source": [
    "# Set up the model\n",
    "We can re-use the BaseDatastreamer"
   ]
  },
  {
   "cell_type": "code",
   "execution_count": 48,
   "metadata": {},
   "outputs": [],
   "source": [
    "from src.data import data_tools\n",
    "\n",
    "trainstreamer = data_tools.BaseDatastreamer(\n",
    "    dataset=traindataset, batchsize=32, preprocessor=preprocessor\n",
    ").stream()\n",
    "teststreamer = data_tools.BaseDatastreamer(\n",
    "    dataset=testdataset, batchsize=32, preprocessor=preprocessor\n",
    ").stream()\n"
   ]
  },
  {
   "cell_type": "code",
   "execution_count": 50,
   "metadata": {},
   "outputs": [
    {
     "data": {
      "text/plain": [
       "(torch.Size([32, 26]),\n",
       " tensor([2, 3, 2, 2, 1, 0, 2, 0, 0, 2, 2, 1, 2, 0, 1, 0, 0, 3, 2, 1, 0, 1, 0, 1,\n",
       "         2, 2, 1, 0, 0, 2, 0, 1]))"
      ]
     },
     "execution_count": 50,
     "metadata": {},
     "output_type": "execute_result"
    }
   ],
   "source": [
    "x, y = next(trainstreamer)\n",
    "x.shape, y\n"
   ]
  },
  {
   "cell_type": "markdown",
   "metadata": {},
   "source": [
    "## Question 3 : Metrics, loss\n",
    "Select proper metrics and a loss function.\n",
    "\n",
    "Bonus: implement an additional metric function that is relevant for this case."
   ]
  },
  {
   "cell_type": "code",
   "execution_count": 64,
   "metadata": {},
   "outputs": [],
   "source": [
    "from src.models import metrics\n",
    "import torch\n",
    "# TODO ~ 2 lines of code\n",
    "\n",
    "metrics = [metrics.Accuracy()]\n",
    "loss_fn = torch.nn.CrossEntropyLoss()\n"
   ]
  },
  {
   "cell_type": "markdown",
   "metadata": {},
   "source": [
    "Om te controleren of de uitkomst correct is gebruiken we de CrossEntropyloss. Deze is geschikt voor multiclass categorisatie. MSE kan bijvoorbeeld hier niet voor gebruiken aangezien dit juist is voor numerieke voorspellingen. \n",
    "De f1 score kijkt naar een gemiddele van de precisie en recall ( tussen 0 en 1) scores en kan worden gebruikt voor classificatie problemen. Deze wordt verder in het notebook toegevoegd, hierbij zie je namelijk ook een verandering van de confusion matrix. De F1 score kan gebruikt worden in ongebalanceerde datasets. \n",
    "MASE en MAE kunnen niet worden gebruikt i.v.m. classificatie probleem ?? Check. \n"
   ]
  },
  {
   "cell_type": "markdown",
   "metadata": {},
   "source": [
    "## Question 4 : Basemodel\n",
    "Create a base model. It does not need to be naive; you could re-use the\n",
    "NLP models we used for the IMDB.\n",
    "\n",
    "I suggest to start with a hidden size of about 128.\n",
    "Use a config dictionary, or a gin file, both are fine.\n",
    "\n",
    "Bonus points if you create a Trax model in src.models, and even more if you add a trax training loop."
   ]
  },
  {
   "cell_type": "code",
   "execution_count": 65,
   "metadata": {},
   "outputs": [],
   "source": [
    "\n",
    "log_dir = settings.log_dir\n",
    "# TODO between 2 and 8 lines of code, depending on your setup\n",
    "# Assuming you load your model in one line of code from src.models.rnn\n",
    "config = {\n",
    "    \"vocab\": len(v),\n",
    "    \"hidden_size\": 128,\n",
    "    \"num_layers\": 3, # check num_layers\n",
    "    \"dropout\": 0.1, # check dropout\n",
    "    \"output_size\": 4,\n",
    "}\n",
    "from src.models import rnn\n",
    "model = rnn.NLPmodel(config)\n"
   ]
  },
  {
   "cell_type": "markdown",
   "metadata": {},
   "source": [
    "Set up the trainloop.\n",
    "\n",
    "- Give the lenght of the traindataset, how many batches of 32 can you get out of it?\n",
    "- If you take a short amount of train_steps (eg 25) for every epoch, how many epochs do you need to cover the complete dataset?\n",
    "- What amount of epochs do you need to run the loop with trainsteps=25 to cover the complete traindataset once? \n",
    "- answer the questions above, and pick a reasonable epoch lenght\n",
    "\n",
    "Start with a default learning_rate of 1e-3 and an Adam optimizer."
   ]
  },
  {
   "cell_type": "code",
   "execution_count": 67,
   "metadata": {},
   "outputs": [
    {
     "data": {
      "text/plain": [
       "419.09375"
      ]
     },
     "execution_count": 67,
     "metadata": {},
     "output_type": "execute_result"
    }
   ],
   "source": [
    "len(traindataset)/32 # lengte traindataset gedeeld door de batchsize"
   ]
  },
  {
   "cell_type": "markdown",
   "metadata": {},
   "source": [
    "De lengte van de traindataset is 13.411. Hierbij kun je dus 420 batches maken van 32. "
   ]
  },
  {
   "cell_type": "code",
   "execution_count": 59,
   "metadata": {},
   "outputs": [
    {
     "data": {
      "text/plain": [
       "20.955"
      ]
     },
     "execution_count": 59,
     "metadata": {},
     "output_type": "execute_result"
    }
   ],
   "source": [
    "(len(traindataset) + len(testdataset)) / (32*25) # later nog checken"
   ]
  },
  {
   "cell_type": "markdown",
   "metadata": {},
   "source": [
    "De totale dataset heeft een lengte van 16.764. Om de hele datsaet te covereren zijn er 21 epochs nodig. Zijn eigenlijk dan 17 epoch niet voldoende ( zie train en dataloade langs elkaar). Check!!!"
   ]
  },
  {
   "cell_type": "code",
   "execution_count": 60,
   "metadata": {},
   "outputs": [
    {
     "data": {
      "text/plain": [
       "16.76375"
      ]
     },
     "execution_count": 60,
     "metadata": {},
     "output_type": "execute_result"
    }
   ],
   "source": [
    "len(traindataset) / (32*25)"
   ]
  },
  {
   "cell_type": "markdown",
   "metadata": {},
   "source": [
    "Om de totale triandatset te coveren zijn er mnimaal 17 epochs nodig op baiss van 25 train_steps.  "
   ]
  },
  {
   "cell_type": "code",
   "execution_count": 68,
   "metadata": {},
   "outputs": [
    {
     "name": "stderr",
     "output_type": "stream",
     "text": [
      "2022-06-27 08:29:38.730 | INFO     | src.data.data_tools:dir_add_timestamp:66 - Logging to ../tune/20220627-0829\n",
      "100%|██████████| 25/25 [00:10<00:00,  2.47it/s]\n",
      "2022-06-27 08:29:49.494 | INFO     | src.training.train_model:trainloop:164 - Epoch 0 train 1.3027 test 1.2563 metric ['0.3125']\n",
      "100%|██████████| 25/25 [00:02<00:00, 11.27it/s]\n",
      "2022-06-27 08:29:52.137 | INFO     | src.training.train_model:trainloop:164 - Epoch 1 train 1.2362 test 1.2245 metric ['0.3538']\n",
      "100%|██████████| 25/25 [00:01<00:00, 15.32it/s]\n",
      "2022-06-27 08:29:54.389 | INFO     | src.training.train_model:trainloop:164 - Epoch 2 train 1.2139 test 1.2132 metric ['0.3113']\n",
      "100%|██████████| 25/25 [00:02<00:00, 11.27it/s]\n",
      "2022-06-27 08:29:57.170 | INFO     | src.training.train_model:trainloop:164 - Epoch 3 train 1.1144 test 1.0651 metric ['0.5200']\n",
      "100%|██████████| 25/25 [00:01<00:00, 14.61it/s]\n",
      "2022-06-27 08:29:59.343 | INFO     | src.training.train_model:trainloop:164 - Epoch 4 train 1.0267 test 1.0451 metric ['0.5225']\n",
      "100%|██████████| 25/25 [00:01<00:00, 15.58it/s]\n",
      "2022-06-27 08:30:01.394 | INFO     | src.training.train_model:trainloop:164 - Epoch 5 train 0.9385 test 0.8943 metric ['0.6138']\n",
      "100%|██████████| 25/25 [00:01<00:00, 12.67it/s]\n",
      "2022-06-27 08:30:04.051 | INFO     | src.training.train_model:trainloop:164 - Epoch 6 train 0.8263 test 0.7634 metric ['0.7312']\n",
      "100%|██████████| 25/25 [00:02<00:00, 10.80it/s]\n",
      "2022-06-27 08:30:06.839 | INFO     | src.training.train_model:trainloop:164 - Epoch 7 train 0.7050 test 0.5732 metric ['0.7837']\n",
      "100%|██████████| 25/25 [00:01<00:00, 15.51it/s]\n",
      "2022-06-27 08:30:08.853 | INFO     | src.training.train_model:trainloop:164 - Epoch 8 train 0.6650 test 0.5365 metric ['0.8087']\n",
      "100%|██████████| 25/25 [00:01<00:00, 17.40it/s]\n",
      "2022-06-27 08:30:10.740 | INFO     | src.training.train_model:trainloop:164 - Epoch 9 train 0.5792 test 0.5790 metric ['0.7913']\n",
      "100%|██████████| 25/25 [00:02<00:00, 11.87it/s]\n",
      "2022-06-27 08:30:13.308 | INFO     | src.training.train_model:trainloop:164 - Epoch 10 train 0.5653 test 0.5701 metric ['0.7950']\n",
      "100%|██████████| 25/25 [00:01<00:00, 13.68it/s]\n",
      "2022-06-27 08:30:15.647 | INFO     | src.training.train_model:trainloop:164 - Epoch 11 train 0.4868 test 0.4816 metric ['0.8325']\n",
      "100%|██████████| 25/25 [00:01<00:00, 13.50it/s]\n",
      "2022-06-27 08:30:17.963 | INFO     | src.training.train_model:trainloop:164 - Epoch 12 train 0.5308 test 0.4270 metric ['0.8600']\n",
      "100%|██████████| 25/25 [00:01<00:00, 14.35it/s]\n",
      "2022-06-27 08:30:20.177 | INFO     | src.training.train_model:trainloop:164 - Epoch 13 train 0.4042 test 0.4290 metric ['0.8525']\n",
      "100%|██████████| 25/25 [00:01<00:00, 13.07it/s]\n",
      "2022-06-27 08:30:22.857 | INFO     | src.training.train_model:trainloop:164 - Epoch 14 train 0.4204 test 0.4187 metric ['0.8500']\n",
      "100%|██████████| 25/25 [00:02<00:00, 11.03it/s]\n",
      "2022-06-27 08:30:25.680 | INFO     | src.training.train_model:trainloop:164 - Epoch 15 train 0.3911 test 0.4303 metric ['0.8500']\n",
      "100%|██████████| 25/25 [00:01<00:00, 15.63it/s]\n",
      "2022-06-27 08:30:27.695 | INFO     | src.training.train_model:trainloop:164 - Epoch 16 train 0.3974 test 0.4240 metric ['0.8500']\n",
      "100%|██████████| 25/25 [00:01<00:00, 15.09it/s]\n",
      "2022-06-27 08:30:29.893 | INFO     | src.training.train_model:trainloop:164 - Epoch 17 train 0.3383 test 0.3851 metric ['0.8688']\n",
      "100%|██████████| 25/25 [00:02<00:00, 11.50it/s]\n",
      "2022-06-27 08:30:32.704 | INFO     | src.training.train_model:trainloop:164 - Epoch 18 train 0.3137 test 0.3565 metric ['0.8888']\n",
      "100%|██████████| 25/25 [00:01<00:00, 12.67it/s]\n",
      "2022-06-27 08:30:35.174 | INFO     | src.training.train_model:trainloop:164 - Epoch 19 train 0.3092 test 0.3783 metric ['0.8712']\n",
      "100%|██████████| 25/25 [00:01<00:00, 13.37it/s]\n",
      "2022-06-27 08:30:37.687 | INFO     | src.training.train_model:trainloop:164 - Epoch 20 train 0.3632 test 0.3545 metric ['0.8750']\n",
      "100%|██████████| 21/21 [00:58<00:00,  2.81s/it]\n"
     ]
    }
   ],
   "source": [
    "from src.training import train_model\n",
    "\n",
    "model = train_model.trainloop(\n",
    "    epochs=21,\n",
    "    model=model,\n",
    "    metrics=metrics,\n",
    "    optimizer=torch.optim.Adam,\n",
    "    learning_rate=1e-3,\n",
    "    loss_fn=loss_fn,\n",
    "    train_dataloader=trainstreamer,\n",
    "    test_dataloader=teststreamer,\n",
    "    log_dir=log_dir,\n",
    "    train_steps=25,\n",
    "    eval_steps=25,\n",
    ")\n"
   ]
  },
  {
   "cell_type": "markdown",
   "metadata": {},
   "source": [
    "Save an image from the training in tensorboard in the `figures` folder.\n",
    "Explain what you are seeing."
   ]
  },
  {
   "cell_type": "markdown",
   "metadata": {},
   "source": [
    "your explanation here"
   ]
  },
  {
   "cell_type": "markdown",
   "metadata": {},
   "source": [
    "# 5 Evaluate the basemodel\n",
    "Create a confusion matrix with the code below"
   ]
  },
  {
   "cell_type": "code",
   "execution_count": 69,
   "metadata": {},
   "outputs": [
    {
     "data": {
      "text/plain": [
       "[Text(0.5, 15.0, 'Predicted'), Text(33.0, 0.5, 'Target')]"
      ]
     },
     "execution_count": 69,
     "metadata": {},
     "output_type": "execute_result"
    },
    {
     "data": {
      "image/png": "[encoded data removed]",
      "text/plain": [
       "<Figure size 432x288 with 2 Axes>"
      ]
     },
     "metadata": {
      "needs_background": "light"
     },
     "output_type": "display_data"
    }
   ],
   "source": [
    "from sklearn.metrics import confusion_matrix\n",
    "\n",
    "y_true = []\n",
    "y_pred = []\n",
    "\n",
    "for _ in range(10):\n",
    "    X, y = next(teststreamer)\n",
    "    yhat = model(X)\n",
    "    yhat = yhat.argmax(dim=1)\n",
    "    y_pred.append(yhat.tolist())\n",
    "    y_true.append(y.tolist())\n",
    "\n",
    "yhat = [x for y in y_pred for x in y]\n",
    "y = [x for y in y_true for x in y]\n",
    "\n",
    "cfm = confusion_matrix(y, yhat)\n",
    "cfm_norm = cfm / np.sum(cfm, axis=1, keepdims=True)\n",
    "plot = sns.heatmap(cfm_norm, annot=cfm_norm, fmt=\".3f\")\n",
    "plot.set(xlabel=\"Predicted\", ylabel=\"Target\")\n"
   ]
  },
  {
   "cell_type": "markdown",
   "metadata": {},
   "source": [
    "Save this in the figures folder.\n",
    "Interpret this. \n",
    "\n",
    "- What is going on?\n",
    "- What is a good metric here?\n",
    "- how is your answer to Q1 relevant here?\n",
    "- Is there something you could do to fix/improve things, after you see these results?"
   ]
  },
  {
   "cell_type": "markdown",
   "metadata": {},
   "source": [
    "Je ziet hier de uitkomst tussen niet normale verdeling van de dataset. HIerbij is bijvoorbeeld de eerste cel, deze is predicted 0 en voor 96% is deze ook 0. Dit geldt dus niet voor groep 3, waarbij deze maar 48% ook groep 3 voorspelt. Label 3 is de groep 'proverbs, waarbij er een veel lager aantal van is.  Mogleijk datamodificeren zodat er meer data van die groep binnenkomt. Geen data weggooien. Misschien meer gewicht meegen aan de groep. De dataset is dus ongebalanceerd. Een mogelijkheid hiervoor is om data augmenting te gebruiken. Hierbij gaan we dus de data kunstmatig vergroten van de group 'proverbs'. Hierbij kun je meer gewicht toekennen aan de groep 'proverbers'. Dit zal invloed hebben op de likelihood dat een punt uit een klasse wordt getrokken, doordat je van een uniforme verdeling naar een multinomiale verdeling met gecontroleerde paremeters gaat. De F1Score zorgt ook voor een betere verhouding. Deze wordt toegevoegd aan de metrics en nogmaals wordt de confusion matrix uitgedraaid.    \n",
    " "
   ]
  },
  {
   "cell_type": "code",
   "execution_count": 72,
   "metadata": {},
   "outputs": [],
   "source": [
    "from src.models import metrics\n",
    "metrics = [metrics.Accuracy(), metrics.F1Score()]\n"
   ]
  },
  {
   "cell_type": "code",
   "execution_count": 73,
   "metadata": {},
   "outputs": [
    {
     "name": "stderr",
     "output_type": "stream",
     "text": [
      "2022-06-27 08:44:45.354 | INFO     | src.data.data_tools:dir_add_timestamp:66 - Logging to ../tune/20220627-0844\n",
      "100%|██████████| 25/25 [00:10<00:00,  2.40it/s]\n",
      "2022-06-27 08:44:56.566 | INFO     | src.training.train_model:trainloop:164 - Epoch 0 train 0.3325 test 0.3787 metric ['0.8775', '0.7744']\n",
      "100%|██████████| 25/25 [00:02<00:00, 10.33it/s]\n",
      "2022-06-27 08:44:59.685 | INFO     | src.training.train_model:trainloop:164 - Epoch 1 train 0.3150 test 0.3656 metric ['0.8762', '0.7728']\n",
      "100%|██████████| 25/25 [00:01<00:00, 13.01it/s]\n",
      "2022-06-27 08:45:02.130 | INFO     | src.training.train_model:trainloop:164 - Epoch 2 train 0.3160 test 0.3657 metric ['0.8738', '0.7927']\n",
      "100%|██████████| 25/25 [00:02<00:00, 12.20it/s]\n",
      "2022-06-27 08:45:04.758 | INFO     | src.training.train_model:trainloop:164 - Epoch 3 train 0.3010 test 0.3680 metric ['0.8675', '0.7749']\n",
      "100%|██████████| 25/25 [00:02<00:00, 11.86it/s]\n",
      "2022-06-27 08:45:07.311 | INFO     | src.training.train_model:trainloop:164 - Epoch 4 train 0.3145 test 0.3106 metric ['0.8925', '0.8439']\n",
      "100%|██████████| 25/25 [00:01<00:00, 16.13it/s]\n",
      "2022-06-27 08:45:09.350 | INFO     | src.training.train_model:trainloop:164 - Epoch 5 train 0.2809 test 0.3787 metric ['0.8825', '0.7963']\n",
      "100%|██████████| 25/25 [00:01<00:00, 15.11it/s]\n",
      "2022-06-27 08:45:11.661 | INFO     | src.training.train_model:trainloop:164 - Epoch 6 train 0.2935 test 0.2982 metric ['0.9000', '0.7967']\n",
      "100%|██████████| 25/25 [00:02<00:00, 11.18it/s]\n",
      "2022-06-27 08:45:14.590 | INFO     | src.training.train_model:trainloop:164 - Epoch 7 train 0.2939 test 0.3368 metric ['0.8862', '0.8378']\n",
      "100%|██████████| 25/25 [00:01<00:00, 13.17it/s]\n",
      "2022-06-27 08:45:17.094 | INFO     | src.training.train_model:trainloop:164 - Epoch 8 train 0.1907 test 0.3617 metric ['0.8700', '0.7873']\n",
      "100%|██████████| 25/25 [00:01<00:00, 13.96it/s]\n",
      "2022-06-27 08:45:19.539 | INFO     | src.training.train_model:trainloop:164 - Epoch 9 train 0.1806 test 0.2658 metric ['0.9137', '0.8506']\n",
      "100%|██████████| 25/25 [00:01<00:00, 13.72it/s]\n",
      "2022-06-27 08:45:21.816 | INFO     | src.training.train_model:trainloop:164 - Epoch 10 train 0.2308 test 0.2512 metric ['0.9187', '0.8558']\n",
      "100%|██████████| 25/25 [00:01<00:00, 16.49it/s]\n",
      "2022-06-27 08:45:23.769 | INFO     | src.training.train_model:trainloop:164 - Epoch 11 train 0.2003 test 0.3646 metric ['0.8725', '0.7893']\n",
      "100%|██████████| 25/25 [00:01<00:00, 16.10it/s]\n",
      "2022-06-27 08:45:25.824 | INFO     | src.training.train_model:trainloop:164 - Epoch 12 train 0.2291 test 0.3720 metric ['0.8812', '0.8382']\n",
      "100%|██████████| 25/25 [00:02<00:00, 11.47it/s]\n",
      "2022-06-27 08:45:28.612 | INFO     | src.training.train_model:trainloop:164 - Epoch 13 train 0.1805 test 0.3556 metric ['0.8812', '0.7904']\n",
      "100%|██████████| 25/25 [00:01<00:00, 12.98it/s]\n",
      "2022-06-27 08:45:31.056 | INFO     | src.training.train_model:trainloop:164 - Epoch 14 train 0.2052 test 0.3248 metric ['0.8888', '0.8291']\n",
      "100%|██████████| 25/25 [00:01<00:00, 15.15it/s]\n",
      "2022-06-27 08:45:33.164 | INFO     | src.training.train_model:trainloop:164 - Epoch 15 train 0.1887 test 0.2944 metric ['0.8938', '0.8306']\n",
      "100%|██████████| 25/25 [00:01<00:00, 13.98it/s]\n",
      "2022-06-27 08:45:35.573 | INFO     | src.training.train_model:trainloop:164 - Epoch 16 train 0.1517 test 0.3374 metric ['0.8912', '0.8291']\n",
      "100%|██████████| 25/25 [00:01<00:00, 14.65it/s]\n",
      "2022-06-27 08:45:37.963 | INFO     | src.training.train_model:trainloop:164 - Epoch 17 train 0.1871 test 0.3879 metric ['0.8762', '0.7990']\n",
      "100%|██████████| 25/25 [00:01<00:00, 12.65it/s]\n",
      "2022-06-27 08:45:40.389 | INFO     | src.training.train_model:trainloop:164 - Epoch 18 train 0.1944 test 0.2799 metric ['0.9012', '0.8521']\n",
      "100%|██████████| 25/25 [00:01<00:00, 16.67it/s]\n",
      "2022-06-27 08:45:42.345 | INFO     | src.training.train_model:trainloop:164 - Epoch 19 train 0.1946 test 0.2900 metric ['0.9087', '0.8460']\n",
      "100%|██████████| 25/25 [00:01<00:00, 15.93it/s]\n",
      "2022-06-27 08:45:44.408 | INFO     | src.training.train_model:trainloop:164 - Epoch 20 train 0.2187 test 0.3355 metric ['0.8762', '0.7902']\n",
      "100%|██████████| 21/21 [00:59<00:00,  2.81s/it]\n"
     ]
    }
   ],
   "source": [
    "from src.training import train_model\n",
    "\n",
    "model = train_model.trainloop(\n",
    "    epochs=21,\n",
    "    model=model,\n",
    "    metrics=metrics,\n",
    "    optimizer=torch.optim.Adam,\n",
    "    learning_rate=1e-3,\n",
    "    loss_fn=loss_fn,\n",
    "    train_dataloader=trainstreamer,\n",
    "    test_dataloader=teststreamer,\n",
    "    log_dir=log_dir,\n",
    "    train_steps=25,\n",
    "    eval_steps=25,\n",
    ")"
   ]
  },
  {
   "cell_type": "code",
   "execution_count": 74,
   "metadata": {},
   "outputs": [
    {
     "data": {
      "text/plain": [
       "[Text(0.5, 15.0, 'Predicted'), Text(33.0, 0.5, 'Target')]"
      ]
     },
     "execution_count": 74,
     "metadata": {},
     "output_type": "execute_result"
    },
    {
     "data": {
      "image/png": "[encoded data removed]",
      "text/plain": [
       "<Figure size 432x288 with 2 Axes>"
      ]
     },
     "metadata": {
      "needs_background": "light"
     },
     "output_type": "display_data"
    }
   ],
   "source": [
    "from sklearn.metrics import confusion_matrix\n",
    "\n",
    "y_true = []\n",
    "y_pred = []\n",
    "\n",
    "for _ in range(10):\n",
    "    X, y = next(teststreamer)\n",
    "    yhat = model(X)\n",
    "    yhat = yhat.argmax(dim=1)\n",
    "    y_pred.append(yhat.tolist())\n",
    "    y_true.append(y.tolist())\n",
    "\n",
    "yhat = [x for y in y_pred for x in y]\n",
    "y = [x for y in y_true for x in y]\n",
    "\n",
    "cfm = confusion_matrix(y, yhat)\n",
    "cfm_norm = cfm / np.sum(cfm, axis=1, keepdims=True)\n",
    "plot = sns.heatmap(cfm_norm, annot=cfm_norm, fmt=\".3f\")\n",
    "plot.set(xlabel=\"Predicted\", ylabel=\"Target\")\n"
   ]
  },
  {
   "cell_type": "markdown",
   "metadata": {},
   "source": [
    "Hierbij komt naar voren dat voor dat voor target 3 in 75% van de gevallen als een 3 wordt voorspeld. Dit is beduidend hoger dan alleen gebruik te maken van de accurcy metric."
   ]
  },
  {
   "cell_type": "markdown",
   "metadata": {},
   "source": [
    "# 6 Tune the model\n",
    "Don't overdo this.\n",
    "More is not better.\n",
    "\n",
    "Bonus points for things like:\n",
    "- Attention layers\n",
    "- Trax architecture including a functioning training loop\n",
    "\n",
    "Keep it small! It's better to present 2 or 3 sane experiments that are structured and thought trough, than 25 random guesses. You can test more, but select 2 or 3 of the best alternatives you researched, with a rationale why this works better.\n",
    "\n",
    "Keep it concise; explain:\n",
    "- what you changed\n",
    "- why you thought that was a good idea  \n",
    "- what the impact was (visualise or numeric)\n",
    "- explain the impact\n",
    "\n",
    "You dont need to get a perfect score; curiousity driven research that fails is fine.\n",
    "The insight into what is happening is more important than the quantity.\n",
    "\n",
    "Keep logs of your settings;\n",
    "either use gin, or save configs, or both :)\n",
    "Store images in the `figures` folder."
   ]
  },
  {
   "cell_type": "code",
   "execution_count": null,
   "metadata": {},
   "outputs": [],
   "source": [
    "#filter groter maken, le groter maken ( is nu vrij klein) "
   ]
  },
  {
   "cell_type": "markdown",
   "metadata": {},
   "source": [
    "Hierbij hebben we een nieuwe class toegevoegd in de rnn models. Dit is de AttentionNLP > hierbij zit dus een attional layer tussen de GRU en linear. Dit zorgt voor meer context in het verhaal. "
   ]
  },
  {
   "cell_type": "code",
   "execution_count": 26,
   "metadata": {},
   "outputs": [],
   "source": [
    "model = rnn.AttentionNLP(config)"
   ]
  },
  {
   "cell_type": "markdown",
   "metadata": {},
   "source": [
    "20220625-0936 zonder attention layer\n",
    "20220625-0938 met attenlion layer. Zorg voor lagere loss en hogere accurcy. \n",
    "Nog to do learnin grate spelen en trains steps. "
   ]
  },
  {
   "cell_type": "markdown",
   "metadata": {},
   "source": [
    "test op meer filters om 12:05 > zorgt mogelijk over overfitting > telkens copies maken. Met meer filters wel hogere accurcy direct in het begin (20220625-0957). Filters verhogen naar 1024 (20220626-1115). Check hierna ook de confusion matrix. "
   ]
  },
  {
   "cell_type": "code",
   "execution_count": null,
   "metadata": {},
   "outputs": [],
   "source": []
  },
  {
   "cell_type": "code",
   "execution_count": 16,
   "metadata": {},
   "outputs": [
    {
     "name": "stderr",
     "output_type": "stream",
     "text": [
      "2022-06-26 11:15:03.234617: W tensorflow/stream_executor/platform/default/dso_loader.cc:64] Could not load dynamic library 'libcudart.so.11.0'; dlerror: libcudart.so.11.0: cannot open shared object file: No such file or directory\n",
      "2022-06-26 11:15:03.234658: I tensorflow/stream_executor/cuda/cudart_stub.cc:29] Ignore above cudart dlerror if you do not have a GPU set up on your machine.\n",
      "2022-06-26 11:15:17.217 | INFO     | src.data.data_tools:dir_add_timestamp:66 - Logging to ../tune/20220626-1115\n",
      "100%|██████████| 25/25 [00:29<00:00,  1.17s/it]\n",
      "2022-06-26 11:15:52.201 | INFO     | src.training.train_model:trainloop:164 - Epoch 0 train 1.7386 test 1.0167 metric ['0.6088']\n",
      "100%|██████████| 25/25 [00:26<00:00,  1.07s/it]\n",
      "2022-06-26 11:16:24.996 | INFO     | src.training.train_model:trainloop:164 - Epoch 1 train 0.8379 test 0.6773 metric ['0.7788']\n",
      "100%|██████████| 25/25 [00:24<00:00,  1.03it/s]\n",
      "2022-06-26 11:16:55.295 | INFO     | src.training.train_model:trainloop:164 - Epoch 2 train 0.6904 test 0.6051 metric ['0.7950']\n",
      "100%|██████████| 25/25 [00:24<00:00,  1.02it/s]\n",
      "2022-06-26 11:17:26.974 | INFO     | src.training.train_model:trainloop:164 - Epoch 3 train 0.6283 test 0.4958 metric ['0.8400']\n",
      "100%|██████████| 25/25 [00:24<00:00,  1.03it/s]\n",
      "2022-06-26 11:17:57.422 | INFO     | src.training.train_model:trainloop:164 - Epoch 4 train 0.4097 test 0.4576 metric ['0.8475']\n",
      "100%|██████████| 25/25 [00:23<00:00,  1.08it/s]\n",
      "2022-06-26 11:18:26.474 | INFO     | src.training.train_model:trainloop:164 - Epoch 5 train 0.5204 test 0.4159 metric ['0.8562']\n",
      "100%|██████████| 25/25 [00:23<00:00,  1.08it/s]\n",
      "2022-06-26 11:18:55.341 | INFO     | src.training.train_model:trainloop:164 - Epoch 6 train 0.4245 test 0.5774 metric ['0.8250']\n",
      "100%|██████████| 25/25 [00:25<00:00,  1.01s/it]\n",
      "2022-06-26 11:19:27.259 | INFO     | src.training.train_model:trainloop:164 - Epoch 7 train 0.4769 test 0.3843 metric ['0.8738']\n",
      "100%|██████████| 25/25 [00:23<00:00,  1.05it/s]\n",
      "2022-06-26 11:19:56.813 | INFO     | src.training.train_model:trainloop:164 - Epoch 8 train 0.4041 test 0.4695 metric ['0.8438']\n",
      "100%|██████████| 25/25 [00:22<00:00,  1.09it/s]\n",
      "2022-06-26 11:20:26.284 | INFO     | src.training.train_model:trainloop:164 - Epoch 9 train 0.4540 test 0.5170 metric ['0.8237']\n",
      "100%|██████████| 25/25 [00:25<00:00,  1.00s/it]\n",
      "2022-06-26 11:20:57.576 | INFO     | src.training.train_model:trainloop:164 - Epoch 10 train 0.4393 test 0.4271 metric ['0.8775']\n",
      "100%|██████████| 25/25 [00:22<00:00,  1.09it/s]\n",
      "2022-06-26 11:21:26.717 | INFO     | src.training.train_model:trainloop:164 - Epoch 11 train 0.4087 test 0.3579 metric ['0.8750']\n",
      "100%|██████████| 25/25 [00:22<00:00,  1.09it/s]\n",
      "2022-06-26 11:21:55.602 | INFO     | src.training.train_model:trainloop:164 - Epoch 12 train 0.3136 test 0.3349 metric ['0.8888']\n",
      "100%|██████████| 25/25 [00:21<00:00,  1.17it/s]\n",
      "2022-06-26 11:22:22.861 | INFO     | src.training.train_model:trainloop:164 - Epoch 13 train 0.4011 test 0.3619 metric ['0.8812']\n",
      "100%|██████████| 25/25 [00:19<00:00,  1.26it/s]\n",
      "2022-06-26 11:22:48.474 | INFO     | src.training.train_model:trainloop:164 - Epoch 14 train 0.3218 test 0.3586 metric ['0.8838']\n",
      "100%|██████████| 25/25 [00:21<00:00,  1.18it/s]\n",
      "2022-06-26 11:23:15.773 | INFO     | src.training.train_model:trainloop:164 - Epoch 15 train 0.3714 test 0.3501 metric ['0.8825']\n",
      "100%|██████████| 25/25 [00:22<00:00,  1.13it/s]\n",
      "2022-06-26 11:23:43.906 | INFO     | src.training.train_model:trainloop:164 - Epoch 16 train 0.3077 test 0.3668 metric ['0.8762']\n",
      "100%|██████████| 25/25 [00:25<00:00,  1.02s/it]\n",
      "2022-06-26 11:24:15.326 | INFO     | src.training.train_model:trainloop:164 - Epoch 17 train 0.1710 test 0.3018 metric ['0.8962']\n",
      "100%|██████████| 25/25 [00:25<00:00,  1.00s/it]\n",
      "2022-06-26 11:24:46.649 | INFO     | src.training.train_model:trainloop:164 - Epoch 18 train 0.1720 test 0.3782 metric ['0.8850']\n",
      "100%|██████████| 25/25 [00:24<00:00,  1.04it/s]\n",
      "2022-06-26 11:25:16.728 | INFO     | src.training.train_model:trainloop:164 - Epoch 19 train 0.2401 test 0.3419 metric ['0.8925']\n",
      "100%|██████████| 25/25 [00:25<00:00,  1.01s/it]\n",
      "2022-06-26 11:25:47.567 | INFO     | src.training.train_model:trainloop:164 - Epoch 20 train 0.1909 test 0.3197 metric ['0.9050']\n",
      "100%|██████████| 25/25 [00:21<00:00,  1.17it/s]\n",
      "2022-06-26 11:26:15.059 | INFO     | src.training.train_model:trainloop:164 - Epoch 21 train 0.1866 test 0.3282 metric ['0.9012']\n",
      "100%|██████████| 25/25 [00:22<00:00,  1.11it/s]\n",
      "2022-06-26 11:26:43.793 | INFO     | src.training.train_model:trainloop:164 - Epoch 22 train 0.1711 test 0.2658 metric ['0.9113']\n",
      "100%|██████████| 25/25 [00:23<00:00,  1.04it/s]\n",
      "2022-06-26 11:27:13.415 | INFO     | src.training.train_model:trainloop:164 - Epoch 23 train 0.1781 test 0.3442 metric ['0.8975']\n",
      "100%|██████████| 25/25 [00:27<00:00,  1.11s/it]\n",
      "2022-06-26 11:27:47.011 | INFO     | src.training.train_model:trainloop:164 - Epoch 24 train 0.2076 test 0.3122 metric ['0.8950']\n",
      "100%|██████████| 25/25 [00:23<00:00,  1.08it/s]\n",
      "2022-06-26 11:28:16.030 | INFO     | src.training.train_model:trainloop:164 - Epoch 25 train 0.1852 test 0.3001 metric ['0.9137']\n",
      "100%|██████████| 25/25 [00:23<00:00,  1.08it/s]\n",
      "2022-06-26 11:28:45.562 | INFO     | src.training.train_model:trainloop:164 - Epoch 26 train 0.1799 test 0.2872 metric ['0.9150']\n",
      "100%|██████████| 25/25 [00:23<00:00,  1.08it/s]\n",
      "2022-06-26 11:29:14.400 | INFO     | src.training.train_model:trainloop:164 - Epoch 27 train 0.1917 test 0.3042 metric ['0.9038']\n",
      "100%|██████████| 25/25 [00:24<00:00,  1.02it/s]\n",
      "2022-06-26 11:29:44.885 | INFO     | src.training.train_model:trainloop:164 - Epoch 28 train 0.1835 test 0.3529 metric ['0.9038']\n",
      "100%|██████████| 25/25 [00:22<00:00,  1.11it/s]\n",
      "2022-06-26 11:30:13.591 | INFO     | src.training.train_model:trainloop:164 - Epoch 29 train 0.1617 test 0.3097 metric ['0.9187']\n",
      "100%|██████████| 25/25 [00:22<00:00,  1.13it/s]\n",
      "2022-06-26 11:30:41.363 | INFO     | src.training.train_model:trainloop:164 - Epoch 30 train 0.2267 test 0.2545 metric ['0.9150']\n",
      "100%|██████████| 25/25 [00:24<00:00,  1.02it/s]\n",
      "2022-06-26 11:31:12.152 | INFO     | src.training.train_model:trainloop:164 - Epoch 31 train 0.1765 test 0.2505 metric ['0.9163']\n",
      "100%|██████████| 25/25 [00:24<00:00,  1.00it/s]\n",
      "2022-06-26 11:31:42.743 | INFO     | src.training.train_model:trainloop:164 - Epoch 32 train 0.2148 test 0.3116 metric ['0.8912']\n",
      "100%|██████████| 25/25 [00:24<00:00,  1.04it/s]\n",
      "2022-06-26 11:32:13.095 | INFO     | src.training.train_model:trainloop:164 - Epoch 33 train 0.1360 test 0.3340 metric ['0.9137']\n",
      "100%|██████████| 25/25 [00:23<00:00,  1.08it/s]\n",
      "2022-06-26 11:32:42.387 | INFO     | src.training.train_model:trainloop:164 - Epoch 34 train 0.0530 test 0.5585 metric ['0.8812']\n",
      "100%|██████████| 25/25 [00:23<00:00,  1.08it/s]\n",
      "2022-06-26 11:33:11.937 | INFO     | src.training.train_model:trainloop:164 - Epoch 35 train 0.0858 test 0.3572 metric ['0.9025']\n",
      "100%|██████████| 25/25 [00:21<00:00,  1.17it/s]\n",
      "2022-06-26 11:33:38.697 | INFO     | src.training.train_model:trainloop:164 - Epoch 36 train 0.0618 test 0.3409 metric ['0.9200']\n",
      "100%|██████████| 25/25 [00:21<00:00,  1.15it/s]\n",
      "2022-06-26 11:34:05.841 | INFO     | src.training.train_model:trainloop:164 - Epoch 37 train 0.0523 test 0.3244 metric ['0.9113']\n",
      "100%|██████████| 25/25 [00:20<00:00,  1.24it/s]\n",
      "2022-06-26 11:34:31.778 | INFO     | src.training.train_model:trainloop:164 - Epoch 38 train 0.1060 test 0.4125 metric ['0.9012']\n",
      "100%|██████████| 25/25 [00:20<00:00,  1.19it/s]\n",
      "2022-06-26 11:34:59.274 | INFO     | src.training.train_model:trainloop:164 - Epoch 39 train 0.0911 test 0.3262 metric ['0.9100']\n",
      "100%|██████████| 40/40 [19:42<00:00, 29.55s/it]\n"
     ]
    }
   ],
   "source": [
    "from src.training import train_model\n",
    "\n",
    "model = train_model.trainloop(\n",
    "    epochs=40,\n",
    "    model=model,\n",
    "    metrics=metrics,\n",
    "    optimizer=torch.optim.Adam,\n",
    "    learning_rate=1e-3,\n",
    "    loss_fn=loss_fn,\n",
    "    train_dataloader=trainstreamer,\n",
    "    test_dataloader=teststreamer,\n",
    "    log_dir=log_dir,\n",
    "    train_steps=25,\n",
    "    eval_steps=25,\n",
    ")"
   ]
  },
  {
   "cell_type": "markdown",
   "metadata": {},
   "source": []
  }
 ],
 "metadata": {
  "kernelspec": {
   "display_name": "Python 3.9.12 ('exam-22-DDG3aTJy-py3.9')",
   "language": "python",
   "name": "python3"
  },
  "language_info": {
   "codemirror_mode": {
    "name": "ipython",
    "version": 3
   },
   "file_extension": ".py",
   "mimetype": "text/x-python",
   "name": "python",
   "nbconvert_exporter": "python",
   "pygments_lexer": "ipython3",
   "version": "3.9.12"
  },
  "orig_nbformat": 4,
  "vscode": {
   "interpreter": {
    "hash": "3ef7eee7c1ffccdb050f8336de9a04a9ab88c4d3eb3bee3e0a27c87a184d1d38"
   }
  }
 },
 "nbformat": 4,
 "nbformat_minor": 2
}
