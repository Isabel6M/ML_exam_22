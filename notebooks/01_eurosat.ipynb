{
 "cells": [
  {
   "cell_type": "code",
   "execution_count": 1,
   "metadata": {},
   "outputs": [
    {
     "name": "stderr",
     "output_type": "stream",
     "text": [
      "2022-06-19 13:26:07.005633: W tensorflow/stream_executor/platform/default/dso_loader.cc:64] Could not load dynamic library 'libcudart.so.11.0'; dlerror: libcudart.so.11.0: cannot open shared object file: No such file or directory\n",
      "2022-06-19 13:26:07.005679: I tensorflow/stream_executor/cuda/cudart_stub.cc:29] Ignore above cudart dlerror if you do not have a GPU set up on your machine.\n"
     ]
    }
   ],
   "source": [
    "import sys\n",
    "\n",
    "sys.path.insert(0, \"..\")\n",
    "from src.data import make_dataset, data_tools\n",
    "import numpy as np\n",
    "import tifffile\n",
    "from src.settings import EurosatSettings\n"
   ]
  },
  {
   "cell_type": "markdown",
   "metadata": {},
   "source": [
    "# 1 Download data\n",
    "This will take about 30 minutes\n",
    "While waiting, read about the dataset we are using on their [github](https://github.com/phelber/eurosat)"
   ]
  },
  {
   "cell_type": "code",
   "execution_count": 2,
   "metadata": {},
   "outputs": [
    {
     "name": "stderr",
     "output_type": "stream",
     "text": [
      "2022-06-19 13:26:11.861 | INFO     | src.data.make_dataset:get_eurosat:14 - ../data/raw/EuroSATallBands.zip already exists, skipping download\n"
     ]
    }
   ],
   "source": [
    "settings = EurosatSettings()\n",
    "data_dir = settings.data_dir\n",
    "datapath = make_dataset.get_eurosat(data_dir)\n"
   ]
  },
  {
   "cell_type": "markdown",
   "metadata": {},
   "source": [
    "Load all valid paths. The files are images in .tif format"
   ]
  },
  {
   "cell_type": "code",
   "execution_count": 3,
   "metadata": {},
   "outputs": [],
   "source": [
    "valid_paths = data_dir / settings.valid_paths\n",
    "all_paths, _ = data_tools.iter_valid_paths(valid_paths, formats=[\".tif\"])\n",
    "all_paths = [*all_paths]\n"
   ]
  },
  {
   "cell_type": "markdown",
   "metadata": {},
   "source": [
    "You can load the files with `tifffile.imread(\"path/to/img.tif\")`"
   ]
  },
  {
   "cell_type": "code",
   "execution_count": 4,
   "metadata": {},
   "outputs": [
    {
     "name": "stdout",
     "output_type": "stream",
     "text": [
      "1.21 ms ± 8.96 µs per loop (mean ± std. dev. of 7 runs, 1,000 loops each)\n"
     ]
    },
    {
     "data": {
      "text/plain": [
       "77.3674301348427"
      ]
     },
     "execution_count": 4,
     "metadata": {},
     "output_type": "execute_result"
    }
   ],
   "source": [
    "loadtime = %timeit -o tifffile.imread(all_paths[1])\n",
    "loadtime.average * 2 * 32 * 1000"
   ]
  },
  {
   "cell_type": "markdown",
   "metadata": {},
   "source": [
    "As you can see, loading a tifffile is pretty fast. I clock 1.24 ms per image. This means that you expect the loader to take at least 1.24 x 4 images x batchsize x 1000 milliseconds, which is around 160ms. \n",
    "\n",
    "If your dataloader would take much more time than that (e.g. 500 ms per batch) you are doing something inefficient in your code."
   ]
  },
  {
   "cell_type": "markdown",
   "metadata": {},
   "source": [
    "# 2 motivation: Siamese networks\n",
    "<img src=\"https://929687.smushcdn.com/2633864/wp-content/uploads/2020/11/keras_siamese_networks_header.png?lossy=1&strip=1&webp=1\" />\n",
    "\n",
    "We will build a dataloader for a Siamese network.\n",
    "This is a semi-unsupervised architecture. It:\n",
    "- takes in *two* images instead of one\n",
    "- every image is processed by the *same* model (e.g. a CNN)\n",
    "- the output of the model is a vector. Your input is (batch, channels, width, height) and the output is (batch, dimensions). Think of the vectors as locations in a space. E.g. you can locate Utrecht with two dimenions: (52.0929, 5.1045) on the globe (latitude, longitude). This is the same idea, only here the vector has more than 2 dimensions.\n",
    "- after this, you can compare the *distance* between the two vectors.\n",
    "- The distance should be close if the images are the same, or far away if they are not.\n",
    "\n",
    "# 3 Datastructure\n",
    "We will not build a siamese network, just the dataloader.\n",
    "This means we will need a dataloader that spits out:\n",
    "(X1, X2, y)  instead of our usual (X, y).\n",
    "\n",
    "The label y will be: 1 if the two images are from the same class, 0 otherwise.\n",
    "\n",
    "The most naive approach would be something like is implemented [here](https://datahacker.rs/019-siamese-network-in-pytorch-with-application-to-face-similarity): to get the same class, you just keep on loading images at random in a while loop untill you hit the same class by accident... \n",
    "\n",
    "I hope you can understand why this is a *horrible* idea in terms of efficiency!\n",
    "And another reason to be very carefull to implement random code from the internet...\n",
    "\n",
    "To spell out why: with 10 classes (or, even worse, 40 classes in the example link) you will pick every class with a chance $p=\\frac{1}{10}$ (or $p=\\frac{1}{40}$). So the chance you *dont* pick the same class is $(1-p)$. You would have to do about 6 random picks to get close to a 50% chance of picking the same class ($0.9^6=0.53$), and even up to 26 guesses with 40 classes ($0.975^{26}=0.51$). This is a horrible waste of resources. You will end up spending a big chunk of your time loading random images, and it scales absolutely horrific with more classes (try to calculate how often you need to guess with 100 classes, or 150...) So, can we do better?\n",
    "\n",
    "We will use a different datastructure to do this in a proper way! No worries, I will help you along the way.\n"
   ]
  },
  {
   "cell_type": "markdown",
   "metadata": {},
   "source": [
    "As a datastructure, we will need something where we easily can pull two images from the same class. To do this, we will make a `Dict[int, np.array]` where the numpy array is an array of paths.\n",
    "\n",
    "We use the np.array instead of the list, in order to be able to quickly grab two random items from the array with an integer index.\n",
    "\n",
    "A dummy example is below"
   ]
  },
  {
   "cell_type": "code",
   "execution_count": 5,
   "metadata": {},
   "outputs": [
    {
     "data": {
      "text/plain": [
       "[2, 2, 3]"
      ]
     },
     "execution_count": 5,
     "metadata": {},
     "output_type": "execute_result"
    }
   ],
   "source": [
    "dummy = {\n",
    "    0: np.array([\"path/to/a/01.jpg\", \"path/to/a/02.jpg\"]),\n",
    "    1: np.array([\"path/to/b/03.jpg\", \"path/to/b/04.jpg\"]),\n",
    "    2: np.array([\"path/to/c/05.jpg\", \"path/to/c/06.jpg\", \"path/to/c/07.jpg\"]),\n",
    "}\n",
    "\n",
    "[len(v) for k, v in dummy.items()]\n"
   ]
  },
  {
   "cell_type": "markdown",
   "metadata": {},
   "source": [
    "You see we have three classed (a, b and c), that are in the dictionary as class 0, 1, and 2, and every class has two or three images listed (to be exact with the last line of code: 2, 2, and 3).\n",
    "\n",
    "In addition to this, we want our dataset to have a name_mapping that is a `Dict[str, int]` which maps from the names to an integer. In our case this will be\n",
    "\n",
    "```python\n",
    "name_mapping = {\n",
    "    \"a\" : 0,\n",
    "    \"b\" : 1,\n",
    "    \"c\" : 2\n",
    "}\n",
    "```\n",
    "\n",
    "If we need two images from class 2, we can create a random index [0, 2] and the code example below will give us two images (the 0th and the 2nd) that are from the same class."
   ]
  },
  {
   "cell_type": "code",
   "execution_count": 6,
   "metadata": {},
   "outputs": [
    {
     "data": {
      "text/plain": [
       "array(['path/to/c/05.jpg', 'path/to/c/07.jpg'], dtype='<U16')"
      ]
     },
     "execution_count": 6,
     "metadata": {},
     "output_type": "execute_result"
    }
   ],
   "source": [
    "classlabel = 2\n",
    "idx = np.array([0, 2])\n",
    "idx\n",
    "dummy[classlabel][idx]"
   ]
  },
  {
   "cell_type": "code",
   "execution_count": 7,
   "metadata": {},
   "outputs": [
    {
     "data": {
      "text/plain": [
       "{0: array(['path/to/a/01.jpg', 'path/to/a/02.jpg'], dtype='<U16'),\n",
       " 1: array(['path/to/b/03.jpg', 'path/to/b/04.jpg'], dtype='<U16'),\n",
       " 2: array(['path/to/c/05.jpg', 'path/to/c/06.jpg', 'path/to/c/07.jpg'],\n",
       "       dtype='<U16')}"
      ]
     },
     "execution_count": 7,
     "metadata": {},
     "output_type": "execute_result"
    }
   ],
   "source": [
    "dummy"
   ]
  },
  {
   "cell_type": "markdown",
   "metadata": {},
   "source": [
    "## Question 1\n",
    "We want to implement `EuroSatDataset`, which inherits from `BaseDataset`.\n",
    "### Implement `__len__`\n",
    "in the example above, the lenght of the dataset is 2+2+3=7.\n",
    "The lengths of the dataset is the count of all paths in all classes.\n",
    "\n",
    "Implement the `__len__` method in the EuroSatDataset in data_tools.py so that it returns the correct lenght of the dataset.\n"
   ]
  },
  {
   "cell_type": "code",
   "execution_count": 8,
   "metadata": {},
   "outputs": [
    {
     "name": "stderr",
     "output_type": "stream",
     "text": [
      "100%|██████████| 27000/27000 [00:00<00:00, 49543.40it/s]\n"
     ]
    }
   ],
   "source": [
    "test1 = data_tools.EuroSatDataset(all_paths)"
   ]
  },
  {
   "cell_type": "code",
   "execution_count": 9,
   "metadata": {},
   "outputs": [
    {
     "data": {
      "text/plain": [
       "27000"
      ]
     },
     "execution_count": 9,
     "metadata": {},
     "output_type": "execute_result"
    }
   ],
   "source": [
    "test1.__len__()"
   ]
  },
  {
   "cell_type": "markdown",
   "metadata": {},
   "source": [
    "## Question 2\n",
    "### implement process_data\n",
    "\n",
    "Finish `process_data`. You need to fill the dataset dict structure.\n",
    "To do this, you need to map a key (which is an integer: the label mapped to an int).\n",
    "In our example, the label \"a\" should be stored as key 0. Use `name_mapping` for that:\n",
    "\n",
    "```python\n",
    "name_mapping[\"a\"]\n",
    "```\n",
    "\n",
    "will return the correct integer we can use as a key.\n",
    "\n",
    "You also need to store the values: paths in an np.array. \n",
    "To do this, we will start with an empty np.array, and keep appending new paths to this array.\n",
    "While that is not an ideal thing to do, we only need to do this once so it is acceptable.\n",
    "\n",
    "The endresult of `process_data` should be, that the input `all_paths` is transformed into a Dict[int, np.array] dataset, just like the dummy example below.\n",
    "\n",
    "```python\n",
    "dummy = {\n",
    "    0: np.array([\"path/to/a/01.jpg\", \"path/to/a/02.jpg\"]),\n",
    "    1: np.array([\"path/to/b/03.jpg\", \"path/to/b/04.jpg\"]),\n",
    "    2: np.array([\"path/to/c/05.jpg\", \"path/to/c/06.jpg\", \"path/to/c/07.jpg\"]),\n",
    "}\n",
    "```"
   ]
  },
  {
   "cell_type": "code",
   "execution_count": 10,
   "metadata": {},
   "outputs": [
    {
     "data": {
      "text/plain": [
       "{0: array(['path/to/a/01.jpg', 'path/to/a/02.jpg'], dtype='<U16'),\n",
       " 1: array(['path/to/b/03.jpg', 'path/to/b/04.jpg'], dtype='<U16'),\n",
       " 2: array(['path/to/c/05.jpg', 'path/to/c/06.jpg', 'path/to/c/07.jpg'],\n",
       "       dtype='<U16')}"
      ]
     },
     "execution_count": 10,
     "metadata": {},
     "output_type": "execute_result"
    }
   ],
   "source": [
    "classlabel = 2\n",
    "idx = np.array([0, 2])\n",
    "idx\n",
    "dummy[classlabel][idx]\n",
    "dummy\n"
   ]
  },
  {
   "cell_type": "code",
   "execution_count": 11,
   "metadata": {},
   "outputs": [
    {
     "name": "stderr",
     "output_type": "stream",
     "text": [
      "100%|██████████| 27000/27000 [00:00<00:00, 46092.42it/s]\n"
     ]
    }
   ],
   "source": [
    "eurosat = data_tools.EuroSatDataset(paths=all_paths)\n"
   ]
  },
  {
   "cell_type": "markdown",
   "metadata": {},
   "source": [
    "You can run this test"
   ]
  },
  {
   "cell_type": "code",
   "execution_count": 12,
   "metadata": {},
   "outputs": [
    {
     "data": {
      "text/plain": [
       "([2500, 2500, 3000, 3000, 2000, 3000, 3000, 3000, 2500, 2500],\n",
       " {'PermanentCrop': 0,\n",
       "  'Highway': 1,\n",
       "  'SeaLake': 2,\n",
       "  'AnnualCrop': 3,\n",
       "  'Pasture': 4,\n",
       "  'Residential': 5,\n",
       "  'HerbaceousVegetation': 6,\n",
       "  'Forest': 7,\n",
       "  'River': 8,\n",
       "  'Industrial': 9},\n",
       " 10)"
      ]
     },
     "execution_count": 12,
     "metadata": {},
     "output_type": "execute_result"
    }
   ],
   "source": [
    "dataset = eurosat.dataset\n",
    "[len(v) for k, v in dataset.items()], eurosat.name_mapping, len(dataset)"
   ]
  },
  {
   "cell_type": "markdown",
   "metadata": {},
   "source": [
    "# Question 3\n",
    "## implement batchloop\n",
    "\n",
    "It is not straightforward to implement a mechanism that picks two random images from the same class, and two random images from different classes, and do so at speed.\n",
    "I made an implementation to help you on the way.\n",
    "\n",
    "My implementation is fast enough, but if you dont want to use it you can implement it in another way for yourself.\n",
    "\n",
    "The endresult should be the same, however:\n",
    "- fill a batch with 50% similar images from the same class with label 1 (x1, x2, 1) and 50% images with different classes with label 0 (x1, x2, 0)"
   ]
  },
  {
   "cell_type": "markdown",
   "metadata": {},
   "source": [
    "My random_index() function returns five items. The first two are:\n",
    "- equal (int): this is a random class key from which to pick similar images\n",
    "- same (List[np.array]) : this is a list of indexes. You can use an index to get two images from the class \n",
    "\n",
    "A working example with the dummy data is like this:"
   ]
  },
  {
   "cell_type": "code",
   "execution_count": 13,
   "metadata": {},
   "outputs": [
    {
     "data": {
      "text/plain": [
       "('path/to/c/05.jpg', 'path/to/c/06.jpg')"
      ]
     },
     "execution_count": 13,
     "metadata": {},
     "output_type": "execute_result"
    }
   ],
   "source": [
    "equal = 2 # from class two\n",
    "same = [np.array([0, 1]), np.array([0, 2])] # we can pick these two combos\n",
    "same\n",
    "idx = same[0] # we use the first one of the combos\n",
    "x1, x2 = dummy[equal][idx] # and retrieve from class 2 the paths on index 0 and 1\n",
    "x1, x2\n"
   ]
  },
  {
   "cell_type": "markdown",
   "metadata": {},
   "source": [
    "As you can see, this selects images from class number 2 (`equal`)\n",
    "The images selected are the 0th and 1th (`same[0]`).\n",
    "The result is two paths, both in class \"c\" (which is the 2nd class).\n",
    "\n",
    "The other 3 items random_index() returns are:\n",
    "- i and j. Two different class keys \n",
    "- other. A list of tuples, every tuple contains two indexes, one from class i, one from class j "
   ]
  },
  {
   "cell_type": "code",
   "execution_count": 14,
   "metadata": {},
   "outputs": [
    {
     "data": {
      "text/plain": [
       "('path/to/a/01.jpg', 'path/to/c/05.jpg')"
      ]
     },
     "execution_count": 14,
     "metadata": {},
     "output_type": "execute_result"
    }
   ],
   "source": [
    "i = 0 # the first class we will pick from\n",
    "j = 2 # the second class we will pick from\n",
    "other = [(0, 0), (0, 2), (1, 2)] # these are the possible path indeces\n",
    "\n",
    "idx = other[0] # we take the first combo\n",
    "x1, x2 = dummy[i][idx[0]], dummy[j][idx[1]] \n",
    "# and extract from class i the 0th path (idx[0]),\n",
    "# and from class j also the 0th path (idx[1]))\n",
    "x1, x2 # this gives us two paths, from different classes\n"
   ]
  },
  {
   "cell_type": "code",
   "execution_count": null,
   "metadata": {},
   "outputs": [],
   "source": []
  },
  {
   "cell_type": "code",
   "execution_count": 15,
   "metadata": {},
   "outputs": [
    {
     "data": {
      "text/plain": [
       "PosixPath('../data/raw/EuroSATallBands.zip')"
      ]
     },
     "execution_count": 15,
     "metadata": {},
     "output_type": "execute_result"
    }
   ],
   "source": [
    "datapath"
   ]
  },
  {
   "cell_type": "code",
   "execution_count": 16,
   "metadata": {},
   "outputs": [],
   "source": [
    "import numpy as np\n",
    "import random\n",
    "from itertools import combinations\n",
    "rng = np.random.default_rng()\n",
    "        # random class\n",
    "equal = rng.integers(0, 10, 1)[0]\n",
    "\n",
    "index = rng.integers(0, len(dataset[equal]), 32)\n",
    "different = list(combinations([*range(10)], 2))\n",
    "#32 array'set\n",
    "\n",
    "        # # random indexes from the random class\n",
    "\n",
    "        # # splitted in pairs of two\n",
    "same = np.split(index, 32 // 2)\n",
    "\n",
    "\n",
    "        # # pick two random different classes\n",
    "random.shuffle(different)\n",
    "i, j = different[0]\n",
    "   \n",
    "\n",
    "        # # get random indexes from the first class\n",
    "index1 = rng.integers(0, len(dataset[i]), 32 // 2)\n",
    "index1\n",
    "        # # and from the second class\n",
    "index2 = rng.integers(0, len(dataset[j]), 32 // 2)\n",
    "        # # zip into tuples of two\n",
    "other = list(zip(index1, index2))\n",
    "other\n",
    "check = (same, equal), (other, (i, j))\n",
    "idx = same[0]\n",
    "idx\n",
    "img1, img2 = dataset[equal][idx]\n",
    "same_img = (img1,img2)\n",
    "\n"
   ]
  },
  {
   "cell_type": "code",
   "execution_count": 17,
   "metadata": {},
   "outputs": [
    {
     "ename": "IndexError",
     "evalue": "tuple index out of range",
     "output_type": "error",
     "traceback": [
      "\u001b[0;31m---------------------------------------------------------------------------\u001b[0m",
      "\u001b[0;31mIndexError\u001b[0m                                Traceback (most recent call last)",
      "\u001b[1;32m/home/mladmin/code/examen-22/notebooks/01_eurosat.ipynb Cell 30'\u001b[0m in \u001b[0;36m<cell line: 1>\u001b[0;34m()\u001b[0m\n\u001b[0;32m----> <a href='vscode-notebook-cell://ssh-remote%2Bml-lab-499b0cc0-f0fa-444d-a905-b2d2bead7477.westeurope.cloudapp.azure.com/home/mladmin/code/examen-22/notebooks/01_eurosat.ipynb#ch0000029vscode-remote?line=0'>1</a>\u001b[0m check[\u001b[39m5\u001b[39;49m]\n",
      "\u001b[0;31mIndexError\u001b[0m: tuple index out of range"
     ]
    }
   ],
   "source": [
    "check[5]\n",
    "\n"
   ]
  },
  {
   "cell_type": "markdown",
   "metadata": {},
   "source": [
    "As you can see, even though the two indexes in `other` are both 0, one of them is pulled from class i, the other from class j.\n",
    "We end up with two different paths from class \"a\" and class \"c\".\n",
    "\n",
    "Implement this mechanism in SiameseStreamer.batchloop()\n",
    "\n",
    "## Tests\n",
    "You can run these tests to see if everything works as expected"
   ]
  },
  {
   "cell_type": "code",
   "execution_count": 18,
   "metadata": {},
   "outputs": [
    {
     "data": {
      "text/plain": [
       "27000"
      ]
     },
     "execution_count": 18,
     "metadata": {},
     "output_type": "execute_result"
    }
   ],
   "source": [
    "len(eurosat)"
   ]
  },
  {
   "cell_type": "code",
   "execution_count": 19,
   "metadata": {},
   "outputs": [],
   "source": [
    "streamer = data_tools.SiameseStreamer(\n",
    "    dataset=eurosat,\n",
    "    batchsize=32,\n",
    ").stream()\n"
   ]
  },
  {
   "cell_type": "code",
   "execution_count": 20,
   "metadata": {},
   "outputs": [
    {
     "ename": "TypeError",
     "evalue": "list.append() takes exactly one argument (2 given)",
     "output_type": "error",
     "traceback": [
      "\u001b[0;31m---------------------------------------------------------------------------\u001b[0m",
      "\u001b[0;31mTypeError\u001b[0m                                 Traceback (most recent call last)",
      "\u001b[1;32m/home/mladmin/code/examen-22/notebooks/01_eurosat.ipynb Cell 34'\u001b[0m in \u001b[0;36m<cell line: 1>\u001b[0;34m()\u001b[0m\n\u001b[0;32m----> <a href='vscode-notebook-cell://ssh-remote%2Bml-lab-499b0cc0-f0fa-444d-a905-b2d2bead7477.westeurope.cloudapp.azure.com/home/mladmin/code/examen-22/notebooks/01_eurosat.ipynb#ch0000033vscode-remote?line=0'>1</a>\u001b[0m get_ipython()\u001b[39m.\u001b[39;49mrun_line_magic(\u001b[39m'\u001b[39;49m\u001b[39mtimeit\u001b[39;49m\u001b[39m'\u001b[39;49m, \u001b[39m'\u001b[39;49m\u001b[39mx1, x2, y = next(streamer)\u001b[39;49m\u001b[39m'\u001b[39;49m)\n",
      "File \u001b[0;32m~/.cache/pypoetry/virtualenvs/exam-22-DDG3aTJy-py3.9/lib/python3.9/site-packages/IPython/core/interactiveshell.py:2305\u001b[0m, in \u001b[0;36mInteractiveShell.run_line_magic\u001b[0;34m(self, magic_name, line, _stack_depth)\u001b[0m\n\u001b[1;32m   2303\u001b[0m     kwargs[\u001b[39m'\u001b[39m\u001b[39mlocal_ns\u001b[39m\u001b[39m'\u001b[39m] \u001b[39m=\u001b[39m \u001b[39mself\u001b[39m\u001b[39m.\u001b[39mget_local_scope(stack_depth)\n\u001b[1;32m   2304\u001b[0m \u001b[39mwith\u001b[39;00m \u001b[39mself\u001b[39m\u001b[39m.\u001b[39mbuiltin_trap:\n\u001b[0;32m-> 2305\u001b[0m     result \u001b[39m=\u001b[39m fn(\u001b[39m*\u001b[39;49margs, \u001b[39m*\u001b[39;49m\u001b[39m*\u001b[39;49mkwargs)\n\u001b[1;32m   2306\u001b[0m \u001b[39mreturn\u001b[39;00m result\n",
      "File \u001b[0;32m~/.cache/pypoetry/virtualenvs/exam-22-DDG3aTJy-py3.9/lib/python3.9/site-packages/IPython/core/magics/execution.py:1162\u001b[0m, in \u001b[0;36mExecutionMagics.timeit\u001b[0;34m(self, line, cell, local_ns)\u001b[0m\n\u001b[1;32m   1160\u001b[0m \u001b[39mfor\u001b[39;00m index \u001b[39min\u001b[39;00m \u001b[39mrange\u001b[39m(\u001b[39m0\u001b[39m, \u001b[39m10\u001b[39m):\n\u001b[1;32m   1161\u001b[0m     number \u001b[39m=\u001b[39m \u001b[39m10\u001b[39m \u001b[39m*\u001b[39m\u001b[39m*\u001b[39m index\n\u001b[0;32m-> 1162\u001b[0m     time_number \u001b[39m=\u001b[39m timer\u001b[39m.\u001b[39;49mtimeit(number)\n\u001b[1;32m   1163\u001b[0m     \u001b[39mif\u001b[39;00m time_number \u001b[39m>\u001b[39m\u001b[39m=\u001b[39m \u001b[39m0.2\u001b[39m:\n\u001b[1;32m   1164\u001b[0m         \u001b[39mbreak\u001b[39;00m\n",
      "File \u001b[0;32m~/.cache/pypoetry/virtualenvs/exam-22-DDG3aTJy-py3.9/lib/python3.9/site-packages/IPython/core/magics/execution.py:156\u001b[0m, in \u001b[0;36mTimer.timeit\u001b[0;34m(self, number)\u001b[0m\n\u001b[1;32m    154\u001b[0m gc\u001b[39m.\u001b[39mdisable()\n\u001b[1;32m    155\u001b[0m \u001b[39mtry\u001b[39;00m:\n\u001b[0;32m--> 156\u001b[0m     timing \u001b[39m=\u001b[39m \u001b[39mself\u001b[39;49m\u001b[39m.\u001b[39;49minner(it, \u001b[39mself\u001b[39;49m\u001b[39m.\u001b[39;49mtimer)\n\u001b[1;32m    157\u001b[0m \u001b[39mfinally\u001b[39;00m:\n\u001b[1;32m    158\u001b[0m     \u001b[39mif\u001b[39;00m gcold:\n",
      "File \u001b[0;32m<magic-timeit>:1\u001b[0m, in \u001b[0;36minner\u001b[0;34m(_it, _timer)\u001b[0m\n",
      "File \u001b[0;32m~/code/examen-22/notebooks/../src/data/data_tools.py:341\u001b[0m, in \u001b[0;36mSiameseStreamer.stream\u001b[0;34m(self)\u001b[0m\n\u001b[1;32m    339\u001b[0m \u001b[39mif\u001b[39;00m \u001b[39mself\u001b[39m\u001b[39m.\u001b[39mindex \u001b[39m>\u001b[39m (\u001b[39mself\u001b[39m\u001b[39m.\u001b[39msize \u001b[39m-\u001b[39m \u001b[39mself\u001b[39m\u001b[39m.\u001b[39mbatchsize):\n\u001b[1;32m    340\u001b[0m     \u001b[39mself\u001b[39m\u001b[39m.\u001b[39mreset_index()\n\u001b[0;32m--> 341\u001b[0m batch \u001b[39m=\u001b[39m \u001b[39mself\u001b[39;49m\u001b[39m.\u001b[39;49mbatchloop()\n\u001b[1;32m    342\u001b[0m \u001b[39mif\u001b[39;00m \u001b[39mself\u001b[39m\u001b[39m.\u001b[39mpreprocessor \u001b[39mis\u001b[39;00m \u001b[39mnot\u001b[39;00m \u001b[39mNone\u001b[39;00m:\n\u001b[1;32m    343\u001b[0m     X1, X2, Y \u001b[39m=\u001b[39m \u001b[39mself\u001b[39m\u001b[39m.\u001b[39mpreprocessor(batch)  \u001b[39m# noqa N806\u001b[39;00m\n",
      "File \u001b[0;32m~/code/examen-22/notebooks/../src/data/data_tools.py:320\u001b[0m, in \u001b[0;36mSiameseStreamer.batchloop\u001b[0;34m(self)\u001b[0m\n\u001b[1;32m    318\u001b[0m     img_tif \u001b[39m=\u001b[39m tifffile\u001b[39m.\u001b[39mimread(tot_img)\n\u001b[1;32m    319\u001b[0m     img_int \u001b[39m=\u001b[39m np\u001b[39m.\u001b[39masarray(img_tif, dtype\u001b[39m=\u001b[39m\u001b[39m\"\u001b[39m\u001b[39mint32\u001b[39m\u001b[39m\"\u001b[39m)\n\u001b[0;32m--> 320\u001b[0m     batch\u001b[39m.\u001b[39;49mappend(img_int,\u001b[39m1\u001b[39;49m)\n\u001b[1;32m    321\u001b[0m     \u001b[39mself\u001b[39m\u001b[39m.\u001b[39mindex \u001b[39m+\u001b[39m\u001b[39m=\u001b[39m \u001b[39m1\u001b[39m\n\u001b[1;32m    323\u001b[0m \u001b[39mfor\u001b[39;00m idx \u001b[39min\u001b[39;00m other:\n\u001b[1;32m    324\u001b[0m     \u001b[39m# append to the batch a tuple (img1, img2, 0)\u001b[39;00m\n\u001b[1;32m    325\u001b[0m     \u001b[39m# use tifffile to read the image\u001b[39;00m\n\u001b[1;32m    326\u001b[0m     \u001b[39m# cast the image to np.int32\u001b[39;00m\n\u001b[1;32m    327\u001b[0m     \u001b[39m# TODO ~ 4 till 5 lines of code\u001b[39;00m\n",
      "\u001b[0;31mTypeError\u001b[0m: list.append() takes exactly one argument (2 given)"
     ]
    }
   ],
   "source": [
    "%timeit x1, x2, y = next(streamer)"
   ]
  },
  {
   "cell_type": "code",
   "execution_count": 27,
   "metadata": {},
   "outputs": [
    {
     "ename": "AttributeError",
     "evalue": "'PosixPath' object has no attribute 'shape'",
     "output_type": "error",
     "traceback": [
      "\u001b[0;31m---------------------------------------------------------------------------\u001b[0m",
      "\u001b[0;31mAttributeError\u001b[0m                            Traceback (most recent call last)",
      "\u001b[1;32m/home/mladmin/code/examen-22/notebooks/01_eurosat.ipynb Cell 36'\u001b[0m in \u001b[0;36m<cell line: 1>\u001b[0;34m()\u001b[0m\n\u001b[0;32m----> <a href='vscode-notebook-cell://ssh-remote%2Bml-lab-499b0cc0-f0fa-444d-a905-b2d2bead7477.westeurope.cloudapp.azure.com/home/mladmin/code/examen-22/notebooks/01_eurosat.ipynb#ch0000035vscode-remote?line=0'>1</a>\u001b[0m x1\u001b[39m.\u001b[39;49mshape, x2\u001b[39m.\u001b[39mshape\n",
      "\u001b[0;31mAttributeError\u001b[0m: 'PosixPath' object has no attribute 'shape'"
     ]
    }
   ],
   "source": [
    "x1.shape, x2.shape"
   ]
  },
  {
   "cell_type": "code",
   "execution_count": 28,
   "metadata": {},
   "outputs": [
    {
     "ename": "StopIteration",
     "evalue": "",
     "output_type": "error",
     "traceback": [
      "\u001b[0;31m---------------------------------------------------------------------------\u001b[0m",
      "\u001b[0;31mStopIteration\u001b[0m                             Traceback (most recent call last)",
      "\u001b[1;32m/home/mladmin/code/examen-22/notebooks/01_eurosat.ipynb Cell 37'\u001b[0m in \u001b[0;36m<cell line: 13>\u001b[0;34m()\u001b[0m\n\u001b[1;32m     <a href='vscode-notebook-cell://ssh-remote%2Bml-lab-499b0cc0-f0fa-444d-a905-b2d2bead7477.westeurope.cloudapp.azure.com/home/mladmin/code/examen-22/notebooks/01_eurosat.ipynb#ch0000036vscode-remote?line=11'>12</a>\u001b[0m axs \u001b[39m=\u001b[39m axs\u001b[39m.\u001b[39mravel()\n\u001b[1;32m     <a href='vscode-notebook-cell://ssh-remote%2Bml-lab-499b0cc0-f0fa-444d-a905-b2d2bead7477.westeurope.cloudapp.azure.com/home/mladmin/code/examen-22/notebooks/01_eurosat.ipynb#ch0000036vscode-remote?line=12'>13</a>\u001b[0m \u001b[39mfor\u001b[39;00m i \u001b[39min\u001b[39;00m \u001b[39mrange\u001b[39m(\u001b[39m9\u001b[39m):\n\u001b[0;32m---> <a href='vscode-notebook-cell://ssh-remote%2Bml-lab-499b0cc0-f0fa-444d-a905-b2d2bead7477.westeurope.cloudapp.azure.com/home/mladmin/code/examen-22/notebooks/01_eurosat.ipynb#ch0000036vscode-remote?line=13'>14</a>\u001b[0m     img1, img2, y \u001b[39m=\u001b[39m \u001b[39mnext\u001b[39;49m(streamer)\n\u001b[1;32m     <a href='vscode-notebook-cell://ssh-remote%2Bml-lab-499b0cc0-f0fa-444d-a905-b2d2bead7477.westeurope.cloudapp.azure.com/home/mladmin/code/examen-22/notebooks/01_eurosat.ipynb#ch0000036vscode-remote?line=14'>15</a>\u001b[0m     x \u001b[39m=\u001b[39m show_tif(img1[\u001b[39m0\u001b[39m])\n\u001b[1;32m     <a href='vscode-notebook-cell://ssh-remote%2Bml-lab-499b0cc0-f0fa-444d-a905-b2d2bead7477.westeurope.cloudapp.azure.com/home/mladmin/code/examen-22/notebooks/01_eurosat.ipynb#ch0000036vscode-remote?line=15'>16</a>\u001b[0m     axs[i]\u001b[39m.\u001b[39mimshow(x)\n",
      "\u001b[0;31mStopIteration\u001b[0m: "
     ]
    },
    {
     "data": {
      "image/png": "[encoded data removed]",
      "text/plain": [
       "<Figure size 720x720 with 9 Axes>"
      ]
     },
     "metadata": {
      "needs_background": "light"
     },
     "output_type": "display_data"
    }
   ],
   "source": [
    "import matplotlib.pyplot as plt\n",
    "\n",
    "\n",
    "def show_tif(img):\n",
    "    img_ = img[..., [1, 2, 3]]\n",
    "    x = img_.astype(np.int32)\n",
    "    x = x / x.max()\n",
    "    return x\n",
    "\n",
    "\n",
    "fig, axs = plt.subplots(3, 3, figsize=(10, 10))\n",
    "axs = axs.ravel()\n",
    "for i in range(9):\n",
    "    img1, img2, y = next(streamer)\n",
    "    x = show_tif(img1[0])\n",
    "    axs[i].imshow(x)\n"
   ]
  }
 ],
 "metadata": {
  "kernelspec": {
   "display_name": "Python 3.9.12 ('exam-22-DDG3aTJy-py3.9')",
   "language": "python",
   "name": "python3"
  },
  "language_info": {
   "codemirror_mode": {
    "name": "ipython",
    "version": 3
   },
   "file_extension": ".py",
   "mimetype": "text/x-python",
   "name": "python",
   "nbconvert_exporter": "python",
   "pygments_lexer": "ipython3",
   "version": "3.9.12"
  },
  "orig_nbformat": 4,
  "vscode": {
   "interpreter": {
    "hash": "3ef7eee7c1ffccdb050f8336de9a04a9ab88c4d3eb3bee3e0a27c87a184d1d38"
   }
  }
 },
 "nbformat": 4,
 "nbformat_minor": 2
}
